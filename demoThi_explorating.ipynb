{
 "cells": [
  {
   "cell_type": "markdown",
   "id": "611e5e0b-2b81-4970-a0a8-e933f13a7c2b",
   "metadata": {},
   "source": [
    "# 1. Import"
   ]
  },
  {
   "cell_type": "code",
   "execution_count": 11,
   "id": "67355eb5-05d7-4636-b871-339b55035be7",
   "metadata": {},
   "outputs": [],
   "source": [
    "import numpy as np  \n",
    "import pandas as pd  \n",
    "import matplotlib.pyplot as plt  "
   ]
  },
  {
   "cell_type": "markdown",
   "id": "73a313d0-1ddc-4755-b4b0-55a0fdf09e0e",
   "metadata": {},
   "source": [
    "# 2. Tiền xử lí"
   ]
  },
  {
   "cell_type": "markdown",
   "id": "2a05e173-1785-4015-8a12-17cce0719834",
   "metadata": {},
   "source": [
    "## 2.1. Đọc dữ liệu"
   ]
  },
  {
   "cell_type": "code",
   "execution_count": 17,
   "id": "90b30ab3-5410-4256-a01e-7b805b7ea47f",
   "metadata": {},
   "outputs": [
    {
     "data": {
      "text/html": [
       "<div>\n",
       "<style scoped>\n",
       "    .dataframe tbody tr th:only-of-type {\n",
       "        vertical-align: middle;\n",
       "    }\n",
       "\n",
       "    .dataframe tbody tr th {\n",
       "        vertical-align: top;\n",
       "    }\n",
       "\n",
       "    .dataframe thead th {\n",
       "        text-align: right;\n",
       "    }\n",
       "</style>\n",
       "<table border=\"1\" class=\"dataframe\">\n",
       "  <thead>\n",
       "    <tr style=\"text-align: right;\">\n",
       "      <th></th>\n",
       "      <th>Age</th>\n",
       "      <th>Sex</th>\n",
       "      <th>Race</th>\n",
       "      <th>Marital status?</th>\n",
       "      <th>Education</th>\n",
       "      <th>Employement</th>\n",
       "      <th>Incomes</th>\n",
       "      <th>How many books did you read during last 12months?</th>\n",
       "      <th>Read any printed books during last 12months?</th>\n",
       "      <th>Read any audiobooks during last 12months?</th>\n",
       "      <th>Read any e-books during last 12months?</th>\n",
       "      <th>Last book you read, you…</th>\n",
       "      <th>Do you happen to read any daily news or newspapers?</th>\n",
       "      <th>Do you happen to read any magazines or journals?</th>\n",
       "    </tr>\n",
       "  </thead>\n",
       "  <tbody>\n",
       "    <tr>\n",
       "      <th>0</th>\n",
       "      <td>66</td>\n",
       "      <td>Male</td>\n",
       "      <td>Refused</td>\n",
       "      <td>Divorced</td>\n",
       "      <td>College graduate</td>\n",
       "      <td>Retired</td>\n",
       "      <td>$20,000 to under $30,000</td>\n",
       "      <td>97</td>\n",
       "      <td>Yes</td>\n",
       "      <td>No</td>\n",
       "      <td>Yes</td>\n",
       "      <td>Purchased the book</td>\n",
       "      <td>No</td>\n",
       "      <td>Yes</td>\n",
       "    </tr>\n",
       "    <tr>\n",
       "      <th>1</th>\n",
       "      <td>46</td>\n",
       "      <td>Male</td>\n",
       "      <td>Native American/American Indian</td>\n",
       "      <td>Married</td>\n",
       "      <td>High school graduate</td>\n",
       "      <td>Employed full-time</td>\n",
       "      <td>Less than $10,000</td>\n",
       "      <td>97</td>\n",
       "      <td>Yes</td>\n",
       "      <td>Yes</td>\n",
       "      <td>Yes</td>\n",
       "      <td>Purchased the book</td>\n",
       "      <td>Yes</td>\n",
       "      <td>Yes</td>\n",
       "    </tr>\n",
       "    <tr>\n",
       "      <th>2</th>\n",
       "      <td>32</td>\n",
       "      <td>Male</td>\n",
       "      <td>Mixed race</td>\n",
       "      <td>Never been married</td>\n",
       "      <td>High school graduate</td>\n",
       "      <td>Employed full-time</td>\n",
       "      <td>Less than $10,000</td>\n",
       "      <td>97</td>\n",
       "      <td>No</td>\n",
       "      <td>Yes</td>\n",
       "      <td>Yes</td>\n",
       "      <td>Borrowed the book from a friend or family member</td>\n",
       "      <td>Yes</td>\n",
       "      <td>Yes</td>\n",
       "    </tr>\n",
       "    <tr>\n",
       "      <th>3</th>\n",
       "      <td>27</td>\n",
       "      <td>Male</td>\n",
       "      <td>Mixed race</td>\n",
       "      <td>Married</td>\n",
       "      <td>High school graduate</td>\n",
       "      <td>Employed full-time</td>\n",
       "      <td>$40,000 to under $50,000</td>\n",
       "      <td>97</td>\n",
       "      <td>Yes</td>\n",
       "      <td>No</td>\n",
       "      <td>Yes</td>\n",
       "      <td>Borrowed the book from a library</td>\n",
       "      <td>Yes</td>\n",
       "      <td>No</td>\n",
       "    </tr>\n",
       "    <tr>\n",
       "      <th>4</th>\n",
       "      <td>16</td>\n",
       "      <td>Female</td>\n",
       "      <td>Mixed race</td>\n",
       "      <td>Never been married</td>\n",
       "      <td>High school incomplete</td>\n",
       "      <td>Employed part-time</td>\n",
       "      <td>$10,000 to under $20,000</td>\n",
       "      <td>97</td>\n",
       "      <td>Yes</td>\n",
       "      <td>Yes</td>\n",
       "      <td>No</td>\n",
       "      <td>Purchased the book</td>\n",
       "      <td>Yes</td>\n",
       "      <td>No</td>\n",
       "    </tr>\n",
       "    <tr>\n",
       "      <th>...</th>\n",
       "      <td>...</td>\n",
       "      <td>...</td>\n",
       "      <td>...</td>\n",
       "      <td>...</td>\n",
       "      <td>...</td>\n",
       "      <td>...</td>\n",
       "      <td>...</td>\n",
       "      <td>...</td>\n",
       "      <td>...</td>\n",
       "      <td>...</td>\n",
       "      <td>...</td>\n",
       "      <td>...</td>\n",
       "      <td>...</td>\n",
       "      <td>...</td>\n",
       "    </tr>\n",
       "    <tr>\n",
       "      <th>2827</th>\n",
       "      <td>18</td>\n",
       "      <td>Male</td>\n",
       "      <td>White</td>\n",
       "      <td>Never been married</td>\n",
       "      <td>High school graduate</td>\n",
       "      <td>Employed part-time</td>\n",
       "      <td>$75,000 to under $100,000</td>\n",
       "      <td>0</td>\n",
       "      <td>NaN</td>\n",
       "      <td>NaN</td>\n",
       "      <td>NaN</td>\n",
       "      <td>NaN</td>\n",
       "      <td>Yes</td>\n",
       "      <td>Yes</td>\n",
       "    </tr>\n",
       "    <tr>\n",
       "      <th>2828</th>\n",
       "      <td>17</td>\n",
       "      <td>Male</td>\n",
       "      <td>White</td>\n",
       "      <td>Never been married</td>\n",
       "      <td>High school incomplete</td>\n",
       "      <td>Employed part-time</td>\n",
       "      <td>$30,000 to under $40,000</td>\n",
       "      <td>0</td>\n",
       "      <td>NaN</td>\n",
       "      <td>NaN</td>\n",
       "      <td>NaN</td>\n",
       "      <td>NaN</td>\n",
       "      <td>Yes</td>\n",
       "      <td>No</td>\n",
       "    </tr>\n",
       "    <tr>\n",
       "      <th>2829</th>\n",
       "      <td>17</td>\n",
       "      <td>Female</td>\n",
       "      <td>White</td>\n",
       "      <td>Never been married</td>\n",
       "      <td>High school incomplete</td>\n",
       "      <td>Not employed for pay</td>\n",
       "      <td>9$100,000 to under $150,000</td>\n",
       "      <td>0</td>\n",
       "      <td>NaN</td>\n",
       "      <td>NaN</td>\n",
       "      <td>NaN</td>\n",
       "      <td>NaN</td>\n",
       "      <td>No</td>\n",
       "      <td>Yes</td>\n",
       "    </tr>\n",
       "    <tr>\n",
       "      <th>2830</th>\n",
       "      <td>16</td>\n",
       "      <td>Male</td>\n",
       "      <td>White</td>\n",
       "      <td>Never been married</td>\n",
       "      <td>High school graduate</td>\n",
       "      <td>Not employed for pay</td>\n",
       "      <td>9$100,000 to under $150,000</td>\n",
       "      <td>0</td>\n",
       "      <td>NaN</td>\n",
       "      <td>NaN</td>\n",
       "      <td>NaN</td>\n",
       "      <td>NaN</td>\n",
       "      <td>No</td>\n",
       "      <td>No</td>\n",
       "    </tr>\n",
       "    <tr>\n",
       "      <th>2831</th>\n",
       "      <td>16</td>\n",
       "      <td>Male</td>\n",
       "      <td>White</td>\n",
       "      <td>Never been married</td>\n",
       "      <td>Don’t know</td>\n",
       "      <td>Not employed for pay</td>\n",
       "      <td>Refused</td>\n",
       "      <td>0</td>\n",
       "      <td>NaN</td>\n",
       "      <td>NaN</td>\n",
       "      <td>NaN</td>\n",
       "      <td>NaN</td>\n",
       "      <td>No</td>\n",
       "      <td>No</td>\n",
       "    </tr>\n",
       "  </tbody>\n",
       "</table>\n",
       "<p>2832 rows × 14 columns</p>\n",
       "</div>"
      ],
      "text/plain": [
       "      Age     Sex                             Race     Marital status?  \\\n",
       "0      66    Male                          Refused            Divorced   \n",
       "1      46    Male  Native American/American Indian             Married   \n",
       "2      32    Male                       Mixed race  Never been married   \n",
       "3      27    Male                       Mixed race             Married   \n",
       "4      16  Female                       Mixed race  Never been married   \n",
       "...   ...     ...                              ...                 ...   \n",
       "2827   18    Male                            White  Never been married   \n",
       "2828   17    Male                            White  Never been married   \n",
       "2829   17  Female                            White  Never been married   \n",
       "2830   16    Male                            White  Never been married   \n",
       "2831   16    Male                            White  Never been married   \n",
       "\n",
       "                   Education           Employement  \\\n",
       "0           College graduate               Retired   \n",
       "1       High school graduate    Employed full-time   \n",
       "2       High school graduate    Employed full-time   \n",
       "3       High school graduate    Employed full-time   \n",
       "4     High school incomplete    Employed part-time   \n",
       "...                      ...                   ...   \n",
       "2827    High school graduate    Employed part-time   \n",
       "2828  High school incomplete    Employed part-time   \n",
       "2829  High school incomplete  Not employed for pay   \n",
       "2830    High school graduate  Not employed for pay   \n",
       "2831              Don’t know  Not employed for pay   \n",
       "\n",
       "                          Incomes  \\\n",
       "0        $20,000 to under $30,000   \n",
       "1               Less than $10,000   \n",
       "2               Less than $10,000   \n",
       "3        $40,000 to under $50,000   \n",
       "4        $10,000 to under $20,000   \n",
       "...                           ...   \n",
       "2827    $75,000 to under $100,000   \n",
       "2828     $30,000 to under $40,000   \n",
       "2829  9$100,000 to under $150,000   \n",
       "2830  9$100,000 to under $150,000   \n",
       "2831                      Refused   \n",
       "\n",
       "      How many books did you read during last 12months?  \\\n",
       "0                                                    97   \n",
       "1                                                    97   \n",
       "2                                                    97   \n",
       "3                                                    97   \n",
       "4                                                    97   \n",
       "...                                                 ...   \n",
       "2827                                                  0   \n",
       "2828                                                  0   \n",
       "2829                                                  0   \n",
       "2830                                                  0   \n",
       "2831                                                  0   \n",
       "\n",
       "     Read any printed books during last 12months?  \\\n",
       "0                                             Yes   \n",
       "1                                             Yes   \n",
       "2                                              No   \n",
       "3                                             Yes   \n",
       "4                                             Yes   \n",
       "...                                           ...   \n",
       "2827                                          NaN   \n",
       "2828                                          NaN   \n",
       "2829                                          NaN   \n",
       "2830                                          NaN   \n",
       "2831                                          NaN   \n",
       "\n",
       "     Read any audiobooks during last 12months?  \\\n",
       "0                                           No   \n",
       "1                                          Yes   \n",
       "2                                          Yes   \n",
       "3                                           No   \n",
       "4                                          Yes   \n",
       "...                                        ...   \n",
       "2827                                       NaN   \n",
       "2828                                       NaN   \n",
       "2829                                       NaN   \n",
       "2830                                       NaN   \n",
       "2831                                       NaN   \n",
       "\n",
       "     Read any e-books during last 12months?  \\\n",
       "0                                       Yes   \n",
       "1                                       Yes   \n",
       "2                                       Yes   \n",
       "3                                       Yes   \n",
       "4                                        No   \n",
       "...                                     ...   \n",
       "2827                                    NaN   \n",
       "2828                                    NaN   \n",
       "2829                                    NaN   \n",
       "2830                                    NaN   \n",
       "2831                                    NaN   \n",
       "\n",
       "                              Last book you read, you…  \\\n",
       "0                                   Purchased the book   \n",
       "1                                   Purchased the book   \n",
       "2     Borrowed the book from a friend or family member   \n",
       "3                     Borrowed the book from a library   \n",
       "4                                   Purchased the book   \n",
       "...                                                ...   \n",
       "2827                                               NaN   \n",
       "2828                                               NaN   \n",
       "2829                                               NaN   \n",
       "2830                                               NaN   \n",
       "2831                                               NaN   \n",
       "\n",
       "     Do you happen to read any daily news or newspapers?  \\\n",
       "0                                                    No    \n",
       "1                                                   Yes    \n",
       "2                                                   Yes    \n",
       "3                                                   Yes    \n",
       "4                                                   Yes    \n",
       "...                                                 ...    \n",
       "2827                                                Yes    \n",
       "2828                                                Yes    \n",
       "2829                                                 No    \n",
       "2830                                                 No    \n",
       "2831                                                 No    \n",
       "\n",
       "     Do you happen to read any magazines or journals?  \n",
       "0                                                 Yes  \n",
       "1                                                 Yes  \n",
       "2                                                 Yes  \n",
       "3                                                  No  \n",
       "4                                                  No  \n",
       "...                                               ...  \n",
       "2827                                              Yes  \n",
       "2828                                               No  \n",
       "2829                                              Yes  \n",
       "2830                                               No  \n",
       "2831                                               No  \n",
       "\n",
       "[2832 rows x 14 columns]"
      ]
     },
     "execution_count": 17,
     "metadata": {},
     "output_type": "execute_result"
    }
   ],
   "source": [
    "gas_df = pd.read_csv(\"./BigML_Dataset_5f50a62795a9306aa200003e.csv\")\n",
    "gas_df"
   ]
  },
  {
   "cell_type": "markdown",
   "id": "54f1cb79-e934-4ccc-a896-2bca6a70b829",
   "metadata": {},
   "source": [
    "## 2.2. Số lượng dòng, cột"
   ]
  },
  {
   "cell_type": "code",
   "execution_count": 20,
   "id": "159a350e-2961-481c-baf1-25e2dd9aae4e",
   "metadata": {},
   "outputs": [
    {
     "name": "stdout",
     "output_type": "stream",
     "text": [
      "Số dòng: 2832, Số cột: 14\n"
     ]
    }
   ],
   "source": [
    "rows, columns = data.shape\n",
    "print(f\"Số dòng: {rows}, Số cột: {columns}\")"
   ]
  },
  {
   "cell_type": "markdown",
   "id": "80463f06-de67-4259-9f08-78ccaae43100",
   "metadata": {},
   "source": [
    "## 2.3. Ý nghĩa của mỗi dòng\n",
    "- Mỗi dòng đại diện cho một cá nhân với thông tin về độ tuổi, giới tính, chủng tộc, tình trạng hôn nhân, học vấn, thu nhập và thói quen đọc sách trong 12 tháng qua.\n",
    "(có thể trình bày cụ thể từng dòng)"
   ]
  },
  {
   "cell_type": "markdown",
   "id": "6eaf3347-99b2-4a9d-9098-11164f78faac",
   "metadata": {},
   "source": [
    "## 2.4. Có dòng nào bị trùng lặp không? "
   ]
  },
  {
   "cell_type": "code",
   "execution_count": 28,
   "id": "31e3b476-8b15-4b27-a538-742f91e32488",
   "metadata": {},
   "outputs": [
    {
     "name": "stdout",
     "output_type": "stream",
     "text": [
      "Số dòng trùng lặp: 1\n"
     ]
    }
   ],
   "source": [
    "duplicated_rows = data.duplicated().sum()\n",
    "print(f\"Số dòng trùng lặp: {duplicated_rows}\")"
   ]
  },
  {
   "cell_type": "code",
   "execution_count": 32,
   "id": "c95aa8c6-0b40-4466-8fc5-2cf370c97cc6",
   "metadata": {},
   "outputs": [
    {
     "data": {
      "text/html": [
       "<div>\n",
       "<style scoped>\n",
       "    .dataframe tbody tr th:only-of-type {\n",
       "        vertical-align: middle;\n",
       "    }\n",
       "\n",
       "    .dataframe tbody tr th {\n",
       "        vertical-align: top;\n",
       "    }\n",
       "\n",
       "    .dataframe thead th {\n",
       "        text-align: right;\n",
       "    }\n",
       "</style>\n",
       "<table border=\"1\" class=\"dataframe\">\n",
       "  <thead>\n",
       "    <tr style=\"text-align: right;\">\n",
       "      <th></th>\n",
       "      <th>Age</th>\n",
       "      <th>Sex</th>\n",
       "      <th>Race</th>\n",
       "      <th>Marital status?</th>\n",
       "      <th>Education</th>\n",
       "      <th>Employement</th>\n",
       "      <th>Incomes</th>\n",
       "      <th>How many books did you read during last 12months?</th>\n",
       "      <th>Read any printed books during last 12months?</th>\n",
       "      <th>Read any audiobooks during last 12months?</th>\n",
       "      <th>Read any e-books during last 12months?</th>\n",
       "      <th>Last book you read, you…</th>\n",
       "      <th>Do you happen to read any daily news or newspapers?</th>\n",
       "      <th>Do you happen to read any magazines or journals?</th>\n",
       "    </tr>\n",
       "  </thead>\n",
       "  <tbody>\n",
       "    <tr>\n",
       "      <th>1023</th>\n",
       "      <td>65</td>\n",
       "      <td>Male</td>\n",
       "      <td>White</td>\n",
       "      <td>Married</td>\n",
       "      <td>College graduate</td>\n",
       "      <td>Retired</td>\n",
       "      <td>$75,000 to under $100,000</td>\n",
       "      <td>12</td>\n",
       "      <td>Yes</td>\n",
       "      <td>No</td>\n",
       "      <td>Yes</td>\n",
       "      <td>Purchased the book</td>\n",
       "      <td>Yes</td>\n",
       "      <td>Yes</td>\n",
       "    </tr>\n",
       "  </tbody>\n",
       "</table>\n",
       "</div>"
      ],
      "text/plain": [
       "      Age   Sex   Race Marital status?         Education Employement  \\\n",
       "1023   65  Male  White         Married  College graduate     Retired   \n",
       "\n",
       "                        Incomes  \\\n",
       "1023  $75,000 to under $100,000   \n",
       "\n",
       "      How many books did you read during last 12months?  \\\n",
       "1023                                                 12   \n",
       "\n",
       "     Read any printed books during last 12months?  \\\n",
       "1023                                          Yes   \n",
       "\n",
       "     Read any audiobooks during last 12months?  \\\n",
       "1023                                        No   \n",
       "\n",
       "     Read any e-books during last 12months? Last book you read, you…  \\\n",
       "1023                                    Yes       Purchased the book   \n",
       "\n",
       "     Do you happen to read any daily news or newspapers?  \\\n",
       "1023                                                Yes    \n",
       "\n",
       "     Do you happen to read any magazines or journals?  \n",
       "1023                                              Yes  "
      ]
     },
     "execution_count": 32,
     "metadata": {},
     "output_type": "execute_result"
    }
   ],
   "source": [
    "duplicated_rows = data[data.duplicated()]\n",
    "duplicated_rows # Hiển thị dòng trùng lặp"
   ]
  },
  {
   "cell_type": "markdown",
   "id": "f8e62f29-2b8f-427e-83e0-23057a40c1d7",
   "metadata": {},
   "source": [
    "## 2.5. Ý nghĩa của từng cột\n",
    "- Age: Tuổi của cá nhân.\n",
    "Đại diện cho tuổi của người tham gia khảo sát.\n",
    "- Sex: Giới tính của cá nhân.\n",
    "Cho biết giới tính (Male - Nam, Female - Nữ).\n",
    "- Race: Chủng tộc của cá nhân.\n",
    "Chỉ ra chủng tộc hoặc sắc tộc của người tham gia (Ví dụ: Mixed race, Native American, v.v.).\n",
    "- Marital status?: Tình trạng hôn nhân của cá nhân.\n",
    "Cho biết người đó đã kết hôn, chưa kết hôn, ly dị, hoặc góa phụ.\n",
    "- Education: Trình độ học vấn của cá nhân.\n",
    "Mô tả mức độ học vấn cao nhất mà người đó đã đạt được (Ví dụ: High school graduate, College graduate).\n",
    "- Employement: Tình trạng việc làm của cá nhân.\n",
    "Thông tin về trạng thái việc làm của người tham gia (Ví dụ: Employed full-time, Employed part-time, Retired).\n",
    "- Incomes: Mức thu nhập của cá nhân.\n",
    "Mô tả khoảng thu nhập hàng năm của người đó (Ví dụ: Less than $10,000, $20,000 to under $30,000).\n",
    "- How many books did you read during last 12 months?: Số sách mà cá nhân đã đọc trong 12 tháng qua.\n",
    "Đây là một câu hỏi về thói quen đọc sách, ghi lại số lượng sách đã đọc.\n",
    "- Read any printed books during last 12 months?: Xác nhận xem người đó có đọc sách in trong 12 tháng qua hay không.\n",
    "(Yes - Có, No - Không).\n",
    "- Read any audiobooks during last 12 months?: Xác nhận xem người đó có nghe sách nói trong 12 tháng qua hay không.\n",
    "(Yes - Có, No - Không).\n",
    "- Read any e-books during last 12 months?: Xác nhận xem người đó có đọc sách điện tử (e-book) trong 12 tháng qua hay không.\n",
    "(Yes - Có, No - Không).\n",
    "- Last book you read, you…: Cách mà họ có được cuốn sách cuối cùng mà họ đã đọc.\n",
    "Mô tả cách người ta có được cuốn sách cuối cùng (Ví dụ: Purchased the book - Mua sách, Borrowed from a library - Mượn từ thư viện).\n",
    "- Do you happen to read any daily news or newspapers?: Câu hỏi xác nhận thói quen đọc báo hoặc tin tức hằng ngày.\n",
    "(Yes - Có, No - Không).\n",
    "- Do you happen to read any magazines or journals?: Câu hỏi xác nhận xem người tham gia có đọc tạp chí hoặc báo chí không.\n",
    "(Yes - Có, No - Không)."
   ]
  },
  {
   "cell_type": "markdown",
   "id": "dc9cb967-93bb-4d24-b942-5c0f7e1ed10a",
   "metadata": {},
   "source": [
    "## 2.6. Kiểu dữ liệu của mỗi cột. Có cột nào có kiểu dữ liệu không phù hợp?"
   ]
  },
  {
   "cell_type": "code",
   "execution_count": 36,
   "id": "72b97472-cb58-4681-8905-6bccd711fcb7",
   "metadata": {},
   "outputs": [
    {
     "name": "stdout",
     "output_type": "stream",
     "text": [
      "Age                                                     int64\n",
      "Sex                                                    object\n",
      "Race                                                   object\n",
      "Marital status?                                        object\n",
      "Education                                              object\n",
      "Employement                                            object\n",
      "Incomes                                                object\n",
      "How many books did you read during last 12months?       int64\n",
      "Read any printed books during last 12months?           object\n",
      "Read any audiobooks during last 12months?              object\n",
      "Read any e-books during last 12months?                 object\n",
      "Last book you read, you…                               object\n",
      "Do you happen to read any daily news or newspapers?    object\n",
      "Do you happen to read any magazines or journals?       object\n",
      "dtype: object\n"
     ]
    }
   ],
   "source": [
    "data_types = data.dtypes\n",
    "print(data_types)"
   ]
  },
  {
   "cell_type": "markdown",
   "id": "bc051d1b-25cb-4c24-acc7-77384f6ff2d0",
   "metadata": {},
   "source": [
    "Tất cả các cột đều có kiểu dữ liệu phù hợp với nội dung mà chúng biểu diễn. Không có cột nào có kiểu dữ liệu không phù hợp"
   ]
  },
  {
   "cell_type": "markdown",
   "id": "6dc39e8e-d85f-4748-b4a0-e924e77298a2",
   "metadata": {},
   "source": [
    "## 2.7. Với mỗi cột số, các giá trị được phân bổ như thế nào?\n",
    "### Tỉ lệ phần trăm giá trị bị thiếu?"
   ]
  },
  {
   "cell_type": "code",
   "execution_count": 42,
   "id": "bb43bda2-d636-466f-ad2b-65e5c434b735",
   "metadata": {},
   "outputs": [
    {
     "name": "stdout",
     "output_type": "stream",
     "text": [
      "Tỷ lệ phần trăm giá trị bị thiếu trong các cột số:\n",
      "Age                                                  0.0\n",
      "How many books did you read during last 12months?    0.0\n",
      "dtype: float64\n"
     ]
    }
   ],
   "source": [
    "numerical_columns = data.select_dtypes(include=['int64', 'float64']).columns\n",
    "missing_percent = data[numerical_columns].isnull().mean() * 100\n",
    "print(\"Tỷ lệ phần trăm giá trị bị thiếu trong các cột số:\")\n",
    "print(missing_percent)"
   ]
  },
  {
   "cell_type": "markdown",
   "id": "cc75a79e-5758-4d0e-8e5b-a7c8fa485beb",
   "metadata": {},
   "source": [
    "- Không có giá trị nào bị thiếu trong các cột số, vì tất cả các giá trị đều là số nguyên và không có NaN"
   ]
  },
  {
   "cell_type": "markdown",
   "id": "302fb3e6-ac2c-4a32-9b8a-f2be8d5784b4",
   "metadata": {},
   "source": [
    "### Giá trị Min? Max?"
   ]
  },
  {
   "cell_type": "code",
   "execution_count": 49,
   "id": "a8437b5a-d1a5-4135-8796-a721d6c97c80",
   "metadata": {},
   "outputs": [
    {
     "name": "stdout",
     "output_type": "stream",
     "text": [
      "Giá trị Min và Max của các cột số:\n",
      "     Age  How many books did you read during last 12months?\n",
      "min   16                                                  0\n",
      "max   93                                                 97\n"
     ]
    }
   ],
   "source": [
    "min_max_values = data[numerical_columns].agg(['min', 'max'])\n",
    "print(\"Giá trị Min và Max của các cột số:\")\n",
    "print(min_max_values)"
   ]
  },
  {
   "cell_type": "markdown",
   "id": "96eb5374-152a-4862-9b6b-6fc56236220b",
   "metadata": {},
   "source": [
    "- Age: Min = 16, Max = 93, giá trị này nằm trong khoảng hợp lý cho độ tuổi của người tham gia. Nếu min nhỏ hơn hoặc bằng 0 thì có thể coi là bất thường.\n",
    "- How many books did you read during last 12 months?: Min = 0, Max = 97. Giá trị Max có thể hơi cao nhưng vẫn có thể xảy ra đối với những người có thói quen đọc nhiều."
   ]
  },
  {
   "cell_type": "markdown",
   "id": "f30a8914-dc2b-43e4-a014-3a39d7e94862",
   "metadata": {},
   "source": [
    "## 2.8. Với mỗi cột phân loại, các giá trị được phân bổ như thế nào?\n",
    "### Tỉ lệ phần trăm giá trị bị thiếu?"
   ]
  },
  {
   "cell_type": "code",
   "execution_count": 53,
   "id": "16ff090f-4e11-4311-8aa8-2026ba850278",
   "metadata": {},
   "outputs": [
    {
     "name": "stdout",
     "output_type": "stream",
     "text": [
      "Tỷ lệ phần trăm giá trị bị thiếu trong các cột phân loại:\n",
      "Sex                                                     0.000000\n",
      "Race                                                    0.000000\n",
      "Marital status?                                         0.000000\n",
      "Education                                               2.048023\n",
      "Employement                                             0.000000\n",
      "Incomes                                                 0.000000\n",
      "Read any printed books during last 12months?           13.771186\n",
      "Read any audiobooks during last 12months?              13.771186\n",
      "Read any e-books during last 12months?                 13.771186\n",
      "Last book you read, you…                               13.771186\n",
      "Do you happen to read any daily news or newspapers?     0.000000\n",
      "Do you happen to read any magazines or journals?        0.000000\n",
      "dtype: float64\n"
     ]
    }
   ],
   "source": [
    "categorical_columns = data.select_dtypes(include=['object']).columns\n",
    "missing_percent_categorical = data[categorical_columns].isnull().mean() * 100\n",
    "print(\"Tỷ lệ phần trăm giá trị bị thiếu trong các cột phân loại:\")\n",
    "print(missing_percent_categorical)"
   ]
  },
  {
   "cell_type": "markdown",
   "id": "ec1ce437-51c3-44e1-93a1-6f39f18a875c",
   "metadata": {},
   "source": [
    "### Các giá trị khác nhau"
   ]
  },
  {
   "cell_type": "code",
   "execution_count": 56,
   "id": "6b7c5bef-fb92-46fb-b7ff-3976e43cf0d2",
   "metadata": {},
   "outputs": [
    {
     "name": "stdout",
     "output_type": "stream",
     "text": [
      "Số lượng giá trị khác nhau trong mỗi cột phân loại:\n",
      "Sex                                                     2\n",
      "Race                                                    8\n",
      "Marital status?                                         8\n",
      "Education                                               7\n",
      "Employement                                             8\n",
      "Incomes                                                10\n",
      "Read any printed books during last 12months?            3\n",
      "Read any audiobooks during last 12months?               3\n",
      "Read any e-books during last 12months?                  3\n",
      "Last book you read, you…                                6\n",
      "Do you happen to read any daily news or newspapers?     3\n",
      "Do you happen to read any magazines or journals?        3\n",
      "dtype: int64\n",
      "\n",
      "Một vài giá trị khác nhau trong các cột phân loại:\n",
      "Sex: ['Male' 'Female']\n",
      "Race: ['Refused' 'Native American/American Indian' 'Mixed race'\n",
      " 'Asian or Pacific Islander' 'Black or African-American']\n",
      "Marital status?: ['Divorced' 'Married' 'Never been married' 'Widowed' 'Don’t know']\n",
      "Education: ['College graduate' 'High school graduate' 'High school incomplete'\n",
      " 'Some college, no 4-year degree'\n",
      " 'Post-graduate training/professional school after college']\n",
      "Employement: ['Retired' 'Employed full-time' 'Employed part-time'\n",
      " 'Have own business/self-employed' 'Student']\n",
      "Incomes: ['$20,000 to under $30,000' 'Less than $10,000' '$40,000 to under $50,000'\n",
      " '$10,000 to under $20,000' '$50,000 to under $75,000']\n",
      "Read any printed books during last 12months?: ['Yes' 'No' 'Don’t know' nan]\n",
      "Read any audiobooks during last 12months?: ['No' 'Yes' 'Don’t know' nan]\n",
      "Read any e-books during last 12months?: ['Yes' 'No' 'Don’t know' nan]\n",
      "Last book you read, you…: ['Purchased the book' 'Borrowed the book from a friend or family member'\n",
      " 'Borrowed the book from a library' 'Got the book some other way' '8']\n",
      "Do you happen to read any daily news or newspapers?: ['No' 'Yes' 'Don’t know']\n",
      "Do you happen to read any magazines or journals?: ['Yes' 'No' 'Don’t know']\n"
     ]
    }
   ],
   "source": [
    "unique_values_categorical = {col: data[col].unique()[:5] for col in categorical_columns}\n",
    "num_unique_values = data[categorical_columns].nunique()\n",
    "print(\"Số lượng giá trị khác nhau trong mỗi cột phân loại:\")\n",
    "print(num_unique_values)\n",
    "print(\"\\nMột vài giá trị khác nhau trong các cột phân loại:\")\n",
    "for col, values in unique_values_categorical.items():\n",
    "    print(f\"{col}: {values}\")"
   ]
  },
  {
   "cell_type": "markdown",
   "id": "1d69ccf1-c91f-4a22-92ee-c23e8425ef7f",
   "metadata": {},
   "source": [
    "### Có gì bất thường không?\n",
    "- Nếu cột Sex có giá trị khác ngoài Male và Female thì sẽ là bất thường.\n",
    "- Cột Race có giá trị Refuse"
   ]
  },
  {
   "cell_type": "code",
   "execution_count": null,
   "id": "19647b95-9e56-4941-8563-86eb7693fa3b",
   "metadata": {},
   "outputs": [],
   "source": []
  }
 ],
 "metadata": {
  "kernelspec": {
   "display_name": "Python 3 (ipykernel)",
   "language": "python",
   "name": "python3"
  },
  "language_info": {
   "codemirror_mode": {
    "name": "ipython",
    "version": 3
   },
   "file_extension": ".py",
   "mimetype": "text/x-python",
   "name": "python",
   "nbconvert_exporter": "python",
   "pygments_lexer": "ipython3",
   "version": "3.12.4"
  }
 },
 "nbformat": 4,
 "nbformat_minor": 5
}
