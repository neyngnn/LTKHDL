{
 "cells": [
  {
   "cell_type": "code",
   "execution_count": 3,
   "metadata": {},
   "outputs": [],
   "source": [
    "import warnings \n",
    "warnings.filterwarnings('ignore')\n",
    "\n",
    "import pandas as pd\n",
    "import numpy as np\n",
    "import matplotlib.pyplot as plt\n",
    "import seaborn as sns\n",
    "\n",
    "pd.set_option('display.max_columns', None)"
   ]
  },
  {
   "cell_type": "code",
   "execution_count": 4,
   "metadata": {},
   "outputs": [
    {
     "data": {
      "text/html": [
       "<div>\n",
       "<style scoped>\n",
       "    .dataframe tbody tr th:only-of-type {\n",
       "        vertical-align: middle;\n",
       "    }\n",
       "\n",
       "    .dataframe tbody tr th {\n",
       "        vertical-align: top;\n",
       "    }\n",
       "\n",
       "    .dataframe thead th {\n",
       "        text-align: right;\n",
       "    }\n",
       "</style>\n",
       "<table border=\"1\" class=\"dataframe\">\n",
       "  <thead>\n",
       "    <tr style=\"text-align: right;\">\n",
       "      <th></th>\n",
       "      <th>age</th>\n",
       "      <th>sex</th>\n",
       "      <th>race</th>\n",
       "      <th>marital_status</th>\n",
       "      <th>education</th>\n",
       "      <th>employment_status</th>\n",
       "      <th>income_level</th>\n",
       "      <th>books_read_last_12m</th>\n",
       "      <th>read_printed_books_last_12m</th>\n",
       "      <th>read_audiobooks_last_12m</th>\n",
       "      <th>read_ebooks_last_12m</th>\n",
       "      <th>last_book_read_format</th>\n",
       "      <th>read_daily_news</th>\n",
       "      <th>read_magazines_journals</th>\n",
       "    </tr>\n",
       "  </thead>\n",
       "  <tbody>\n",
       "    <tr>\n",
       "      <th>0</th>\n",
       "      <td>66</td>\n",
       "      <td>Male</td>\n",
       "      <td>Refused</td>\n",
       "      <td>Divorced</td>\n",
       "      <td>College graduate</td>\n",
       "      <td>Retired</td>\n",
       "      <td>3</td>\n",
       "      <td>97</td>\n",
       "      <td>Yes</td>\n",
       "      <td>No</td>\n",
       "      <td>Yes</td>\n",
       "      <td>Purchased the book</td>\n",
       "      <td>No</td>\n",
       "      <td>Yes</td>\n",
       "    </tr>\n",
       "    <tr>\n",
       "      <th>1</th>\n",
       "      <td>46</td>\n",
       "      <td>Male</td>\n",
       "      <td>Native American/American Indian</td>\n",
       "      <td>Married</td>\n",
       "      <td>High school graduate</td>\n",
       "      <td>Employed full-time</td>\n",
       "      <td>1</td>\n",
       "      <td>97</td>\n",
       "      <td>Yes</td>\n",
       "      <td>Yes</td>\n",
       "      <td>Yes</td>\n",
       "      <td>Purchased the book</td>\n",
       "      <td>Yes</td>\n",
       "      <td>Yes</td>\n",
       "    </tr>\n",
       "    <tr>\n",
       "      <th>2</th>\n",
       "      <td>32</td>\n",
       "      <td>Male</td>\n",
       "      <td>Mixed race</td>\n",
       "      <td>Never been married</td>\n",
       "      <td>High school graduate</td>\n",
       "      <td>Employed full-time</td>\n",
       "      <td>1</td>\n",
       "      <td>97</td>\n",
       "      <td>No</td>\n",
       "      <td>Yes</td>\n",
       "      <td>Yes</td>\n",
       "      <td>Borrowed the book from a friend or family member</td>\n",
       "      <td>Yes</td>\n",
       "      <td>Yes</td>\n",
       "    </tr>\n",
       "    <tr>\n",
       "      <th>3</th>\n",
       "      <td>27</td>\n",
       "      <td>Male</td>\n",
       "      <td>Mixed race</td>\n",
       "      <td>Married</td>\n",
       "      <td>High school graduate</td>\n",
       "      <td>Employed full-time</td>\n",
       "      <td>5</td>\n",
       "      <td>97</td>\n",
       "      <td>Yes</td>\n",
       "      <td>No</td>\n",
       "      <td>Yes</td>\n",
       "      <td>Borrowed the book from a library</td>\n",
       "      <td>Yes</td>\n",
       "      <td>No</td>\n",
       "    </tr>\n",
       "    <tr>\n",
       "      <th>4</th>\n",
       "      <td>16</td>\n",
       "      <td>Female</td>\n",
       "      <td>Mixed race</td>\n",
       "      <td>Never been married</td>\n",
       "      <td>High school incomplete</td>\n",
       "      <td>Employed part-time</td>\n",
       "      <td>2</td>\n",
       "      <td>97</td>\n",
       "      <td>Yes</td>\n",
       "      <td>Yes</td>\n",
       "      <td>No</td>\n",
       "      <td>Purchased the book</td>\n",
       "      <td>Yes</td>\n",
       "      <td>No</td>\n",
       "    </tr>\n",
       "  </tbody>\n",
       "</table>\n",
       "</div>"
      ],
      "text/plain": [
       "   age     sex                             race      marital_status  \\\n",
       "0   66    Male                          Refused            Divorced   \n",
       "1   46    Male  Native American/American Indian             Married   \n",
       "2   32    Male                       Mixed race  Never been married   \n",
       "3   27    Male                       Mixed race             Married   \n",
       "4   16  Female                       Mixed race  Never been married   \n",
       "\n",
       "                education   employment_status  income_level  \\\n",
       "0        College graduate             Retired             3   \n",
       "1    High school graduate  Employed full-time             1   \n",
       "2    High school graduate  Employed full-time             1   \n",
       "3    High school graduate  Employed full-time             5   \n",
       "4  High school incomplete  Employed part-time             2   \n",
       "\n",
       "   books_read_last_12m read_printed_books_last_12m read_audiobooks_last_12m  \\\n",
       "0                   97                         Yes                       No   \n",
       "1                   97                         Yes                      Yes   \n",
       "2                   97                          No                      Yes   \n",
       "3                   97                         Yes                       No   \n",
       "4                   97                         Yes                      Yes   \n",
       "\n",
       "  read_ebooks_last_12m                             last_book_read_format  \\\n",
       "0                  Yes                                Purchased the book   \n",
       "1                  Yes                                Purchased the book   \n",
       "2                  Yes  Borrowed the book from a friend or family member   \n",
       "3                  Yes                  Borrowed the book from a library   \n",
       "4                   No                                Purchased the book   \n",
       "\n",
       "  read_daily_news read_magazines_journals  \n",
       "0              No                     Yes  \n",
       "1             Yes                     Yes  \n",
       "2             Yes                     Yes  \n",
       "3             Yes                      No  \n",
       "4             Yes                      No  "
      ]
     },
     "execution_count": 4,
     "metadata": {},
     "output_type": "execute_result"
    }
   ],
   "source": [
    "df = pd.read_csv(r\"D:\\Nam 4\\Ki 1\\Lap trinh cho KHDL\\Final Project\\LTKHDL\\data\\cleaned_data.csv\")\n",
    "df.head(5)"
   ]
  },
  {
   "cell_type": "markdown",
   "metadata": {},
   "source": [
    "## Câu hỏi khai thác insight data"
   ]
  },
  {
   "cell_type": "markdown",
   "metadata": {},
   "source": [
    "### Câu 1. Mối quan hệ giữa độ tuổi và hành vi đọc sách"
   ]
  },
  {
   "cell_type": "markdown",
   "metadata": {},
   "source": [
    "* Câu hỏi: Độ tuổi ảnh hưởng như thế nào đến hành vi đọc sách in, sách nói và sách điện tử? Có phải người trẻ tuổi thích sách điện tử hơn, trong khi người lớn tuổi thích sách in không?\n",
    "* Ý nghĩa thu được: Hiểu được thói quen đọc sách theo độ tuổi giúp đưa ra các chiến lược tiếp thị phù hợp với từng nhóm tuổi."
   ]
  },
  {
   "cell_type": "code",
   "execution_count": 5,
   "metadata": {},
   "outputs": [
    {
     "data": {
      "image/png": "[encoded data removed]",
      "text/plain": [
       "<Figure size 1200x600 with 1 Axes>"
      ]
     },
     "metadata": {},
     "output_type": "display_data"
    }
   ],
   "source": [
    "# Biểu đồ boxplot để xem số lượng sách đọc theo độ tuổi và định dạng\n",
    "plt.figure(figsize=(12, 6))\n",
    "sns.boxplot(data=df, x='read_printed_books_last_12m', y='age', palette='coolwarm')\n",
    "plt.title('Relationship Between Age and Reading Printed Books')\n",
    "plt.xlabel('Read Printed Books (Yes/No)')\n",
    "plt.ylabel('Age')\n",
    "plt.show()"
   ]
  },
  {
   "cell_type": "markdown",
   "metadata": {},
   "source": [
    "**Nhận xét**: \n",
    "Biểu đồ boxplot cho thấy mối quan hệ rõ rệt giữa độ tuổi và thói quen đọc sách in. Cụ thể, nhóm trả lời \"Yes\" (có đọc sách in) có độ tuổi trung vị cao hơn, và phân phối độ tuổi rộng hơn, từ khoảng 20 đến trên 90 tuổi. Điều này cho thấy sách in phổ biến hơn ở các thế hệ lớn tuổi, những người có thể duy trì thói quen đọc truyền thống. Trong khi đó, nhóm \"No\" (không đọc sách in) tập trung chủ yếu ở độ tuổi trẻ và trung niên, từ 20 đến 60 tuổi, với độ phân tán thấp hơn.\n",
    "\n",
    "Ngoài ra, nhóm \"Yes\" còn xuất hiện một số điểm ngoại lệ với người trên 90 tuổi, thể hiện sự gắn bó lâu dài với sách in. Nhóm \"No\" ít ngoại lệ, cho thấy xu hướng không đọc sách in đồng nhất hơn, có thể do sự phổ biến của định dạng kỹ thuật số như e-books hoặc audiobooks."
   ]
  }
 ],
 "metadata": {
  "kernelspec": {
   "display_name": "min_ds-env",
   "language": "python",
   "name": "python3"
  },
  "language_info": {
   "codemirror_mode": {
    "name": "ipython",
    "version": 3
   },
   "file_extension": ".py",
   "mimetype": "text/x-python",
   "name": "python",
   "nbconvert_exporter": "python",
   "pygments_lexer": "ipython3",
   "version": "3.10.8"
  }
 },
 "nbformat": 4,
 "nbformat_minor": 2
}
