{
 "cells": [
  {
   "cell_type": "markdown",
   "metadata": {},
   "source": [
    "# **TÌM KIẾM INSIGHT CỦA DỮ LIỆU**\n",
    "---"
   ]
  },
  {
   "cell_type": "code",
   "execution_count": 14,
   "metadata": {},
   "outputs": [],
   "source": [
    "import pandas as pd\n",
    "import matplotlib.pyplot as plt\n",
    "import seaborn as sns\n",
    "import plotly.graph_objects as gp"
   ]
  },
  {
   "cell_type": "code",
   "execution_count": 15,
   "metadata": {},
   "outputs": [
    {
     "data": {
      "text/html": [
       "<div>\n",
       "<style scoped>\n",
       "    .dataframe tbody tr th:only-of-type {\n",
       "        vertical-align: middle;\n",
       "    }\n",
       "\n",
       "    .dataframe tbody tr th {\n",
       "        vertical-align: top;\n",
       "    }\n",
       "\n",
       "    .dataframe thead th {\n",
       "        text-align: right;\n",
       "    }\n",
       "</style>\n",
       "<table border=\"1\" class=\"dataframe\">\n",
       "  <thead>\n",
       "    <tr style=\"text-align: right;\">\n",
       "      <th></th>\n",
       "      <th>Age</th>\n",
       "      <th>Sex</th>\n",
       "      <th>Race</th>\n",
       "      <th>Marital status</th>\n",
       "      <th>Education</th>\n",
       "      <th>Employement</th>\n",
       "      <th>Incomes</th>\n",
       "      <th>Number of books read</th>\n",
       "      <th>Printed books?</th>\n",
       "      <th>Audiobooks?</th>\n",
       "      <th>E-books?</th>\n",
       "      <th>Source of the last book read</th>\n",
       "      <th>Daily news/newspapers reader?</th>\n",
       "      <th>Magazines/Journals Reader?</th>\n",
       "    </tr>\n",
       "  </thead>\n",
       "  <tbody>\n",
       "    <tr>\n",
       "      <th>0</th>\n",
       "      <td>46</td>\n",
       "      <td>Male</td>\n",
       "      <td>Native American</td>\n",
       "      <td>Married</td>\n",
       "      <td>High school</td>\n",
       "      <td>Employed full-time</td>\n",
       "      <td>1</td>\n",
       "      <td>97</td>\n",
       "      <td>Yes</td>\n",
       "      <td>Yes</td>\n",
       "      <td>Yes</td>\n",
       "      <td>Purchased</td>\n",
       "      <td>Yes</td>\n",
       "      <td>Yes</td>\n",
       "    </tr>\n",
       "    <tr>\n",
       "      <th>1</th>\n",
       "      <td>32</td>\n",
       "      <td>Male</td>\n",
       "      <td>Mixed race</td>\n",
       "      <td>Never been married</td>\n",
       "      <td>High school</td>\n",
       "      <td>Employed full-time</td>\n",
       "      <td>1</td>\n",
       "      <td>97</td>\n",
       "      <td>No</td>\n",
       "      <td>Yes</td>\n",
       "      <td>Yes</td>\n",
       "      <td>Borrowed from others</td>\n",
       "      <td>Yes</td>\n",
       "      <td>Yes</td>\n",
       "    </tr>\n",
       "    <tr>\n",
       "      <th>2</th>\n",
       "      <td>27</td>\n",
       "      <td>Male</td>\n",
       "      <td>Mixed race</td>\n",
       "      <td>Married</td>\n",
       "      <td>High school</td>\n",
       "      <td>Employed full-time</td>\n",
       "      <td>5</td>\n",
       "      <td>97</td>\n",
       "      <td>Yes</td>\n",
       "      <td>No</td>\n",
       "      <td>Yes</td>\n",
       "      <td>Borrowed from library</td>\n",
       "      <td>Yes</td>\n",
       "      <td>No</td>\n",
       "    </tr>\n",
       "    <tr>\n",
       "      <th>3</th>\n",
       "      <td>16</td>\n",
       "      <td>Female</td>\n",
       "      <td>Mixed race</td>\n",
       "      <td>Never been married</td>\n",
       "      <td>Some high school</td>\n",
       "      <td>Employed part-time</td>\n",
       "      <td>2</td>\n",
       "      <td>97</td>\n",
       "      <td>Yes</td>\n",
       "      <td>Yes</td>\n",
       "      <td>No</td>\n",
       "      <td>Purchased</td>\n",
       "      <td>Yes</td>\n",
       "      <td>No</td>\n",
       "    </tr>\n",
       "    <tr>\n",
       "      <th>4</th>\n",
       "      <td>55</td>\n",
       "      <td>Female</td>\n",
       "      <td>Asian/Pacific Islander</td>\n",
       "      <td>Divorced</td>\n",
       "      <td>Some college</td>\n",
       "      <td>Self-employed</td>\n",
       "      <td>5</td>\n",
       "      <td>97</td>\n",
       "      <td>Yes</td>\n",
       "      <td>Yes</td>\n",
       "      <td>Yes</td>\n",
       "      <td>Purchased</td>\n",
       "      <td>No</td>\n",
       "      <td>No</td>\n",
       "    </tr>\n",
       "  </tbody>\n",
       "</table>\n",
       "</div>"
      ],
      "text/plain": [
       "   Age     Sex                    Race      Marital status         Education  \\\n",
       "0   46    Male         Native American             Married       High school   \n",
       "1   32    Male              Mixed race  Never been married       High school   \n",
       "2   27    Male              Mixed race             Married       High school   \n",
       "3   16  Female              Mixed race  Never been married  Some high school   \n",
       "4   55  Female  Asian/Pacific Islander            Divorced      Some college   \n",
       "\n",
       "          Employement  Incomes  Number of books read Printed books?  \\\n",
       "0  Employed full-time        1                    97            Yes   \n",
       "1  Employed full-time        1                    97             No   \n",
       "2  Employed full-time        5                    97            Yes   \n",
       "3  Employed part-time        2                    97            Yes   \n",
       "4       Self-employed        5                    97            Yes   \n",
       "\n",
       "  Audiobooks? E-books? Source of the last book read  \\\n",
       "0         Yes      Yes                    Purchased   \n",
       "1         Yes      Yes         Borrowed from others   \n",
       "2          No      Yes        Borrowed from library   \n",
       "3         Yes       No                    Purchased   \n",
       "4         Yes      Yes                    Purchased   \n",
       "\n",
       "  Daily news/newspapers reader? Magazines/Journals Reader?  \n",
       "0                           Yes                        Yes  \n",
       "1                           Yes                        Yes  \n",
       "2                           Yes                         No  \n",
       "3                           Yes                         No  \n",
       "4                            No                         No  "
      ]
     },
     "execution_count": 15,
     "metadata": {},
     "output_type": "execute_result"
    }
   ],
   "source": [
    "df = pd.read_csv('../data/cleaned_data.csv')\n",
    "df.head()"
   ]
  },
  {
   "cell_type": "markdown",
   "metadata": {},
   "source": [
    "## CÂU 1. SỐ LƯỢNG SÁCH ĐỌC THAY ĐỔI NHƯ THẾ NÀO THEO MỨC THU NHẬP VÀ GIỚI TÍNH?"
   ]
  },
  {
   "cell_type": "markdown",
   "metadata": {},
   "source": [
    "### 1. Lợi ích của việc trả lời câu hỏi\n",
    "\n",
    "- Trả lời câu hỏi này giúp tìm hiểu xem mức thu nhập ảnh hưởng tới sự thay đôi thói quen đọc sách của nam và nữ như thế nào? Liệu nam giới hoặc nữ giới có thích đọc sách hơn giới tính còn lại hay không. Từ đó phát triển chiến lược tiếp thị phù hợp với từng cá nhân theo độ tuổi và mức thu nhập."
   ]
  },
  {
   "cell_type": "markdown",
   "metadata": {},
   "source": [
    "### 2. Tiền xử lý"
   ]
  },
  {
   "cell_type": "markdown",
   "metadata": {},
   "source": [
    "- Để trả lời câu hỏi này, nhóm sử dụng dữ liệu của cột **Incomes**, **Sex** và **Number of books read**.\n",
    "\n",
    "- Thuật toán được thực hiện theo các bước sau:\n",
    "    \n",
    "    + Nhóm dữ liệu theo **Incomes** và **Sex** để tính tổng số sách đọc theo mức thu nhập của từng giới tính.\n",
    "\n",
    "    + Tạo 1 dataframe mới với 3 cột là **Incomes**, **Male** và **Female** với dữ liệu của **Male** và **Female** là số sách đọc theo mức thu nhập của 3 giới tính nam và nữ. "
   ]
  },
  {
   "cell_type": "code",
   "execution_count": 16,
   "metadata": {},
   "outputs": [
    {
     "data": {
      "text/html": [
       "<div>\n",
       "<style scoped>\n",
       "    .dataframe tbody tr th:only-of-type {\n",
       "        vertical-align: middle;\n",
       "    }\n",
       "\n",
       "    .dataframe tbody tr th {\n",
       "        vertical-align: top;\n",
       "    }\n",
       "\n",
       "    .dataframe thead th {\n",
       "        text-align: right;\n",
       "    }\n",
       "</style>\n",
       "<table border=\"1\" class=\"dataframe\">\n",
       "  <thead>\n",
       "    <tr style=\"text-align: right;\">\n",
       "      <th></th>\n",
       "      <th>Incomes</th>\n",
       "      <th>Female</th>\n",
       "      <th>Male</th>\n",
       "    </tr>\n",
       "  </thead>\n",
       "  <tbody>\n",
       "    <tr>\n",
       "      <th>0</th>\n",
       "      <td>1</td>\n",
       "      <td>16</td>\n",
       "      <td>24</td>\n",
       "    </tr>\n",
       "    <tr>\n",
       "      <th>1</th>\n",
       "      <td>2</td>\n",
       "      <td>20</td>\n",
       "      <td>18</td>\n",
       "    </tr>\n",
       "    <tr>\n",
       "      <th>2</th>\n",
       "      <td>3</td>\n",
       "      <td>22</td>\n",
       "      <td>15</td>\n",
       "    </tr>\n",
       "    <tr>\n",
       "      <th>3</th>\n",
       "      <td>4</td>\n",
       "      <td>23</td>\n",
       "      <td>12</td>\n",
       "    </tr>\n",
       "    <tr>\n",
       "      <th>4</th>\n",
       "      <td>5</td>\n",
       "      <td>20</td>\n",
       "      <td>17</td>\n",
       "    </tr>\n",
       "    <tr>\n",
       "      <th>5</th>\n",
       "      <td>6</td>\n",
       "      <td>23</td>\n",
       "      <td>17</td>\n",
       "    </tr>\n",
       "    <tr>\n",
       "      <th>6</th>\n",
       "      <td>7</td>\n",
       "      <td>22</td>\n",
       "      <td>15</td>\n",
       "    </tr>\n",
       "    <tr>\n",
       "      <th>7</th>\n",
       "      <td>8</td>\n",
       "      <td>25</td>\n",
       "      <td>16</td>\n",
       "    </tr>\n",
       "  </tbody>\n",
       "</table>\n",
       "</div>"
      ],
      "text/plain": [
       "   Incomes  Female  Male\n",
       "0        1      16    24\n",
       "1        2      20    18\n",
       "2        3      22    15\n",
       "3        4      23    12\n",
       "4        5      20    17\n",
       "5        6      23    17\n",
       "6        7      22    15\n",
       "7        8      25    16"
      ]
     },
     "execution_count": 16,
     "metadata": {},
     "output_type": "execute_result"
    }
   ],
   "source": [
    "# Tạo bảng thống kê số lượng sách của Nam và Nữ theo Income Range\n",
    "book_counts = df.groupby(['Incomes', 'Sex'])['Number of books read'].mean().reset_index()\n",
    "\n",
    "book_counts_by_incomes = book_counts.pivot(index= 'Incomes', columns = 'Sex', values='Number of books read')\n",
    "book_counts_by_incomes.reset_index(inplace=True)\n",
    "book_counts_by_incomes.columns.name = None  # Xóa tên cấp cột\n",
    "\n",
    "# Làm tròn thành số nguyên\n",
    "book_counts_by_incomes = book_counts_by_incomes.round(0).astype(int)\n",
    "book_counts_by_incomes"
   ]
  },
  {
   "cell_type": "markdown",
   "metadata": {},
   "source": [
    "### 3. Trực quan"
   ]
  },
  {
   "cell_type": "code",
   "execution_count": 17,
   "metadata": {},
   "outputs": [
    {
     "data": {
      "application/vnd.plotly.v1+json": {
       "config": {
        "plotlyServerURL": "https://plot.ly"
       },
       "data": [
        {
         "name": "Male",
         "orientation": "h",
         "type": "bar",
         "x": [
          -24,
          -18,
          -15,
          -12,
          -17,
          -17,
          -15,
          -16
         ],
         "y": [
          1,
          2,
          3,
          4,
          5,
          6,
          7,
          8
         ]
        },
        {
         "name": "Female",
         "orientation": "h",
         "type": "bar",
         "x": [
          16,
          20,
          22,
          23,
          20,
          23,
          22,
          25
         ],
         "y": [
          1,
          2,
          3,
          4,
          5,
          6,
          7,
          8
         ]
        }
       ],
       "layout": {
        "bargap": 0,
        "bargroupgap": 0,
        "barmode": "relative",
        "template": {
         "data": {
          "bar": [
           {
            "error_x": {
             "color": "#2a3f5f"
            },
            "error_y": {
             "color": "#2a3f5f"
            },
            "marker": {
             "line": {
              "color": "#E5ECF6",
              "width": 0.5
             },
             "pattern": {
              "fillmode": "overlay",
              "size": 10,
              "solidity": 0.2
             }
            },
            "type": "bar"
           }
          ],
          "barpolar": [
           {
            "marker": {
             "line": {
              "color": "#E5ECF6",
              "width": 0.5
             },
             "pattern": {
              "fillmode": "overlay",
              "size": 10,
              "solidity": 0.2
             }
            },
            "type": "barpolar"
           }
          ],
          "carpet": [
           {
            "aaxis": {
             "endlinecolor": "#2a3f5f",
             "gridcolor": "white",
             "linecolor": "white",
             "minorgridcolor": "white",
             "startlinecolor": "#2a3f5f"
            },
            "baxis": {
             "endlinecolor": "#2a3f5f",
             "gridcolor": "white",
             "linecolor": "white",
             "minorgridcolor": "white",
             "startlinecolor": "#2a3f5f"
            },
            "type": "carpet"
           }
          ],
          "choropleth": [
           {
            "colorbar": {
             "outlinewidth": 0,
             "ticks": ""
            },
            "type": "choropleth"
           }
          ],
          "contour": [
           {
            "colorbar": {
             "outlinewidth": 0,
             "ticks": ""
            },
            "colorscale": [
             [
              0,
              "#0d0887"
             ],
             [
              0.1111111111111111,
              "#46039f"
             ],
             [
              0.2222222222222222,
              "#7201a8"
             ],
             [
              0.3333333333333333,
              "#9c179e"
             ],
             [
              0.4444444444444444,
              "#bd3786"
             ],
             [
              0.5555555555555556,
              "#d8576b"
             ],
             [
              0.6666666666666666,
              "#ed7953"
             ],
             [
              0.7777777777777778,
              "#fb9f3a"
             ],
             [
              0.8888888888888888,
              "#fdca26"
             ],
             [
              1,
              "#f0f921"
             ]
            ],
            "type": "contour"
           }
          ],
          "contourcarpet": [
           {
            "colorbar": {
             "outlinewidth": 0,
             "ticks": ""
            },
            "type": "contourcarpet"
           }
          ],
          "heatmap": [
           {
            "colorbar": {
             "outlinewidth": 0,
             "ticks": ""
            },
            "colorscale": [
             [
              0,
              "#0d0887"
             ],
             [
              0.1111111111111111,
              "#46039f"
             ],
             [
              0.2222222222222222,
              "#7201a8"
             ],
             [
              0.3333333333333333,
              "#9c179e"
             ],
             [
              0.4444444444444444,
              "#bd3786"
             ],
             [
              0.5555555555555556,
              "#d8576b"
             ],
             [
              0.6666666666666666,
              "#ed7953"
             ],
             [
              0.7777777777777778,
              "#fb9f3a"
             ],
             [
              0.8888888888888888,
              "#fdca26"
             ],
             [
              1,
              "#f0f921"
             ]
            ],
            "type": "heatmap"
           }
          ],
          "heatmapgl": [
           {
            "colorbar": {
             "outlinewidth": 0,
             "ticks": ""
            },
            "colorscale": [
             [
              0,
              "#0d0887"
             ],
             [
              0.1111111111111111,
              "#46039f"
             ],
             [
              0.2222222222222222,
              "#7201a8"
             ],
             [
              0.3333333333333333,
              "#9c179e"
             ],
             [
              0.4444444444444444,
              "#bd3786"
             ],
             [
              0.5555555555555556,
              "#d8576b"
             ],
             [
              0.6666666666666666,
              "#ed7953"
             ],
             [
              0.7777777777777778,
              "#fb9f3a"
             ],
             [
              0.8888888888888888,
              "#fdca26"
             ],
             [
              1,
              "#f0f921"
             ]
            ],
            "type": "heatmapgl"
           }
          ],
          "histogram": [
           {
            "marker": {
             "pattern": {
              "fillmode": "overlay",
              "size": 10,
              "solidity": 0.2
             }
            },
            "type": "histogram"
           }
          ],
          "histogram2d": [
           {
            "colorbar": {
             "outlinewidth": 0,
             "ticks": ""
            },
            "colorscale": [
             [
              0,
              "#0d0887"
             ],
             [
              0.1111111111111111,
              "#46039f"
             ],
             [
              0.2222222222222222,
              "#7201a8"
             ],
             [
              0.3333333333333333,
              "#9c179e"
             ],
             [
              0.4444444444444444,
              "#bd3786"
             ],
             [
              0.5555555555555556,
              "#d8576b"
             ],
             [
              0.6666666666666666,
              "#ed7953"
             ],
             [
              0.7777777777777778,
              "#fb9f3a"
             ],
             [
              0.8888888888888888,
              "#fdca26"
             ],
             [
              1,
              "#f0f921"
             ]
            ],
            "type": "histogram2d"
           }
          ],
          "histogram2dcontour": [
           {
            "colorbar": {
             "outlinewidth": 0,
             "ticks": ""
            },
            "colorscale": [
             [
              0,
              "#0d0887"
             ],
             [
              0.1111111111111111,
              "#46039f"
             ],
             [
              0.2222222222222222,
              "#7201a8"
             ],
             [
              0.3333333333333333,
              "#9c179e"
             ],
             [
              0.4444444444444444,
              "#bd3786"
             ],
             [
              0.5555555555555556,
              "#d8576b"
             ],
             [
              0.6666666666666666,
              "#ed7953"
             ],
             [
              0.7777777777777778,
              "#fb9f3a"
             ],
             [
              0.8888888888888888,
              "#fdca26"
             ],
             [
              1,
              "#f0f921"
             ]
            ],
            "type": "histogram2dcontour"
           }
          ],
          "mesh3d": [
           {
            "colorbar": {
             "outlinewidth": 0,
             "ticks": ""
            },
            "type": "mesh3d"
           }
          ],
          "parcoords": [
           {
            "line": {
             "colorbar": {
              "outlinewidth": 0,
              "ticks": ""
             }
            },
            "type": "parcoords"
           }
          ],
          "pie": [
           {
            "automargin": true,
            "type": "pie"
           }
          ],
          "scatter": [
           {
            "fillpattern": {
             "fillmode": "overlay",
             "size": 10,
             "solidity": 0.2
            },
            "type": "scatter"
           }
          ],
          "scatter3d": [
           {
            "line": {
             "colorbar": {
              "outlinewidth": 0,
              "ticks": ""
             }
            },
            "marker": {
             "colorbar": {
              "outlinewidth": 0,
              "ticks": ""
             }
            },
            "type": "scatter3d"
           }
          ],
          "scattercarpet": [
           {
            "marker": {
             "colorbar": {
              "outlinewidth": 0,
              "ticks": ""
             }
            },
            "type": "scattercarpet"
           }
          ],
          "scattergeo": [
           {
            "marker": {
             "colorbar": {
              "outlinewidth": 0,
              "ticks": ""
             }
            },
            "type": "scattergeo"
           }
          ],
          "scattergl": [
           {
            "marker": {
             "colorbar": {
              "outlinewidth": 0,
              "ticks": ""
             }
            },
            "type": "scattergl"
           }
          ],
          "scattermapbox": [
           {
            "marker": {
             "colorbar": {
              "outlinewidth": 0,
              "ticks": ""
             }
            },
            "type": "scattermapbox"
           }
          ],
          "scatterpolar": [
           {
            "marker": {
             "colorbar": {
              "outlinewidth": 0,
              "ticks": ""
             }
            },
            "type": "scatterpolar"
           }
          ],
          "scatterpolargl": [
           {
            "marker": {
             "colorbar": {
              "outlinewidth": 0,
              "ticks": ""
             }
            },
            "type": "scatterpolargl"
           }
          ],
          "scatterternary": [
           {
            "marker": {
             "colorbar": {
              "outlinewidth": 0,
              "ticks": ""
             }
            },
            "type": "scatterternary"
           }
          ],
          "surface": [
           {
            "colorbar": {
             "outlinewidth": 0,
             "ticks": ""
            },
            "colorscale": [
             [
              0,
              "#0d0887"
             ],
             [
              0.1111111111111111,
              "#46039f"
             ],
             [
              0.2222222222222222,
              "#7201a8"
             ],
             [
              0.3333333333333333,
              "#9c179e"
             ],
             [
              0.4444444444444444,
              "#bd3786"
             ],
             [
              0.5555555555555556,
              "#d8576b"
             ],
             [
              0.6666666666666666,
              "#ed7953"
             ],
             [
              0.7777777777777778,
              "#fb9f3a"
             ],
             [
              0.8888888888888888,
              "#fdca26"
             ],
             [
              1,
              "#f0f921"
             ]
            ],
            "type": "surface"
           }
          ],
          "table": [
           {
            "cells": {
             "fill": {
              "color": "#EBF0F8"
             },
             "line": {
              "color": "white"
             }
            },
            "header": {
             "fill": {
              "color": "#C8D4E3"
             },
             "line": {
              "color": "white"
             }
            },
            "type": "table"
           }
          ]
         },
         "layout": {
          "annotationdefaults": {
           "arrowcolor": "#2a3f5f",
           "arrowhead": 0,
           "arrowwidth": 1
          },
          "autotypenumbers": "strict",
          "coloraxis": {
           "colorbar": {
            "outlinewidth": 0,
            "ticks": ""
           }
          },
          "colorscale": {
           "diverging": [
            [
             0,
             "#8e0152"
            ],
            [
             0.1,
             "#c51b7d"
            ],
            [
             0.2,
             "#de77ae"
            ],
            [
             0.3,
             "#f1b6da"
            ],
            [
             0.4,
             "#fde0ef"
            ],
            [
             0.5,
             "#f7f7f7"
            ],
            [
             0.6,
             "#e6f5d0"
            ],
            [
             0.7,
             "#b8e186"
            ],
            [
             0.8,
             "#7fbc41"
            ],
            [
             0.9,
             "#4d9221"
            ],
            [
             1,
             "#276419"
            ]
           ],
           "sequential": [
            [
             0,
             "#0d0887"
            ],
            [
             0.1111111111111111,
             "#46039f"
            ],
            [
             0.2222222222222222,
             "#7201a8"
            ],
            [
             0.3333333333333333,
             "#9c179e"
            ],
            [
             0.4444444444444444,
             "#bd3786"
            ],
            [
             0.5555555555555556,
             "#d8576b"
            ],
            [
             0.6666666666666666,
             "#ed7953"
            ],
            [
             0.7777777777777778,
             "#fb9f3a"
            ],
            [
             0.8888888888888888,
             "#fdca26"
            ],
            [
             1,
             "#f0f921"
            ]
           ],
           "sequentialminus": [
            [
             0,
             "#0d0887"
            ],
            [
             0.1111111111111111,
             "#46039f"
            ],
            [
             0.2222222222222222,
             "#7201a8"
            ],
            [
             0.3333333333333333,
             "#9c179e"
            ],
            [
             0.4444444444444444,
             "#bd3786"
            ],
            [
             0.5555555555555556,
             "#d8576b"
            ],
            [
             0.6666666666666666,
             "#ed7953"
            ],
            [
             0.7777777777777778,
             "#fb9f3a"
            ],
            [
             0.8888888888888888,
             "#fdca26"
            ],
            [
             1,
             "#f0f921"
            ]
           ]
          },
          "colorway": [
           "#636efa",
           "#EF553B",
           "#00cc96",
           "#ab63fa",
           "#FFA15A",
           "#19d3f3",
           "#FF6692",
           "#B6E880",
           "#FF97FF",
           "#FECB52"
          ],
          "font": {
           "color": "#2a3f5f"
          },
          "geo": {
           "bgcolor": "white",
           "lakecolor": "white",
           "landcolor": "#E5ECF6",
           "showlakes": true,
           "showland": true,
           "subunitcolor": "white"
          },
          "hoverlabel": {
           "align": "left"
          },
          "hovermode": "closest",
          "mapbox": {
           "style": "light"
          },
          "paper_bgcolor": "white",
          "plot_bgcolor": "#E5ECF6",
          "polar": {
           "angularaxis": {
            "gridcolor": "white",
            "linecolor": "white",
            "ticks": ""
           },
           "bgcolor": "#E5ECF6",
           "radialaxis": {
            "gridcolor": "white",
            "linecolor": "white",
            "ticks": ""
           }
          },
          "scene": {
           "xaxis": {
            "backgroundcolor": "#E5ECF6",
            "gridcolor": "white",
            "gridwidth": 2,
            "linecolor": "white",
            "showbackground": true,
            "ticks": "",
            "zerolinecolor": "white"
           },
           "yaxis": {
            "backgroundcolor": "#E5ECF6",
            "gridcolor": "white",
            "gridwidth": 2,
            "linecolor": "white",
            "showbackground": true,
            "ticks": "",
            "zerolinecolor": "white"
           },
           "zaxis": {
            "backgroundcolor": "#E5ECF6",
            "gridcolor": "white",
            "gridwidth": 2,
            "linecolor": "white",
            "showbackground": true,
            "ticks": "",
            "zerolinecolor": "white"
           }
          },
          "shapedefaults": {
           "line": {
            "color": "#2a3f5f"
           }
          },
          "ternary": {
           "aaxis": {
            "gridcolor": "white",
            "linecolor": "white",
            "ticks": ""
           },
           "baxis": {
            "gridcolor": "white",
            "linecolor": "white",
            "ticks": ""
           },
           "bgcolor": "#E5ECF6",
           "caxis": {
            "gridcolor": "white",
            "linecolor": "white",
            "ticks": ""
           }
          },
          "title": {
           "x": 0.05
          },
          "xaxis": {
           "automargin": true,
           "gridcolor": "white",
           "linecolor": "white",
           "ticks": "",
           "title": {
            "standoff": 15
           },
           "zerolinecolor": "white",
           "zerolinewidth": 2
          },
          "yaxis": {
           "automargin": true,
           "gridcolor": "white",
           "linecolor": "white",
           "ticks": "",
           "title": {
            "standoff": 15
           },
           "zerolinecolor": "white",
           "zerolinewidth": 2
          }
         }
        },
        "title": {
         "font": {
          "size": 22
         },
         "text": "Population Pyramid"
        },
        "xaxis": {
         "ticktext": [
          "30",
          "25",
          "20",
          "15",
          "10",
          "5",
          "0",
          "5",
          "10",
          "15",
          "20",
          "25",
          "30"
         ],
         "tickvals": [
          -30,
          -25,
          -20,
          -15,
          -10,
          -5,
          0,
          5,
          10,
          15,
          20,
          25,
          30
         ],
         "title": {
          "font": {
           "size": 14
          },
          "text": "Average Number of books read"
         }
        }
       }
      },
      "text/html": [
       "<div>                            <div id=\"7d55d2bb-dad8-4313-9a66-d5dc42804921\" class=\"plotly-graph-div\" style=\"height:525px; width:100%;\"></div>            <script type=\"text/javascript\">                require([\"plotly\"], function(Plotly) {                    window.PLOTLYENV=window.PLOTLYENV || {};                                    if (document.getElementById(\"7d55d2bb-dad8-4313-9a66-d5dc42804921\")) {                    Plotly.newPlot(                        \"7d55d2bb-dad8-4313-9a66-d5dc42804921\",                        [{\"name\":\"Male\",\"orientation\":\"h\",\"x\":[-24,-18,-15,-12,-17,-17,-15,-16],\"y\":[1,2,3,4,5,6,7,8],\"type\":\"bar\"},{\"name\":\"Female\",\"orientation\":\"h\",\"x\":[16,20,22,23,20,23,22,25],\"y\":[1,2,3,4,5,6,7,8],\"type\":\"bar\"}],                        {\"template\":{\"data\":{\"histogram2dcontour\":[{\"type\":\"histogram2dcontour\",\"colorbar\":{\"outlinewidth\":0,\"ticks\":\"\"},\"colorscale\":[[0.0,\"#0d0887\"],[0.1111111111111111,\"#46039f\"],[0.2222222222222222,\"#7201a8\"],[0.3333333333333333,\"#9c179e\"],[0.4444444444444444,\"#bd3786\"],[0.5555555555555556,\"#d8576b\"],[0.6666666666666666,\"#ed7953\"],[0.7777777777777778,\"#fb9f3a\"],[0.8888888888888888,\"#fdca26\"],[1.0,\"#f0f921\"]]}],\"choropleth\":[{\"type\":\"choropleth\",\"colorbar\":{\"outlinewidth\":0,\"ticks\":\"\"}}],\"histogram2d\":[{\"type\":\"histogram2d\",\"colorbar\":{\"outlinewidth\":0,\"ticks\":\"\"},\"colorscale\":[[0.0,\"#0d0887\"],[0.1111111111111111,\"#46039f\"],[0.2222222222222222,\"#7201a8\"],[0.3333333333333333,\"#9c179e\"],[0.4444444444444444,\"#bd3786\"],[0.5555555555555556,\"#d8576b\"],[0.6666666666666666,\"#ed7953\"],[0.7777777777777778,\"#fb9f3a\"],[0.8888888888888888,\"#fdca26\"],[1.0,\"#f0f921\"]]}],\"heatmap\":[{\"type\":\"heatmap\",\"colorbar\":{\"outlinewidth\":0,\"ticks\":\"\"},\"colorscale\":[[0.0,\"#0d0887\"],[0.1111111111111111,\"#46039f\"],[0.2222222222222222,\"#7201a8\"],[0.3333333333333333,\"#9c179e\"],[0.4444444444444444,\"#bd3786\"],[0.5555555555555556,\"#d8576b\"],[0.6666666666666666,\"#ed7953\"],[0.7777777777777778,\"#fb9f3a\"],[0.8888888888888888,\"#fdca26\"],[1.0,\"#f0f921\"]]}],\"heatmapgl\":[{\"type\":\"heatmapgl\",\"colorbar\":{\"outlinewidth\":0,\"ticks\":\"\"},\"colorscale\":[[0.0,\"#0d0887\"],[0.1111111111111111,\"#46039f\"],[0.2222222222222222,\"#7201a8\"],[0.3333333333333333,\"#9c179e\"],[0.4444444444444444,\"#bd3786\"],[0.5555555555555556,\"#d8576b\"],[0.6666666666666666,\"#ed7953\"],[0.7777777777777778,\"#fb9f3a\"],[0.8888888888888888,\"#fdca26\"],[1.0,\"#f0f921\"]]}],\"contourcarpet\":[{\"type\":\"contourcarpet\",\"colorbar\":{\"outlinewidth\":0,\"ticks\":\"\"}}],\"contour\":[{\"type\":\"contour\",\"colorbar\":{\"outlinewidth\":0,\"ticks\":\"\"},\"colorscale\":[[0.0,\"#0d0887\"],[0.1111111111111111,\"#46039f\"],[0.2222222222222222,\"#7201a8\"],[0.3333333333333333,\"#9c179e\"],[0.4444444444444444,\"#bd3786\"],[0.5555555555555556,\"#d8576b\"],[0.6666666666666666,\"#ed7953\"],[0.7777777777777778,\"#fb9f3a\"],[0.8888888888888888,\"#fdca26\"],[1.0,\"#f0f921\"]]}],\"surface\":[{\"type\":\"surface\",\"colorbar\":{\"outlinewidth\":0,\"ticks\":\"\"},\"colorscale\":[[0.0,\"#0d0887\"],[0.1111111111111111,\"#46039f\"],[0.2222222222222222,\"#7201a8\"],[0.3333333333333333,\"#9c179e\"],[0.4444444444444444,\"#bd3786\"],[0.5555555555555556,\"#d8576b\"],[0.6666666666666666,\"#ed7953\"],[0.7777777777777778,\"#fb9f3a\"],[0.8888888888888888,\"#fdca26\"],[1.0,\"#f0f921\"]]}],\"mesh3d\":[{\"type\":\"mesh3d\",\"colorbar\":{\"outlinewidth\":0,\"ticks\":\"\"}}],\"scatter\":[{\"fillpattern\":{\"fillmode\":\"overlay\",\"size\":10,\"solidity\":0.2},\"type\":\"scatter\"}],\"parcoords\":[{\"type\":\"parcoords\",\"line\":{\"colorbar\":{\"outlinewidth\":0,\"ticks\":\"\"}}}],\"scatterpolargl\":[{\"type\":\"scatterpolargl\",\"marker\":{\"colorbar\":{\"outlinewidth\":0,\"ticks\":\"\"}}}],\"bar\":[{\"error_x\":{\"color\":\"#2a3f5f\"},\"error_y\":{\"color\":\"#2a3f5f\"},\"marker\":{\"line\":{\"color\":\"#E5ECF6\",\"width\":0.5},\"pattern\":{\"fillmode\":\"overlay\",\"size\":10,\"solidity\":0.2}},\"type\":\"bar\"}],\"scattergeo\":[{\"type\":\"scattergeo\",\"marker\":{\"colorbar\":{\"outlinewidth\":0,\"ticks\":\"\"}}}],\"scatterpolar\":[{\"type\":\"scatterpolar\",\"marker\":{\"colorbar\":{\"outlinewidth\":0,\"ticks\":\"\"}}}],\"histogram\":[{\"marker\":{\"pattern\":{\"fillmode\":\"overlay\",\"size\":10,\"solidity\":0.2}},\"type\":\"histogram\"}],\"scattergl\":[{\"type\":\"scattergl\",\"marker\":{\"colorbar\":{\"outlinewidth\":0,\"ticks\":\"\"}}}],\"scatter3d\":[{\"type\":\"scatter3d\",\"line\":{\"colorbar\":{\"outlinewidth\":0,\"ticks\":\"\"}},\"marker\":{\"colorbar\":{\"outlinewidth\":0,\"ticks\":\"\"}}}],\"scattermapbox\":[{\"type\":\"scattermapbox\",\"marker\":{\"colorbar\":{\"outlinewidth\":0,\"ticks\":\"\"}}}],\"scatterternary\":[{\"type\":\"scatterternary\",\"marker\":{\"colorbar\":{\"outlinewidth\":0,\"ticks\":\"\"}}}],\"scattercarpet\":[{\"type\":\"scattercarpet\",\"marker\":{\"colorbar\":{\"outlinewidth\":0,\"ticks\":\"\"}}}],\"carpet\":[{\"aaxis\":{\"endlinecolor\":\"#2a3f5f\",\"gridcolor\":\"white\",\"linecolor\":\"white\",\"minorgridcolor\":\"white\",\"startlinecolor\":\"#2a3f5f\"},\"baxis\":{\"endlinecolor\":\"#2a3f5f\",\"gridcolor\":\"white\",\"linecolor\":\"white\",\"minorgridcolor\":\"white\",\"startlinecolor\":\"#2a3f5f\"},\"type\":\"carpet\"}],\"table\":[{\"cells\":{\"fill\":{\"color\":\"#EBF0F8\"},\"line\":{\"color\":\"white\"}},\"header\":{\"fill\":{\"color\":\"#C8D4E3\"},\"line\":{\"color\":\"white\"}},\"type\":\"table\"}],\"barpolar\":[{\"marker\":{\"line\":{\"color\":\"#E5ECF6\",\"width\":0.5},\"pattern\":{\"fillmode\":\"overlay\",\"size\":10,\"solidity\":0.2}},\"type\":\"barpolar\"}],\"pie\":[{\"automargin\":true,\"type\":\"pie\"}]},\"layout\":{\"autotypenumbers\":\"strict\",\"colorway\":[\"#636efa\",\"#EF553B\",\"#00cc96\",\"#ab63fa\",\"#FFA15A\",\"#19d3f3\",\"#FF6692\",\"#B6E880\",\"#FF97FF\",\"#FECB52\"],\"font\":{\"color\":\"#2a3f5f\"},\"hovermode\":\"closest\",\"hoverlabel\":{\"align\":\"left\"},\"paper_bgcolor\":\"white\",\"plot_bgcolor\":\"#E5ECF6\",\"polar\":{\"bgcolor\":\"#E5ECF6\",\"angularaxis\":{\"gridcolor\":\"white\",\"linecolor\":\"white\",\"ticks\":\"\"},\"radialaxis\":{\"gridcolor\":\"white\",\"linecolor\":\"white\",\"ticks\":\"\"}},\"ternary\":{\"bgcolor\":\"#E5ECF6\",\"aaxis\":{\"gridcolor\":\"white\",\"linecolor\":\"white\",\"ticks\":\"\"},\"baxis\":{\"gridcolor\":\"white\",\"linecolor\":\"white\",\"ticks\":\"\"},\"caxis\":{\"gridcolor\":\"white\",\"linecolor\":\"white\",\"ticks\":\"\"}},\"coloraxis\":{\"colorbar\":{\"outlinewidth\":0,\"ticks\":\"\"}},\"colorscale\":{\"sequential\":[[0.0,\"#0d0887\"],[0.1111111111111111,\"#46039f\"],[0.2222222222222222,\"#7201a8\"],[0.3333333333333333,\"#9c179e\"],[0.4444444444444444,\"#bd3786\"],[0.5555555555555556,\"#d8576b\"],[0.6666666666666666,\"#ed7953\"],[0.7777777777777778,\"#fb9f3a\"],[0.8888888888888888,\"#fdca26\"],[1.0,\"#f0f921\"]],\"sequentialminus\":[[0.0,\"#0d0887\"],[0.1111111111111111,\"#46039f\"],[0.2222222222222222,\"#7201a8\"],[0.3333333333333333,\"#9c179e\"],[0.4444444444444444,\"#bd3786\"],[0.5555555555555556,\"#d8576b\"],[0.6666666666666666,\"#ed7953\"],[0.7777777777777778,\"#fb9f3a\"],[0.8888888888888888,\"#fdca26\"],[1.0,\"#f0f921\"]],\"diverging\":[[0,\"#8e0152\"],[0.1,\"#c51b7d\"],[0.2,\"#de77ae\"],[0.3,\"#f1b6da\"],[0.4,\"#fde0ef\"],[0.5,\"#f7f7f7\"],[0.6,\"#e6f5d0\"],[0.7,\"#b8e186\"],[0.8,\"#7fbc41\"],[0.9,\"#4d9221\"],[1,\"#276419\"]]},\"xaxis\":{\"gridcolor\":\"white\",\"linecolor\":\"white\",\"ticks\":\"\",\"title\":{\"standoff\":15},\"zerolinecolor\":\"white\",\"automargin\":true,\"zerolinewidth\":2},\"yaxis\":{\"gridcolor\":\"white\",\"linecolor\":\"white\",\"ticks\":\"\",\"title\":{\"standoff\":15},\"zerolinecolor\":\"white\",\"automargin\":true,\"zerolinewidth\":2},\"scene\":{\"xaxis\":{\"backgroundcolor\":\"#E5ECF6\",\"gridcolor\":\"white\",\"linecolor\":\"white\",\"showbackground\":true,\"ticks\":\"\",\"zerolinecolor\":\"white\",\"gridwidth\":2},\"yaxis\":{\"backgroundcolor\":\"#E5ECF6\",\"gridcolor\":\"white\",\"linecolor\":\"white\",\"showbackground\":true,\"ticks\":\"\",\"zerolinecolor\":\"white\",\"gridwidth\":2},\"zaxis\":{\"backgroundcolor\":\"#E5ECF6\",\"gridcolor\":\"white\",\"linecolor\":\"white\",\"showbackground\":true,\"ticks\":\"\",\"zerolinecolor\":\"white\",\"gridwidth\":2}},\"shapedefaults\":{\"line\":{\"color\":\"#2a3f5f\"}},\"annotationdefaults\":{\"arrowcolor\":\"#2a3f5f\",\"arrowhead\":0,\"arrowwidth\":1},\"geo\":{\"bgcolor\":\"white\",\"landcolor\":\"#E5ECF6\",\"subunitcolor\":\"white\",\"showland\":true,\"showlakes\":true,\"lakecolor\":\"white\"},\"title\":{\"x\":0.05},\"mapbox\":{\"style\":\"light\"}}},\"title\":{\"text\":\"Population Pyramid\",\"font\":{\"size\":22}},\"xaxis\":{\"title\":{\"text\":\"Average Number of books read\",\"font\":{\"size\":14}},\"tickvals\":[-30,-25,-20,-15,-10,-5,0,5,10,15,20,25,30],\"ticktext\":[\"30\",\"25\",\"20\",\"15\",\"10\",\"5\",\"0\",\"5\",\"10\",\"15\",\"20\",\"25\",\"30\"]},\"barmode\":\"relative\",\"bargap\":0.0,\"bargroupgap\":0},                        {\"responsive\": true}                    ).then(function(){\n",
       "                            \n",
       "var gd = document.getElementById('7d55d2bb-dad8-4313-9a66-d5dc42804921');\n",
       "var x = new MutationObserver(function (mutations, observer) {{\n",
       "        var display = window.getComputedStyle(gd).display;\n",
       "        if (!display || display === 'none') {{\n",
       "            console.log([gd, 'removed!']);\n",
       "            Plotly.purge(gd);\n",
       "            observer.disconnect();\n",
       "        }}\n",
       "}});\n",
       "\n",
       "// Listen for the removal of the full notebook cells\n",
       "var notebookContainer = gd.closest('#notebook-container');\n",
       "if (notebookContainer) {{\n",
       "    x.observe(notebookContainer, {childList: true});\n",
       "}}\n",
       "\n",
       "// Listen for the clearing of the current output cell\n",
       "var outputEl = gd.closest('.output');\n",
       "if (outputEl) {{\n",
       "    x.observe(outputEl, {childList: true});\n",
       "}}\n",
       "\n",
       "                        })                };                });            </script>        </div>"
      ]
     },
     "metadata": {},
     "output_type": "display_data"
    }
   ],
   "source": [
    "y_incomes = book_counts_by_incomes['Incomes']\n",
    "x_M = book_counts_by_incomes['Male'] * (-1)\n",
    "x_F = book_counts_by_incomes['Female']\n",
    "\n",
    "fig = gp.Figure() \n",
    "  \n",
    "# Add Male data\n",
    "fig.add_trace(gp.Bar(y= y_incomes, x = x_M,  \n",
    "                     name = 'Male',  \n",
    "                     orientation = 'h')) \n",
    "\n",
    "# Add Female data\n",
    "fig.add_trace(gp.Bar(y = y_incomes, x = x_F, \n",
    "                     name = 'Female', orientation = 'h'))\n",
    "\n",
    "# Updating the layout for our graph \n",
    "fig.update_layout(title = 'Population Pyramid', \n",
    "                 title_font_size = 22, barmode = 'relative', \n",
    "                 bargap = 0.0, bargroupgap = 0, \n",
    "                 xaxis = dict(tickvals = [-30, -25, -20, -15, -10, -5, \n",
    "                                          0, 5, 10, 15, 20, 25, 30], \n",
    "                                \n",
    "                              ticktext = ['30', '25', '20', '15', '10', '5', \n",
    "                                          '0', '5', '10', '15', '20', '25', '30'], \n",
    "                                \n",
    "                              title = 'Average Number of books read', \n",
    "                              title_font_size = 14) \n",
    "                 ) \n",
    "  \n",
    "fig.show()"
   ]
  },
  {
   "cell_type": "markdown",
   "metadata": {},
   "source": [
    "### 4. Nhận xét và rút ra kết luận."
   ]
  },
  {
   "cell_type": "markdown",
   "metadata": {},
   "source": [
    "Nhận xét:\n",
    "\n",
    "- Với mức thu nhập thấp nhất tương ứng thu nhập nằm trong khoảng dưới $10000, nam giới đọc nhiều sách hơn nữ giới với trung bình só cuốn sách đọc trong 1 năm là  24 cuốn, gấp 1.6 lần nữ giới với số cuốn sách đọc trung bình là 15 cuốn. \n",
    "\n",
    "- Với mức thu nhập cao hơn, nữ giới đọc nhiều sách hơn nam giới. Sự chệnh lệch này giao động từ gấp 1.17 lần tới 1.91 lần. "
   ]
  },
  {
   "cell_type": "markdown",
   "metadata": {},
   "source": [
    "Kết luận: Nhìn chung, nữ giới có xu hướng đọc nhiều sách hơn nam giới. Khi thu nhập càng cao, sự khác biệt đó càng tăng. Điều này cho thấy nữ giới có xu hướng đọc sách để nâng cấp bản thân khi ở mức thu nhập cao hơn nam giới."
   ]
  },
  {
   "cell_type": "markdown",
   "metadata": {},
   "source": [
    "## CÂU 2: MỨC ĐỘ QUAN TÂM TỚI CÁC ẤN PHẨM ĐỊNH KỲ CÓ SỰ KHÁC BIỆT THEO ĐỘ TUỔI VÀ TRÌNH ĐỘ HỌC VẤN NHƯ THẾ NÀO?"
   ]
  },
  {
   "cell_type": "markdown",
   "metadata": {},
   "source": [
    "### 1. Lợi ích của việc trả lời câu hỏi\n",
    "\n",
    "- Tìm hiểu về mức độ quan tâm tới các ấn phẩm định kỳ giúp hiểu được thói quen đọc các thể loại sách báo, tạp chí của từng lứa tuổi và trình độ học vấn, từ đó xác định xem độ tuổi và trình độ học vấn nào ưa thích các loại ấn phẩm này.\n",
    "\n",
    "- Việc khám phá sở thích đọc sách báo của mỗi người giúp cho các nhà phát hành sách và bản tin có chiến lược phù hợp để đưa nguồn sách này tiếp cận tới đúng đối tượng quan tâm nó."
   ]
  },
  {
   "cell_type": "markdown",
   "metadata": {},
   "source": [
    "### 2. Tiền xử lý"
   ]
  },
  {
   "cell_type": "markdown",
   "metadata": {},
   "source": [
    "- Để trả lời câu hỏi này, nhóm sử dụng thông tin của các cột **Daily news/newspapers reader?**, **Magazines/Journals Reader?**, ***Age** và **Education**.\n",
    "\n",
    "- Thuật toán sẽ theo các bước sau:\n",
    "\n",
    "    + Nhóm độ tuổi theo các nhóm tuổi [(15-25), (25-35), (35-45), (45-55), (55-65), (65-75), (75-85), (85-95)].\n",
    "\n",
    "    + Tạo dataframe chứa thông tin về hành vi đọc các ấn phẩm theo kỳ theo độ tuổi và trình độ học vấn.\n",
    "\n",
    "    + Nhóm số người đọc các ấn phẩm in theo nhóm tuổi và trình độ học vấn. \n",
    "\n",
    "    + Đặt trình độ học vấn làm index theo thứ tự tự định nghĩa cho 2 nhóm người đọc sách báo và người đọc tạp chí."
   ]
  },
  {
   "cell_type": "code",
   "execution_count": 18,
   "metadata": {},
   "outputs": [],
   "source": [
    "# Xác định khoảng giá trị (bins) và nhãn (labels)\n",
    "age_bins = [15, 25, 35, 45, 55, 65, 75, 85, 95]\n",
    "age_labels = ['15-25', '25-35', '35-45', '45-55', '55-65', '65-75', '75-85', '85-95']"
   ]
  },
  {
   "cell_type": "code",
   "execution_count": 19,
   "metadata": {},
   "outputs": [
    {
     "data": {
      "text/html": [
       "<div>\n",
       "<style scoped>\n",
       "    .dataframe tbody tr th:only-of-type {\n",
       "        vertical-align: middle;\n",
       "    }\n",
       "\n",
       "    .dataframe tbody tr th {\n",
       "        vertical-align: top;\n",
       "    }\n",
       "\n",
       "    .dataframe thead th {\n",
       "        text-align: right;\n",
       "    }\n",
       "</style>\n",
       "<table border=\"1\" class=\"dataframe\">\n",
       "  <thead>\n",
       "    <tr style=\"text-align: right;\">\n",
       "      <th></th>\n",
       "      <th>Age</th>\n",
       "      <th>Daily news/newspapers reader?</th>\n",
       "      <th>Magazines/Journals Reader?</th>\n",
       "      <th>Education</th>\n",
       "      <th>Age_Group</th>\n",
       "    </tr>\n",
       "  </thead>\n",
       "  <tbody>\n",
       "    <tr>\n",
       "      <th>0</th>\n",
       "      <td>46</td>\n",
       "      <td>Yes</td>\n",
       "      <td>Yes</td>\n",
       "      <td>High school</td>\n",
       "      <td>45-55</td>\n",
       "    </tr>\n",
       "    <tr>\n",
       "      <th>1</th>\n",
       "      <td>32</td>\n",
       "      <td>Yes</td>\n",
       "      <td>Yes</td>\n",
       "      <td>High school</td>\n",
       "      <td>25-35</td>\n",
       "    </tr>\n",
       "    <tr>\n",
       "      <th>2</th>\n",
       "      <td>27</td>\n",
       "      <td>Yes</td>\n",
       "      <td>No</td>\n",
       "      <td>High school</td>\n",
       "      <td>25-35</td>\n",
       "    </tr>\n",
       "    <tr>\n",
       "      <th>3</th>\n",
       "      <td>16</td>\n",
       "      <td>Yes</td>\n",
       "      <td>No</td>\n",
       "      <td>Some high school</td>\n",
       "      <td>15-25</td>\n",
       "    </tr>\n",
       "    <tr>\n",
       "      <th>4</th>\n",
       "      <td>55</td>\n",
       "      <td>No</td>\n",
       "      <td>No</td>\n",
       "      <td>Some college</td>\n",
       "      <td>55-65</td>\n",
       "    </tr>\n",
       "    <tr>\n",
       "      <th>...</th>\n",
       "      <td>...</td>\n",
       "      <td>...</td>\n",
       "      <td>...</td>\n",
       "      <td>...</td>\n",
       "      <td>...</td>\n",
       "    </tr>\n",
       "    <tr>\n",
       "      <th>2101</th>\n",
       "      <td>16</td>\n",
       "      <td>No</td>\n",
       "      <td>No</td>\n",
       "      <td>Some high school</td>\n",
       "      <td>15-25</td>\n",
       "    </tr>\n",
       "    <tr>\n",
       "      <th>2102</th>\n",
       "      <td>16</td>\n",
       "      <td>No</td>\n",
       "      <td>No</td>\n",
       "      <td>Some high school</td>\n",
       "      <td>15-25</td>\n",
       "    </tr>\n",
       "    <tr>\n",
       "      <th>2103</th>\n",
       "      <td>16</td>\n",
       "      <td>Yes</td>\n",
       "      <td>No</td>\n",
       "      <td>Some high school</td>\n",
       "      <td>15-25</td>\n",
       "    </tr>\n",
       "    <tr>\n",
       "      <th>2104</th>\n",
       "      <td>16</td>\n",
       "      <td>No</td>\n",
       "      <td>Yes</td>\n",
       "      <td>Some high school</td>\n",
       "      <td>15-25</td>\n",
       "    </tr>\n",
       "    <tr>\n",
       "      <th>2105</th>\n",
       "      <td>16</td>\n",
       "      <td>No</td>\n",
       "      <td>No</td>\n",
       "      <td>Some high school</td>\n",
       "      <td>15-25</td>\n",
       "    </tr>\n",
       "  </tbody>\n",
       "</table>\n",
       "<p>2106 rows × 5 columns</p>\n",
       "</div>"
      ],
      "text/plain": [
       "      Age Daily news/newspapers reader? Magazines/Journals Reader?  \\\n",
       "0      46                           Yes                        Yes   \n",
       "1      32                           Yes                        Yes   \n",
       "2      27                           Yes                         No   \n",
       "3      16                           Yes                         No   \n",
       "4      55                            No                         No   \n",
       "...   ...                           ...                        ...   \n",
       "2101   16                            No                         No   \n",
       "2102   16                            No                         No   \n",
       "2103   16                           Yes                         No   \n",
       "2104   16                            No                        Yes   \n",
       "2105   16                            No                         No   \n",
       "\n",
       "             Education Age_Group  \n",
       "0          High school     45-55  \n",
       "1          High school     25-35  \n",
       "2          High school     25-35  \n",
       "3     Some high school     15-25  \n",
       "4         Some college     55-65  \n",
       "...                ...       ...  \n",
       "2101  Some high school     15-25  \n",
       "2102  Some high school     15-25  \n",
       "2103  Some high school     15-25  \n",
       "2104  Some high school     15-25  \n",
       "2105  Some high school     15-25  \n",
       "\n",
       "[2106 rows x 5 columns]"
      ]
     },
     "execution_count": 19,
     "metadata": {},
     "output_type": "execute_result"
    }
   ],
   "source": [
    "# Tạo dataframe chứa thông tin về hành vi đọc các ấn phẩm theo kỳ theo độ tuổi và trình độ học vấn\n",
    "printed_media_df = pd.DataFrame()\n",
    "printed_media_df['Age'] = df['Age']\n",
    "printed_media_df['Daily news/newspapers reader?'] = df['Daily news/newspapers reader?']\n",
    "printed_media_df['Magazines/Journals Reader?'] = df['Magazines/Journals Reader?']\n",
    "printed_media_df['Education'] = df['Education']\n",
    "printed_media_df['Age_Group'] = pd.cut(printed_media_df['Age'], bins=age_bins, labels=age_labels, right=False)\n",
    "printed_media_df"
   ]
  },
  {
   "cell_type": "code",
   "execution_count": 20,
   "metadata": {},
   "outputs": [
    {
     "data": {
      "text/html": [
       "<div>\n",
       "<style scoped>\n",
       "    .dataframe tbody tr th:only-of-type {\n",
       "        vertical-align: middle;\n",
       "    }\n",
       "\n",
       "    .dataframe tbody tr th {\n",
       "        vertical-align: top;\n",
       "    }\n",
       "\n",
       "    .dataframe thead th {\n",
       "        text-align: right;\n",
       "    }\n",
       "</style>\n",
       "<table border=\"1\" class=\"dataframe\">\n",
       "  <thead>\n",
       "    <tr style=\"text-align: right;\">\n",
       "      <th>Age_Group</th>\n",
       "      <th>15-25</th>\n",
       "      <th>25-35</th>\n",
       "      <th>35-45</th>\n",
       "      <th>45-55</th>\n",
       "      <th>55-65</th>\n",
       "      <th>65-75</th>\n",
       "      <th>75-85</th>\n",
       "      <th>85-95</th>\n",
       "    </tr>\n",
       "  </thead>\n",
       "  <tbody>\n",
       "    <tr>\n",
       "      <th>None</th>\n",
       "      <td>3</td>\n",
       "      <td>2</td>\n",
       "      <td>2</td>\n",
       "      <td>5</td>\n",
       "      <td>1</td>\n",
       "      <td>0</td>\n",
       "      <td>0</td>\n",
       "      <td>0</td>\n",
       "    </tr>\n",
       "    <tr>\n",
       "      <th>Some high school</th>\n",
       "      <td>45</td>\n",
       "      <td>3</td>\n",
       "      <td>6</td>\n",
       "      <td>6</td>\n",
       "      <td>8</td>\n",
       "      <td>8</td>\n",
       "      <td>4</td>\n",
       "      <td>0</td>\n",
       "    </tr>\n",
       "    <tr>\n",
       "      <th>High school</th>\n",
       "      <td>39</td>\n",
       "      <td>41</td>\n",
       "      <td>30</td>\n",
       "      <td>47</td>\n",
       "      <td>53</td>\n",
       "      <td>37</td>\n",
       "      <td>17</td>\n",
       "      <td>8</td>\n",
       "    </tr>\n",
       "    <tr>\n",
       "      <th>Trade school</th>\n",
       "      <td>2</td>\n",
       "      <td>4</td>\n",
       "      <td>6</td>\n",
       "      <td>4</td>\n",
       "      <td>6</td>\n",
       "      <td>3</td>\n",
       "      <td>3</td>\n",
       "      <td>0</td>\n",
       "    </tr>\n",
       "    <tr>\n",
       "      <th>Some college</th>\n",
       "      <td>46</td>\n",
       "      <td>38</td>\n",
       "      <td>34</td>\n",
       "      <td>75</td>\n",
       "      <td>54</td>\n",
       "      <td>43</td>\n",
       "      <td>15</td>\n",
       "      <td>5</td>\n",
       "    </tr>\n",
       "    <tr>\n",
       "      <th>College</th>\n",
       "      <td>16</td>\n",
       "      <td>48</td>\n",
       "      <td>58</td>\n",
       "      <td>68</td>\n",
       "      <td>65</td>\n",
       "      <td>47</td>\n",
       "      <td>16</td>\n",
       "      <td>3</td>\n",
       "    </tr>\n",
       "    <tr>\n",
       "      <th>Post-graduate</th>\n",
       "      <td>5</td>\n",
       "      <td>43</td>\n",
       "      <td>56</td>\n",
       "      <td>48</td>\n",
       "      <td>71</td>\n",
       "      <td>46</td>\n",
       "      <td>24</td>\n",
       "      <td>2</td>\n",
       "    </tr>\n",
       "  </tbody>\n",
       "</table>\n",
       "</div>"
      ],
      "text/plain": [
       "Age_Group         15-25  25-35  35-45  45-55  55-65  65-75  75-85  85-95\n",
       "None                  3      2      2      5      1      0      0      0\n",
       "Some high school     45      3      6      6      8      8      4      0\n",
       "High school          39     41     30     47     53     37     17      8\n",
       "Trade school          2      4      6      4      6      3      3      0\n",
       "Some college         46     38     34     75     54     43     15      5\n",
       "College              16     48     58     68     65     47     16      3\n",
       "Post-graduate         5     43     56     48     71     46     24      2"
      ]
     },
     "execution_count": 20,
     "metadata": {},
     "output_type": "execute_result"
    }
   ],
   "source": [
    "# Tạo dataframe để vẽ biểu đồ nhiêt\n",
    "# 1. Lọc các giá trị Daily news/newspapers reader? = 1\n",
    "newspaper_count_df = printed_media_df[printed_media_df['Daily news/newspapers reader?'] == 'Yes']\n",
    "\n",
    "# 2. Đếm số người đọc sách in theo Education và Age\n",
    "grouped_newspaper_df = newspaper_count_df.groupby(['Education', 'Age_Group']).size().reset_index(name='Count')\n",
    "\n",
    "# 3. Tạo bảng pivot để sử dụng trong biểu đồ nhiệt\n",
    "pivot_table_newspaper = grouped_newspaper_df.pivot(index='Education', columns='Age_Group', values='Count').fillna(0)\n",
    "\n",
    "# 4. Sắp xếp theo trình độ học vấn tự định nghĩa\n",
    "education_order = ['None', 'Some high school', 'High school', 'Trade school', 'Some college', 'College', 'Post-graduate']\n",
    "pivot_table_newspaper.index = pd.Categorical(pivot_table_newspaper.index, categories=education_order, ordered=True)\n",
    "pivot_table_newspaper.sort_index(inplace=True)\n",
    "pivot_table_newspaper"
   ]
  },
  {
   "cell_type": "code",
   "execution_count": 21,
   "metadata": {},
   "outputs": [
    {
     "data": {
      "text/html": [
       "<div>\n",
       "<style scoped>\n",
       "    .dataframe tbody tr th:only-of-type {\n",
       "        vertical-align: middle;\n",
       "    }\n",
       "\n",
       "    .dataframe tbody tr th {\n",
       "        vertical-align: top;\n",
       "    }\n",
       "\n",
       "    .dataframe thead th {\n",
       "        text-align: right;\n",
       "    }\n",
       "</style>\n",
       "<table border=\"1\" class=\"dataframe\">\n",
       "  <thead>\n",
       "    <tr style=\"text-align: right;\">\n",
       "      <th>Age_Group</th>\n",
       "      <th>15-25</th>\n",
       "      <th>25-35</th>\n",
       "      <th>35-45</th>\n",
       "      <th>45-55</th>\n",
       "      <th>55-65</th>\n",
       "      <th>65-75</th>\n",
       "      <th>75-85</th>\n",
       "      <th>85-95</th>\n",
       "    </tr>\n",
       "  </thead>\n",
       "  <tbody>\n",
       "    <tr>\n",
       "      <th>None</th>\n",
       "      <td>4</td>\n",
       "      <td>2</td>\n",
       "      <td>1</td>\n",
       "      <td>4</td>\n",
       "      <td>0</td>\n",
       "      <td>0</td>\n",
       "      <td>0</td>\n",
       "      <td>0</td>\n",
       "    </tr>\n",
       "    <tr>\n",
       "      <th>Some high school</th>\n",
       "      <td>57</td>\n",
       "      <td>2</td>\n",
       "      <td>6</td>\n",
       "      <td>6</td>\n",
       "      <td>5</td>\n",
       "      <td>8</td>\n",
       "      <td>2</td>\n",
       "      <td>0</td>\n",
       "    </tr>\n",
       "    <tr>\n",
       "      <th>High school</th>\n",
       "      <td>41</td>\n",
       "      <td>34</td>\n",
       "      <td>19</td>\n",
       "      <td>36</td>\n",
       "      <td>41</td>\n",
       "      <td>29</td>\n",
       "      <td>17</td>\n",
       "      <td>6</td>\n",
       "    </tr>\n",
       "    <tr>\n",
       "      <th>Trade school</th>\n",
       "      <td>3</td>\n",
       "      <td>4</td>\n",
       "      <td>4</td>\n",
       "      <td>6</td>\n",
       "      <td>5</td>\n",
       "      <td>2</td>\n",
       "      <td>2</td>\n",
       "      <td>0</td>\n",
       "    </tr>\n",
       "    <tr>\n",
       "      <th>Some college</th>\n",
       "      <td>43</td>\n",
       "      <td>34</td>\n",
       "      <td>39</td>\n",
       "      <td>64</td>\n",
       "      <td>38</td>\n",
       "      <td>32</td>\n",
       "      <td>11</td>\n",
       "      <td>4</td>\n",
       "    </tr>\n",
       "    <tr>\n",
       "      <th>College</th>\n",
       "      <td>14</td>\n",
       "      <td>39</td>\n",
       "      <td>68</td>\n",
       "      <td>73</td>\n",
       "      <td>58</td>\n",
       "      <td>41</td>\n",
       "      <td>13</td>\n",
       "      <td>3</td>\n",
       "    </tr>\n",
       "    <tr>\n",
       "      <th>Post-graduate</th>\n",
       "      <td>4</td>\n",
       "      <td>32</td>\n",
       "      <td>50</td>\n",
       "      <td>52</td>\n",
       "      <td>69</td>\n",
       "      <td>47</td>\n",
       "      <td>21</td>\n",
       "      <td>3</td>\n",
       "    </tr>\n",
       "  </tbody>\n",
       "</table>\n",
       "</div>"
      ],
      "text/plain": [
       "Age_Group         15-25  25-35  35-45  45-55  55-65  65-75  75-85  85-95\n",
       "None                  4      2      1      4      0      0      0      0\n",
       "Some high school     57      2      6      6      5      8      2      0\n",
       "High school          41     34     19     36     41     29     17      6\n",
       "Trade school          3      4      4      6      5      2      2      0\n",
       "Some college         43     34     39     64     38     32     11      4\n",
       "College              14     39     68     73     58     41     13      3\n",
       "Post-graduate         4     32     50     52     69     47     21      3"
      ]
     },
     "execution_count": 21,
     "metadata": {},
     "output_type": "execute_result"
    }
   ],
   "source": [
    "# tương tự cho magazine\n",
    "magazine_count_df = printed_media_df[printed_media_df['Magazines/Journals Reader?'] == 'Yes']\n",
    "\n",
    "grouped_nagazine_df = magazine_count_df.groupby(['Education', 'Age_Group']).size().reset_index(name='Count')\n",
    "\n",
    "pivot_table_magazine = grouped_nagazine_df.pivot(index='Education', columns='Age_Group', values='Count').fillna(0)\n",
    "\n",
    "pivot_table_magazine.index = pd.Categorical(pivot_table_magazine.index, categories=education_order, ordered=True)\n",
    "pivot_table_magazine.sort_index(inplace=True)\n",
    "pivot_table_magazine"
   ]
  },
  {
   "cell_type": "markdown",
   "metadata": {},
   "source": [
    "### 3. Trực quan"
   ]
  },
  {
   "cell_type": "code",
   "execution_count": 22,
   "metadata": {},
   "outputs": [
    {
     "data": {
      "image/png": "[encoded data removed]",
      "text/plain": [
       "<Figure size 1400x600 with 4 Axes>"
      ]
     },
     "metadata": {},
     "output_type": "display_data"
    }
   ],
   "source": [
    "# 5. Vẽ biểu đồ nhiệt\n",
    "# plt.figure(figsize=(12, 8))\n",
    "fig, axes = plt.subplots(1, 2, figsize=(14, 6))  # 1 hàng, 2 cột\n",
    "\n",
    "# cho newspaper\n",
    "sns.heatmap(\n",
    "    pivot_table_newspaper, \n",
    "    ax=axes[0],\n",
    "    cmap=\"coolwarm\",  \n",
    "    annot=True,\n",
    "    fmt=\".0f\",\n",
    "    cbar=True\n",
    ")\n",
    "axes[0].set_title(\"Heatmap cho newspaper reader theo trình độ học vấn và độ tuổi\")\n",
    "\n",
    "# cho newspaper\n",
    "sns.heatmap(\n",
    "    pivot_table_magazine, \n",
    "    ax=axes[1],\n",
    "    cmap=\"coolwarm\",  \n",
    "    annot=True,\n",
    "    fmt=\".0f\",\n",
    "    cbar=True\n",
    ")\n",
    "axes[1].set_title(\"Heatmap cho magazine reader theo trình độ học vấn và độ tuổi\")\n",
    "\n",
    "plt.tight_layout()\n",
    "plt.show()"
   ]
  },
  {
   "cell_type": "markdown",
   "metadata": {},
   "source": [
    "### 4. Nhận xét và rút ra kết luận."
   ]
  }
 ],
 "metadata": {
  "kernelspec": {
   "display_name": "min_ds-env2",
   "language": "python",
   "name": "python3"
  },
  "language_info": {
   "codemirror_mode": {
    "name": "ipython",
    "version": 3
   },
   "file_extension": ".py",
   "mimetype": "text/x-python",
   "name": "python",
   "nbconvert_exporter": "python",
   "pygments_lexer": "ipython3",
   "version": "3.10.15"
  }
 },
 "nbformat": 4,
 "nbformat_minor": 2
}
