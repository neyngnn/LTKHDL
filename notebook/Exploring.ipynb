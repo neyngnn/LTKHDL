{
 "cells": [
  {
   "cell_type": "code",
   "execution_count": 1,
   "metadata": {},
   "outputs": [],
   "source": [
    "import warnings \n",
    "warnings.filterwarnings('ignore')\n",
    "\n",
    "import pandas as pd\n",
    "import numpy as np\n",
    "import matplotlib.pyplot as plt\n",
    "import seaborn as sns\n",
    "\n",
    "pd.set_option('display.max_columns', None)"
   ]
  },
  {
   "cell_type": "code",
   "execution_count": 2,
   "metadata": {},
   "outputs": [
    {
     "data": {
      "text/html": [
       "<div>\n",
       "<style scoped>\n",
       "    .dataframe tbody tr th:only-of-type {\n",
       "        vertical-align: middle;\n",
       "    }\n",
       "\n",
       "    .dataframe tbody tr th {\n",
       "        vertical-align: top;\n",
       "    }\n",
       "\n",
       "    .dataframe thead th {\n",
       "        text-align: right;\n",
       "    }\n",
       "</style>\n",
       "<table border=\"1\" class=\"dataframe\">\n",
       "  <thead>\n",
       "    <tr style=\"text-align: right;\">\n",
       "      <th></th>\n",
       "      <th>Age</th>\n",
       "      <th>Sex</th>\n",
       "      <th>Race</th>\n",
       "      <th>Marital status?</th>\n",
       "      <th>Education</th>\n",
       "      <th>Employement</th>\n",
       "      <th>Incomes</th>\n",
       "      <th>How many books did you read during last 12months?</th>\n",
       "      <th>Read any printed books during last 12months?</th>\n",
       "      <th>Read any audiobooks during last 12months?</th>\n",
       "      <th>Read any e-books during last 12months?</th>\n",
       "      <th>Last book you read, you…</th>\n",
       "      <th>Do you happen to read any daily news or newspapers?</th>\n",
       "      <th>Do you happen to read any magazines or journals?</th>\n",
       "    </tr>\n",
       "  </thead>\n",
       "  <tbody>\n",
       "    <tr>\n",
       "      <th>0</th>\n",
       "      <td>66</td>\n",
       "      <td>Male</td>\n",
       "      <td>Refused</td>\n",
       "      <td>Divorced</td>\n",
       "      <td>College graduate</td>\n",
       "      <td>Retired</td>\n",
       "      <td>$20,000 to under $30,000</td>\n",
       "      <td>97</td>\n",
       "      <td>Yes</td>\n",
       "      <td>No</td>\n",
       "      <td>Yes</td>\n",
       "      <td>Purchased the book</td>\n",
       "      <td>No</td>\n",
       "      <td>Yes</td>\n",
       "    </tr>\n",
       "    <tr>\n",
       "      <th>1</th>\n",
       "      <td>46</td>\n",
       "      <td>Male</td>\n",
       "      <td>Native American/American Indian</td>\n",
       "      <td>Married</td>\n",
       "      <td>High school graduate</td>\n",
       "      <td>Employed full-time</td>\n",
       "      <td>Less than $10,000</td>\n",
       "      <td>97</td>\n",
       "      <td>Yes</td>\n",
       "      <td>Yes</td>\n",
       "      <td>Yes</td>\n",
       "      <td>Purchased the book</td>\n",
       "      <td>Yes</td>\n",
       "      <td>Yes</td>\n",
       "    </tr>\n",
       "    <tr>\n",
       "      <th>2</th>\n",
       "      <td>32</td>\n",
       "      <td>Male</td>\n",
       "      <td>Mixed race</td>\n",
       "      <td>Never been married</td>\n",
       "      <td>High school graduate</td>\n",
       "      <td>Employed full-time</td>\n",
       "      <td>Less than $10,000</td>\n",
       "      <td>97</td>\n",
       "      <td>No</td>\n",
       "      <td>Yes</td>\n",
       "      <td>Yes</td>\n",
       "      <td>Borrowed the book from a friend or family member</td>\n",
       "      <td>Yes</td>\n",
       "      <td>Yes</td>\n",
       "    </tr>\n",
       "    <tr>\n",
       "      <th>3</th>\n",
       "      <td>27</td>\n",
       "      <td>Male</td>\n",
       "      <td>Mixed race</td>\n",
       "      <td>Married</td>\n",
       "      <td>High school graduate</td>\n",
       "      <td>Employed full-time</td>\n",
       "      <td>$40,000 to under $50,000</td>\n",
       "      <td>97</td>\n",
       "      <td>Yes</td>\n",
       "      <td>No</td>\n",
       "      <td>Yes</td>\n",
       "      <td>Borrowed the book from a library</td>\n",
       "      <td>Yes</td>\n",
       "      <td>No</td>\n",
       "    </tr>\n",
       "    <tr>\n",
       "      <th>4</th>\n",
       "      <td>16</td>\n",
       "      <td>Female</td>\n",
       "      <td>Mixed race</td>\n",
       "      <td>Never been married</td>\n",
       "      <td>High school incomplete</td>\n",
       "      <td>Employed part-time</td>\n",
       "      <td>$10,000 to under $20,000</td>\n",
       "      <td>97</td>\n",
       "      <td>Yes</td>\n",
       "      <td>Yes</td>\n",
       "      <td>No</td>\n",
       "      <td>Purchased the book</td>\n",
       "      <td>Yes</td>\n",
       "      <td>No</td>\n",
       "    </tr>\n",
       "  </tbody>\n",
       "</table>\n",
       "</div>"
      ],
      "text/plain": [
       "   Age     Sex                             Race     Marital status?  \\\n",
       "0   66    Male                          Refused            Divorced   \n",
       "1   46    Male  Native American/American Indian             Married   \n",
       "2   32    Male                       Mixed race  Never been married   \n",
       "3   27    Male                       Mixed race             Married   \n",
       "4   16  Female                       Mixed race  Never been married   \n",
       "\n",
       "                Education         Employement                   Incomes  \\\n",
       "0        College graduate             Retired  $20,000 to under $30,000   \n",
       "1    High school graduate  Employed full-time         Less than $10,000   \n",
       "2    High school graduate  Employed full-time         Less than $10,000   \n",
       "3    High school graduate  Employed full-time  $40,000 to under $50,000   \n",
       "4  High school incomplete  Employed part-time  $10,000 to under $20,000   \n",
       "\n",
       "   How many books did you read during last 12months?  \\\n",
       "0                                                 97   \n",
       "1                                                 97   \n",
       "2                                                 97   \n",
       "3                                                 97   \n",
       "4                                                 97   \n",
       "\n",
       "  Read any printed books during last 12months?  \\\n",
       "0                                          Yes   \n",
       "1                                          Yes   \n",
       "2                                           No   \n",
       "3                                          Yes   \n",
       "4                                          Yes   \n",
       "\n",
       "  Read any audiobooks during last 12months?  \\\n",
       "0                                        No   \n",
       "1                                       Yes   \n",
       "2                                       Yes   \n",
       "3                                        No   \n",
       "4                                       Yes   \n",
       "\n",
       "  Read any e-books during last 12months?  \\\n",
       "0                                    Yes   \n",
       "1                                    Yes   \n",
       "2                                    Yes   \n",
       "3                                    Yes   \n",
       "4                                     No   \n",
       "\n",
       "                           Last book you read, you…  \\\n",
       "0                                Purchased the book   \n",
       "1                                Purchased the book   \n",
       "2  Borrowed the book from a friend or family member   \n",
       "3                  Borrowed the book from a library   \n",
       "4                                Purchased the book   \n",
       "\n",
       "  Do you happen to read any daily news or newspapers?  \\\n",
       "0                                                 No    \n",
       "1                                                Yes    \n",
       "2                                                Yes    \n",
       "3                                                Yes    \n",
       "4                                                Yes    \n",
       "\n",
       "  Do you happen to read any magazines or journals?  \n",
       "0                                              Yes  \n",
       "1                                              Yes  \n",
       "2                                              Yes  \n",
       "3                                               No  \n",
       "4                                               No  "
      ]
     },
     "execution_count": 2,
     "metadata": {},
     "output_type": "execute_result"
    }
   ],
   "source": [
    "df = pd.read_csv(r\"D:\\Nam 4\\Ki 1\\Lap trinh cho KHDL\\Final Project\\LTKHDL\\data\\data.csv\")\n",
    "df.head(5)"
   ]
  },
  {
   "cell_type": "code",
   "execution_count": 3,
   "metadata": {},
   "outputs": [],
   "source": [
    "# Đổi tên cột để thuận tiện trong quá trình tiền xử lý dữ liệu và phân tích \n",
    "\n",
    "df.rename(columns={\n",
    "    'Age': 'age',\n",
    "    'Sex': 'sex',\n",
    "    'Race': 'race',\n",
    "    'Marital status?': 'marital_status',\n",
    "    'Education': 'education',\n",
    "    'Employement': 'employment_status',\n",
    "    'Incomes': 'income_level',\n",
    "    'How many books did you read during last 12months?': 'books_read_last_12m',\n",
    "    'Read any printed books during last 12months?': 'read_printed_books_last_12m',\n",
    "    'Read any audiobooks during last 12months?': 'read_audiobooks_last_12m',\n",
    "    'Read any e-books during last 12months?': 'read_ebooks_last_12m',\n",
    "    'Last book you read, you…': 'last_book_read_format',\n",
    "    'Do you happen to read any daily news or newspapers?': 'read_daily_news',\n",
    "    'Do you happen to read any magazines or journals?': 'read_magazines_journals'\n",
    "}, inplace=True)"
   ]
  },
  {
   "cell_type": "code",
   "execution_count": 4,
   "metadata": {},
   "outputs": [
    {
     "data": {
      "text/html": [
       "<div>\n",
       "<style scoped>\n",
       "    .dataframe tbody tr th:only-of-type {\n",
       "        vertical-align: middle;\n",
       "    }\n",
       "\n",
       "    .dataframe tbody tr th {\n",
       "        vertical-align: top;\n",
       "    }\n",
       "\n",
       "    .dataframe thead th {\n",
       "        text-align: right;\n",
       "    }\n",
       "</style>\n",
       "<table border=\"1\" class=\"dataframe\">\n",
       "  <thead>\n",
       "    <tr style=\"text-align: right;\">\n",
       "      <th></th>\n",
       "      <th>age</th>\n",
       "      <th>sex</th>\n",
       "      <th>race</th>\n",
       "      <th>marital_status</th>\n",
       "      <th>education</th>\n",
       "      <th>employment_status</th>\n",
       "      <th>income_level</th>\n",
       "      <th>books_read_last_12m</th>\n",
       "      <th>read_printed_books_last_12m</th>\n",
       "      <th>read_audiobooks_last_12m</th>\n",
       "      <th>read_ebooks_last_12m</th>\n",
       "      <th>last_book_read_format</th>\n",
       "      <th>read_daily_news</th>\n",
       "      <th>read_magazines_journals</th>\n",
       "    </tr>\n",
       "  </thead>\n",
       "  <tbody>\n",
       "    <tr>\n",
       "      <th>0</th>\n",
       "      <td>66</td>\n",
       "      <td>Male</td>\n",
       "      <td>Refused</td>\n",
       "      <td>Divorced</td>\n",
       "      <td>College graduate</td>\n",
       "      <td>Retired</td>\n",
       "      <td>$20,000 to under $30,000</td>\n",
       "      <td>97</td>\n",
       "      <td>Yes</td>\n",
       "      <td>No</td>\n",
       "      <td>Yes</td>\n",
       "      <td>Purchased the book</td>\n",
       "      <td>No</td>\n",
       "      <td>Yes</td>\n",
       "    </tr>\n",
       "    <tr>\n",
       "      <th>1</th>\n",
       "      <td>46</td>\n",
       "      <td>Male</td>\n",
       "      <td>Native American/American Indian</td>\n",
       "      <td>Married</td>\n",
       "      <td>High school graduate</td>\n",
       "      <td>Employed full-time</td>\n",
       "      <td>Less than $10,000</td>\n",
       "      <td>97</td>\n",
       "      <td>Yes</td>\n",
       "      <td>Yes</td>\n",
       "      <td>Yes</td>\n",
       "      <td>Purchased the book</td>\n",
       "      <td>Yes</td>\n",
       "      <td>Yes</td>\n",
       "    </tr>\n",
       "    <tr>\n",
       "      <th>2</th>\n",
       "      <td>32</td>\n",
       "      <td>Male</td>\n",
       "      <td>Mixed race</td>\n",
       "      <td>Never been married</td>\n",
       "      <td>High school graduate</td>\n",
       "      <td>Employed full-time</td>\n",
       "      <td>Less than $10,000</td>\n",
       "      <td>97</td>\n",
       "      <td>No</td>\n",
       "      <td>Yes</td>\n",
       "      <td>Yes</td>\n",
       "      <td>Borrowed the book from a friend or family member</td>\n",
       "      <td>Yes</td>\n",
       "      <td>Yes</td>\n",
       "    </tr>\n",
       "    <tr>\n",
       "      <th>3</th>\n",
       "      <td>27</td>\n",
       "      <td>Male</td>\n",
       "      <td>Mixed race</td>\n",
       "      <td>Married</td>\n",
       "      <td>High school graduate</td>\n",
       "      <td>Employed full-time</td>\n",
       "      <td>$40,000 to under $50,000</td>\n",
       "      <td>97</td>\n",
       "      <td>Yes</td>\n",
       "      <td>No</td>\n",
       "      <td>Yes</td>\n",
       "      <td>Borrowed the book from a library</td>\n",
       "      <td>Yes</td>\n",
       "      <td>No</td>\n",
       "    </tr>\n",
       "    <tr>\n",
       "      <th>4</th>\n",
       "      <td>16</td>\n",
       "      <td>Female</td>\n",
       "      <td>Mixed race</td>\n",
       "      <td>Never been married</td>\n",
       "      <td>High school incomplete</td>\n",
       "      <td>Employed part-time</td>\n",
       "      <td>$10,000 to under $20,000</td>\n",
       "      <td>97</td>\n",
       "      <td>Yes</td>\n",
       "      <td>Yes</td>\n",
       "      <td>No</td>\n",
       "      <td>Purchased the book</td>\n",
       "      <td>Yes</td>\n",
       "      <td>No</td>\n",
       "    </tr>\n",
       "  </tbody>\n",
       "</table>\n",
       "</div>"
      ],
      "text/plain": [
       "   age     sex                             race      marital_status  \\\n",
       "0   66    Male                          Refused            Divorced   \n",
       "1   46    Male  Native American/American Indian             Married   \n",
       "2   32    Male                       Mixed race  Never been married   \n",
       "3   27    Male                       Mixed race             Married   \n",
       "4   16  Female                       Mixed race  Never been married   \n",
       "\n",
       "                education   employment_status              income_level  \\\n",
       "0        College graduate             Retired  $20,000 to under $30,000   \n",
       "1    High school graduate  Employed full-time         Less than $10,000   \n",
       "2    High school graduate  Employed full-time         Less than $10,000   \n",
       "3    High school graduate  Employed full-time  $40,000 to under $50,000   \n",
       "4  High school incomplete  Employed part-time  $10,000 to under $20,000   \n",
       "\n",
       "   books_read_last_12m read_printed_books_last_12m read_audiobooks_last_12m  \\\n",
       "0                   97                         Yes                       No   \n",
       "1                   97                         Yes                      Yes   \n",
       "2                   97                          No                      Yes   \n",
       "3                   97                         Yes                       No   \n",
       "4                   97                         Yes                      Yes   \n",
       "\n",
       "  read_ebooks_last_12m                             last_book_read_format  \\\n",
       "0                  Yes                                Purchased the book   \n",
       "1                  Yes                                Purchased the book   \n",
       "2                  Yes  Borrowed the book from a friend or family member   \n",
       "3                  Yes                  Borrowed the book from a library   \n",
       "4                   No                                Purchased the book   \n",
       "\n",
       "  read_daily_news read_magazines_journals  \n",
       "0              No                     Yes  \n",
       "1             Yes                     Yes  \n",
       "2             Yes                     Yes  \n",
       "3             Yes                      No  \n",
       "4             Yes                      No  "
      ]
     },
     "execution_count": 4,
     "metadata": {},
     "output_type": "execute_result"
    }
   ],
   "source": [
    "df.head(5)"
   ]
  },
  {
   "cell_type": "code",
   "execution_count": 5,
   "metadata": {},
   "outputs": [
    {
     "data": {
      "text/plain": [
       "(2832, 14)"
      ]
     },
     "execution_count": 5,
     "metadata": {},
     "output_type": "execute_result"
    }
   ],
   "source": [
    "# Có bao nhiêu hàng, bao nhiêu cột\n",
    "num_rows, num_cols = df.shape\n",
    "num_rows, num_cols"
   ]
  },
  {
   "cell_type": "code",
   "execution_count": 6,
   "metadata": {},
   "outputs": [
    {
     "name": "stdout",
     "output_type": "stream",
     "text": [
      "Dữ liệu có 1 dòng bị lặp.\n"
     ]
    }
   ],
   "source": [
    "# Kiểm tra trùng lặp\n",
    "\n",
    "num_duplicated_rows = df.duplicated().sum()\n",
    "if num_duplicated_rows == 0:\n",
    "    print(f\"Các dòng dữ liệu không bị lặp!\")\n",
    "else:\n",
    "    print(f\"Dữ liệu có {num_duplicated_rows} dòng bị lặp.\")"
   ]
  },
  {
   "cell_type": "code",
   "execution_count": 7,
   "metadata": {},
   "outputs": [],
   "source": [
    "# Xóa các dòng bị lặp\n",
    "df = df.drop_duplicates()"
   ]
  },
  {
   "cell_type": "code",
   "execution_count": 8,
   "metadata": {},
   "outputs": [
    {
     "data": {
      "text/plain": [
       "age                             int64\n",
       "sex                            object\n",
       "race                           object\n",
       "marital_status                 object\n",
       "education                      object\n",
       "employment_status              object\n",
       "income_level                   object\n",
       "books_read_last_12m             int64\n",
       "read_printed_books_last_12m    object\n",
       "read_audiobooks_last_12m       object\n",
       "read_ebooks_last_12m           object\n",
       "last_book_read_format          object\n",
       "read_daily_news                object\n",
       "read_magazines_journals        object\n",
       "dtype: object"
      ]
     },
     "execution_count": 8,
     "metadata": {},
     "output_type": "execute_result"
    }
   ],
   "source": [
    "# Kiểu dữ liệu của từng cột\n",
    "df.dtypes"
   ]
  },
  {
   "cell_type": "markdown",
   "metadata": {},
   "source": [
    "Kiểu dữ liệu là phụ hợp với các cột, riêng cột **income_level** cần điều chỉnh để có thể thuận lợi trong quá trình phân tích"
   ]
  },
  {
   "cell_type": "code",
   "execution_count": 9,
   "metadata": {},
   "outputs": [
    {
     "name": "stdout",
     "output_type": "stream",
     "text": [
      "$100,000 to under $150,000     530\n",
      "$50,000 to under $75,000       394\n",
      "$75,000 to under $100,000      315\n",
      "Refused                        291\n",
      "$30,000 to under $40,000       265\n",
      "$20,000 to under $30,000       238\n",
      "$10,000 to under $20,000       216\n",
      "9$100,000 to under $150,000    212\n",
      "$40,000 to under $50,000       207\n",
      "Less than $10,000              163\n",
      "Name: income_level, dtype: int64\n"
     ]
    }
   ],
   "source": [
    "income_stats = df['income_level'].value_counts()\n",
    "\n",
    "print(income_stats)"
   ]
  },
  {
   "cell_type": "markdown",
   "metadata": {},
   "source": [
    "Có 1 dòng giá trị bị lỗi *9$100,000 to under $150,000* do quá trình nhập dữ liệu => cần chỉnh sửa lại "
   ]
  },
  {
   "cell_type": "code",
   "execution_count": 10,
   "metadata": {},
   "outputs": [
    {
     "name": "stdout",
     "output_type": "stream",
     "text": [
      "$100,000 to under $150,000    742\n",
      "$50,000 to under $75,000      394\n",
      "$75,000 to under $100,000     315\n",
      "$30,000 to under $40,000      265\n",
      "$20,000 to under $30,000      238\n",
      "$10,000 to under $20,000      216\n",
      "$40,000 to under $50,000      207\n",
      "Less than $10,000             163\n",
      "Name: income_level, dtype: int64\n"
     ]
    }
   ],
   "source": [
    "df = df[df['income_level'].str.lower() != 'refused']\n",
    "\n",
    "df['income_level'] = df['income_level'].replace('9$100,000 to under $150,000', '$100,000 to under $150,000')\n",
    "\n",
    "income_stats = df['income_level'].value_counts()\n",
    "\n",
    "print(income_stats)"
   ]
  },
  {
   "cell_type": "code",
   "execution_count": null,
   "metadata": {},
   "outputs": [],
   "source": [
    "# Tạo từ điển để ánh xạ các khoảng thu nhập thành giá trị số\n",
    "income_mapping = {\n",
    "    'Less than $10,000': 1,\n",
    "    '$10,000 to under $20,000': 2,\n",
    "    '$20,000 to under $30,000': 3,\n",
    "    '$30,000 to under $40,000': 4,\n",
    "    '$40,000 to under $50,000': 5,\n",
    "    '$50,000 to under $75,000': 6,\n",
    "    '$75,000 to under $100,000': 7,\n",
    "    '$100,000 to under $150,000': 8\n",
    "}\n",
    "\n",
    "# Áp dụng ánh xạ vào cột 'income_level'\n",
    "df['income_level'] = df['income_level'].map(income_mapping)\n",
    "\n",
    "df.head(5)"
   ]
  },
  {
   "cell_type": "markdown",
   "metadata": {},
   "source": [
    "#### Khám phá các cột dữ liệu còn lại"
   ]
  },
  {
   "cell_type": "code",
   "execution_count": 11,
   "metadata": {},
   "outputs": [
    {
     "name": "stdout",
     "output_type": "stream",
     "text": [
      "50    69\n",
      "65    67\n",
      "47    66\n",
      "17    66\n",
      "16    64\n",
      "      ..\n",
      "90     2\n",
      "89     2\n",
      "91     1\n",
      "93     1\n",
      "92     1\n",
      "Name: age, Length: 78, dtype: int64\n"
     ]
    }
   ],
   "source": [
    "income_stats = df['age'].value_counts()\n",
    "\n",
    "print(income_stats)"
   ]
  },
  {
   "cell_type": "code",
   "execution_count": 12,
   "metadata": {},
   "outputs": [
    {
     "name": "stdout",
     "output_type": "stream",
     "text": [
      "Female    1302\n",
      "Male      1238\n",
      "Name: sex, dtype: int64\n"
     ]
    }
   ],
   "source": [
    "income_stats = df['sex'].value_counts()\n",
    "\n",
    "print(income_stats)"
   ]
  },
  {
   "cell_type": "code",
   "execution_count": 13,
   "metadata": {},
   "outputs": [
    {
     "name": "stdout",
     "output_type": "stream",
     "text": [
      "White                              1981\n",
      "Black or African-American           327\n",
      "Asian or Pacific Islander            62\n",
      "Mixed race                           58\n",
      "Other                                55\n",
      "Native American/American Indian      29\n",
      "Refused                              20\n",
      "Don’t know                            8\n",
      "Name: race, dtype: int64\n"
     ]
    }
   ],
   "source": [
    "income_stats = df['race'].value_counts()\n",
    "\n",
    "print(income_stats)"
   ]
  },
  {
   "cell_type": "code",
   "execution_count": 14,
   "metadata": {},
   "outputs": [
    {
     "name": "stdout",
     "output_type": "stream",
     "text": [
      "Married                  1327\n",
      "Never been married        574\n",
      "Divorced                  233\n",
      "Widowed                   159\n",
      "Living with a partner     135\n",
      "Single                     56\n",
      "Separated                  51\n",
      "Don’t know                  5\n",
      "Name: marital_status, dtype: int64\n"
     ]
    }
   ],
   "source": [
    "income_stats = df['marital_status'].value_counts()\n",
    "\n",
    "print(income_stats)"
   ]
  },
  {
   "cell_type": "code",
   "execution_count": 15,
   "metadata": {},
   "outputs": [
    {
     "name": "stdout",
     "output_type": "stream",
     "text": [
      "High school graduate                                        621\n",
      "Some college, no 4-year degree                              589\n",
      "College graduate                                            532\n",
      "Post-graduate training/professional school after college    430\n",
      "High school incomplete                                      249\n",
      "Technical, trade or vocational school AFTER high school      61\n",
      "None                                                         54\n",
      "Don’t know                                                    4\n",
      "Name: education, dtype: int64\n"
     ]
    }
   ],
   "source": [
    "income_stats = df['education'].value_counts()\n",
    "\n",
    "print(income_stats)"
   ]
  },
  {
   "cell_type": "code",
   "execution_count": 16,
   "metadata": {},
   "outputs": [
    {
     "name": "stdout",
     "output_type": "stream",
     "text": [
      "Employed full-time                 1131\n",
      "Retired                             494\n",
      "Not employed for pay                434\n",
      "Employed part-time                  334\n",
      "Disabled                             68\n",
      "Have own business/self-employed      48\n",
      "Student                              22\n",
      "Other                                 9\n",
      "Name: employment_status, dtype: int64\n"
     ]
    }
   ],
   "source": [
    "income_stats = df['employment_status'].value_counts()\n",
    "\n",
    "print(income_stats)"
   ]
  },
  {
   "cell_type": "code",
   "execution_count": 18,
   "metadata": {},
   "outputs": [
    {
     "name": "stdout",
     "output_type": "stream",
     "text": [
      "0     345\n",
      "3     194\n",
      "6     152\n",
      "2     151\n",
      "10    151\n",
      "5     148\n",
      "20    146\n",
      "4     145\n",
      "12    135\n",
      "1     133\n",
      "97    114\n",
      "30    102\n",
      "15     97\n",
      "50     95\n",
      "25     69\n",
      "8      63\n",
      "40     46\n",
      "7      45\n",
      "24     32\n",
      "60     18\n",
      "35     15\n",
      "96     14\n",
      "75     13\n",
      "36     13\n",
      "13     11\n",
      "18     10\n",
      "9      10\n",
      "70      9\n",
      "16      9\n",
      "14      7\n",
      "45      7\n",
      "17      6\n",
      "11      4\n",
      "80      4\n",
      "32      3\n",
      "48      3\n",
      "47      2\n",
      "26      2\n",
      "65      2\n",
      "84      1\n",
      "67      1\n",
      "90      1\n",
      "76      1\n",
      "55      1\n",
      "19      1\n",
      "54      1\n",
      "23      1\n",
      "37      1\n",
      "38      1\n",
      "42      1\n",
      "43      1\n",
      "51      1\n",
      "52      1\n",
      "22      1\n",
      "Name: books_read_last_12m, dtype: int64\n"
     ]
    }
   ],
   "source": [
    "income_stats = df['books_read_last_12m'].value_counts()\n",
    "\n",
    "print(income_stats)"
   ]
  },
  {
   "cell_type": "code",
   "execution_count": 19,
   "metadata": {},
   "outputs": [
    {
     "name": "stdout",
     "output_type": "stream",
     "text": [
      "Yes           2031\n",
      "No             156\n",
      "Don’t know       8\n",
      "Name: read_printed_books_last_12m, dtype: int64\n"
     ]
    }
   ],
   "source": [
    "income_stats = df['read_printed_books_last_12m'].value_counts()\n",
    "\n",
    "print(income_stats)"
   ]
  },
  {
   "cell_type": "code",
   "execution_count": 20,
   "metadata": {},
   "outputs": [
    {
     "name": "stdout",
     "output_type": "stream",
     "text": [
      "No            1821\n",
      "Yes            371\n",
      "Don’t know       3\n",
      "Name: read_audiobooks_last_12m, dtype: int64\n"
     ]
    }
   ],
   "source": [
    "income_stats = df['read_audiobooks_last_12m'].value_counts()\n",
    "\n",
    "print(income_stats)"
   ]
  },
  {
   "cell_type": "code",
   "execution_count": 22,
   "metadata": {},
   "outputs": [
    {
     "name": "stdout",
     "output_type": "stream",
     "text": [
      "No            1464\n",
      "Yes            718\n",
      "Don’t know      13\n",
      "Name: read_ebooks_last_12m, dtype: int64\n"
     ]
    }
   ],
   "source": [
    "income_stats = df['read_ebooks_last_12m'].value_counts()\n",
    "\n",
    "print(income_stats)"
   ]
  },
  {
   "cell_type": "code",
   "execution_count": 23,
   "metadata": {},
   "outputs": [
    {
     "name": "stdout",
     "output_type": "stream",
     "text": [
      "Purchased the book                                  1144\n",
      "Borrowed the book from a friend or family member     452\n",
      "Borrowed the book from a library                     291\n",
      "Got the book some other way                          280\n",
      "8                                                     23\n",
      "9                                                      5\n",
      "Name: last_book_read_format, dtype: int64\n"
     ]
    }
   ],
   "source": [
    "income_stats = df['last_book_read_format'].value_counts()\n",
    "\n",
    "print(income_stats)"
   ]
  },
  {
   "cell_type": "code",
   "execution_count": 25,
   "metadata": {},
   "outputs": [
    {
     "name": "stdout",
     "output_type": "stream",
     "text": [
      "Yes           1543\n",
      "No             992\n",
      "Don’t know       5\n",
      "Name: read_daily_news, dtype: int64\n"
     ]
    }
   ],
   "source": [
    "income_stats = df['read_daily_news'].value_counts()\n",
    "\n",
    "print(income_stats)"
   ]
  },
  {
   "cell_type": "code",
   "execution_count": 26,
   "metadata": {},
   "outputs": [
    {
     "name": "stdout",
     "output_type": "stream",
     "text": [
      "Yes           1336\n",
      "No            1200\n",
      "Don’t know       4\n",
      "Name: read_magazines_journals, dtype: int64\n"
     ]
    }
   ],
   "source": [
    "income_stats = df['read_magazines_journals'].value_counts()\n",
    "\n",
    "print(income_stats)"
   ]
  }
 ],
 "metadata": {
  "kernelspec": {
   "display_name": "min_ds-env",
   "language": "python",
   "name": "python3"
  },
  "language_info": {
   "codemirror_mode": {
    "name": "ipython",
    "version": 3
   },
   "file_extension": ".py",
   "mimetype": "text/x-python",
   "name": "python",
   "nbconvert_exporter": "python",
   "pygments_lexer": "ipython3",
   "version": "3.10.8"
  }
 },
 "nbformat": 4,
 "nbformat_minor": 2
}
