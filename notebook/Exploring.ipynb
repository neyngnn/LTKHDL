{
 "cells": [
  {
   "cell_type": "markdown",
   "metadata": {},
   "source": [
    "# **Data Exploration**"
   ]
  },
  {
   "cell_type": "markdown",
   "metadata": {},
   "source": [
    "Import các thư viện cần thiết."
   ]
  },
  {
   "cell_type": "code",
   "execution_count": 1,
   "metadata": {},
   "outputs": [],
   "source": [
    "# Import necessary libraries\n",
    "import pandas as pd\n",
    "import numpy as np\n",
    "import matplotlib.pyplot as plt\n",
    "import seaborn as sns"
   ]
  },
  {
   "cell_type": "markdown",
   "metadata": {},
   "source": [
    "Đọc dữ liệu từ file csv."
   ]
  },
  {
   "cell_type": "code",
   "execution_count": 2,
   "metadata": {},
   "outputs": [
    {
     "data": {
      "text/html": [
       "<div>\n",
       "<style scoped>\n",
       "    .dataframe tbody tr th:only-of-type {\n",
       "        vertical-align: middle;\n",
       "    }\n",
       "\n",
       "    .dataframe tbody tr th {\n",
       "        vertical-align: top;\n",
       "    }\n",
       "\n",
       "    .dataframe thead th {\n",
       "        text-align: right;\n",
       "    }\n",
       "</style>\n",
       "<table border=\"1\" class=\"dataframe\">\n",
       "  <thead>\n",
       "    <tr style=\"text-align: right;\">\n",
       "      <th></th>\n",
       "      <th>Age</th>\n",
       "      <th>Sex</th>\n",
       "      <th>Race</th>\n",
       "      <th>Marital status?</th>\n",
       "      <th>Education</th>\n",
       "      <th>Employement</th>\n",
       "      <th>Incomes</th>\n",
       "      <th>How many books did you read during last 12months?</th>\n",
       "      <th>Read any printed books during last 12months?</th>\n",
       "      <th>Read any audiobooks during last 12months?</th>\n",
       "      <th>Read any e-books during last 12months?</th>\n",
       "      <th>Last book you read, you…</th>\n",
       "      <th>Do you happen to read any daily news or newspapers?</th>\n",
       "      <th>Do you happen to read any magazines or journals?</th>\n",
       "    </tr>\n",
       "  </thead>\n",
       "  <tbody>\n",
       "    <tr>\n",
       "      <th>0</th>\n",
       "      <td>66</td>\n",
       "      <td>Male</td>\n",
       "      <td>Refused</td>\n",
       "      <td>Divorced</td>\n",
       "      <td>College graduate</td>\n",
       "      <td>Retired</td>\n",
       "      <td>$20,000 to under $30,000</td>\n",
       "      <td>97</td>\n",
       "      <td>Yes</td>\n",
       "      <td>No</td>\n",
       "      <td>Yes</td>\n",
       "      <td>Purchased the book</td>\n",
       "      <td>No</td>\n",
       "      <td>Yes</td>\n",
       "    </tr>\n",
       "    <tr>\n",
       "      <th>1</th>\n",
       "      <td>46</td>\n",
       "      <td>Male</td>\n",
       "      <td>Native American/American Indian</td>\n",
       "      <td>Married</td>\n",
       "      <td>High school graduate</td>\n",
       "      <td>Employed full-time</td>\n",
       "      <td>Less than $10,000</td>\n",
       "      <td>97</td>\n",
       "      <td>Yes</td>\n",
       "      <td>Yes</td>\n",
       "      <td>Yes</td>\n",
       "      <td>Purchased the book</td>\n",
       "      <td>Yes</td>\n",
       "      <td>Yes</td>\n",
       "    </tr>\n",
       "    <tr>\n",
       "      <th>2</th>\n",
       "      <td>32</td>\n",
       "      <td>Male</td>\n",
       "      <td>Mixed race</td>\n",
       "      <td>Never been married</td>\n",
       "      <td>High school graduate</td>\n",
       "      <td>Employed full-time</td>\n",
       "      <td>Less than $10,000</td>\n",
       "      <td>97</td>\n",
       "      <td>No</td>\n",
       "      <td>Yes</td>\n",
       "      <td>Yes</td>\n",
       "      <td>Borrowed the book from a friend or family member</td>\n",
       "      <td>Yes</td>\n",
       "      <td>Yes</td>\n",
       "    </tr>\n",
       "    <tr>\n",
       "      <th>3</th>\n",
       "      <td>27</td>\n",
       "      <td>Male</td>\n",
       "      <td>Mixed race</td>\n",
       "      <td>Married</td>\n",
       "      <td>High school graduate</td>\n",
       "      <td>Employed full-time</td>\n",
       "      <td>$40,000 to under $50,000</td>\n",
       "      <td>97</td>\n",
       "      <td>Yes</td>\n",
       "      <td>No</td>\n",
       "      <td>Yes</td>\n",
       "      <td>Borrowed the book from a library</td>\n",
       "      <td>Yes</td>\n",
       "      <td>No</td>\n",
       "    </tr>\n",
       "    <tr>\n",
       "      <th>4</th>\n",
       "      <td>16</td>\n",
       "      <td>Female</td>\n",
       "      <td>Mixed race</td>\n",
       "      <td>Never been married</td>\n",
       "      <td>High school incomplete</td>\n",
       "      <td>Employed part-time</td>\n",
       "      <td>$10,000 to under $20,000</td>\n",
       "      <td>97</td>\n",
       "      <td>Yes</td>\n",
       "      <td>Yes</td>\n",
       "      <td>No</td>\n",
       "      <td>Purchased the book</td>\n",
       "      <td>Yes</td>\n",
       "      <td>No</td>\n",
       "    </tr>\n",
       "  </tbody>\n",
       "</table>\n",
       "</div>"
      ],
      "text/plain": [
       "   Age     Sex                             Race     Marital status?  \\\n",
       "0   66    Male                          Refused            Divorced   \n",
       "1   46    Male  Native American/American Indian             Married   \n",
       "2   32    Male                       Mixed race  Never been married   \n",
       "3   27    Male                       Mixed race             Married   \n",
       "4   16  Female                       Mixed race  Never been married   \n",
       "\n",
       "                Education         Employement                   Incomes  \\\n",
       "0        College graduate             Retired  $20,000 to under $30,000   \n",
       "1    High school graduate  Employed full-time         Less than $10,000   \n",
       "2    High school graduate  Employed full-time         Less than $10,000   \n",
       "3    High school graduate  Employed full-time  $40,000 to under $50,000   \n",
       "4  High school incomplete  Employed part-time  $10,000 to under $20,000   \n",
       "\n",
       "   How many books did you read during last 12months?  \\\n",
       "0                                                 97   \n",
       "1                                                 97   \n",
       "2                                                 97   \n",
       "3                                                 97   \n",
       "4                                                 97   \n",
       "\n",
       "  Read any printed books during last 12months?  \\\n",
       "0                                          Yes   \n",
       "1                                          Yes   \n",
       "2                                           No   \n",
       "3                                          Yes   \n",
       "4                                          Yes   \n",
       "\n",
       "  Read any audiobooks during last 12months?  \\\n",
       "0                                        No   \n",
       "1                                       Yes   \n",
       "2                                       Yes   \n",
       "3                                        No   \n",
       "4                                       Yes   \n",
       "\n",
       "  Read any e-books during last 12months?  \\\n",
       "0                                    Yes   \n",
       "1                                    Yes   \n",
       "2                                    Yes   \n",
       "3                                    Yes   \n",
       "4                                     No   \n",
       "\n",
       "                           Last book you read, you…  \\\n",
       "0                                Purchased the book   \n",
       "1                                Purchased the book   \n",
       "2  Borrowed the book from a friend or family member   \n",
       "3                  Borrowed the book from a library   \n",
       "4                                Purchased the book   \n",
       "\n",
       "  Do you happen to read any daily news or newspapers?  \\\n",
       "0                                                 No    \n",
       "1                                                Yes    \n",
       "2                                                Yes    \n",
       "3                                                Yes    \n",
       "4                                                Yes    \n",
       "\n",
       "  Do you happen to read any magazines or journals?  \n",
       "0                                              Yes  \n",
       "1                                              Yes  \n",
       "2                                              Yes  \n",
       "3                                               No  \n",
       "4                                               No  "
      ]
     },
     "execution_count": 2,
     "metadata": {},
     "output_type": "execute_result"
    }
   ],
   "source": [
    "# read file csv\n",
    "df = pd.read_csv('./data/data.csv')\n",
    "df.head()"
   ]
  },
  {
   "cell_type": "markdown",
   "metadata": {},
   "source": [
    "## 1. DỮ LIỆU CÓ BAO NHIÊU DÒNG, BAO NHIÊU CỘT?"
   ]
  },
  {
   "cell_type": "code",
   "execution_count": 3,
   "metadata": {},
   "outputs": [
    {
     "name": "stdout",
     "output_type": "stream",
     "text": [
      "Kích thước dữ liệu : (2832, 14)\n"
     ]
    }
   ],
   "source": [
    "print(f\"Kích thước dữ liệu : {df.shape}\")"
   ]
  },
  {
   "cell_type": "markdown",
   "metadata": {},
   "source": [
    "## 2. KHÁM PHÁ CÁC DÒNG DỮ LIỆU"
   ]
  },
  {
   "cell_type": "markdown",
   "metadata": {},
   "source": [
    "### 2.1 Mỗi dòng có ý nghĩa gì? Có dòng nào có ý nghĩa khác với các dòng còn lại hay không? "
   ]
  },
  {
   "cell_type": "markdown",
   "metadata": {},
   "source": [
    "- Mỗi dòng là thông tin về người khảo sát như và thói quen đọc sách của một người trong vòng 12 tháng vừa qua.\n",
    "\n",
    "- Không có dòng nào có ỹ nghĩa khác so với các dòng còn lại."
   ]
  },
  {
   "cell_type": "markdown",
   "metadata": {},
   "source": [
    "### 2.2 Có dòng nào bị trùng không? "
   ]
  },
  {
   "cell_type": "code",
   "execution_count": 4,
   "metadata": {},
   "outputs": [
    {
     "name": "stdout",
     "output_type": "stream",
     "text": [
      "Số dòng bị trùng: 1\n"
     ]
    }
   ],
   "source": [
    "# count duplicate rows\n",
    "dublicate_rows = df.duplicated().sum()\n",
    "print(f\"Số dòng bị trùng: {dublicate_rows}\")"
   ]
  },
  {
   "cell_type": "markdown",
   "metadata": {},
   "source": [
    "- Kết quả cho thấy rằng có 1 dòng bị trùng. Nhóm tiến hành xóa bỏ dòng bị trùng đó."
   ]
  },
  {
   "cell_type": "code",
   "execution_count": null,
   "metadata": {},
   "outputs": [
    {
     "name": "stdout",
     "output_type": "stream",
     "text": [
      "Kích thước dữ liệu: (2831, 14)\n"
     ]
    }
   ],
   "source": [
    "# remove the dublicate row\n",
    "df = df.drop_duplicates()\n",
    "print(f\"Kích thước dữ liệu: {df.shape}\")"
   ]
  },
  {
   "cell_type": "markdown",
   "metadata": {},
   "source": [
    "## 3. KHÁM PHÁ CÁC CỘT DỮ LIỆU"
   ]
  },
  {
   "cell_type": "markdown",
   "metadata": {},
   "source": [
    "### 3.1 Dữ liệu có những cột nào ? "
   ]
  },
  {
   "cell_type": "code",
   "execution_count": 6,
   "metadata": {},
   "outputs": [
    {
     "data": {
      "text/plain": [
       "Index(['Age', 'Sex', 'Race', 'Marital status?', 'Education', 'Employement',\n",
       "       'Incomes', 'How many books did you read during last 12months?',\n",
       "       'Read any printed books during last 12months?',\n",
       "       'Read any audiobooks during last 12months?',\n",
       "       'Read any e-books during last 12months?', 'Last book you read, you…',\n",
       "       'Do you happen to read any daily news or newspapers?',\n",
       "       'Do you happen to read any magazines or journals?'],\n",
       "      dtype='object')"
      ]
     },
     "execution_count": 6,
     "metadata": {},
     "output_type": "execute_result"
    }
   ],
   "source": [
    "df.columns"
   ]
  },
  {
   "cell_type": "markdown",
   "metadata": {},
   "source": [
    "- Như mô tả về ý nghĩa các dòng dữ liệu ở trên, dữ liệu chứa các câu hỏi khảo sát về thói quen đọc sách trong vòng 12 tháng qua nên cụm từ \"last 12 months\" xuất hiện khá nhiều. Điều này làm cho các cột có ý nghĩa rõ ràng hơn nhưng đồng thời khiến tên cột trở nên dài 1 cách không cần thiết và gây khó cho việc trực quan.\n",
    "\n",
    "- Vì vậy, nhóm quyết định đổi tên cột dữ liệu cho ngắn hơn như dưới đây để tiện cho quá trình làm việc nhưng không làm mất đi ý nghĩa các cột."
   ]
  },
  {
   "cell_type": "code",
   "execution_count": 7,
   "metadata": {},
   "outputs": [],
   "source": [
    "df.rename(columns={'Marital status?': 'Marital status'}, inplace=True)\n",
    "df.rename(columns={'Last book you read, you…': 'Source of the last book read'}, inplace=True)\n",
    "df.rename(columns={'How many books did you read during last 12months?': 'Number of books read'}, inplace= True)\n",
    "df.rename(columns={'Read any printed books during last 12months?':'Printed books?'}, inplace=True)\n",
    "df.rename(columns={'Read any audiobooks during last 12months?': 'Audiobooks?'}, inplace=True)\n",
    "df.rename(columns={'Read any e-books during last 12months?':'E-books?'}, inplace=True)\n",
    "df.rename(columns={'Do you happen to read any daily news or newspapers?':'Daily news/newspapers reader?'}, inplace=True)\n",
    "df.rename(columns={'Do you happen to read any magazines or journals?':'Magazines/Journals Reader?'}, inplace=True)"
   ]
  },
  {
   "cell_type": "markdown",
   "metadata": {},
   "source": [
    "### 3.2 Ý nghĩa các cột dữ liệu"
   ]
  },
  {
   "cell_type": "markdown",
   "metadata": {},
   "source": [
    "Mỗi cột dữ liệu có ý nghĩa như trong bảng dưới đây."
   ]
  },
  {
   "cell_type": "markdown",
   "metadata": {},
   "source": [
    "|**TÊN CỘT**|**Ý NGHĨA**|\n",
    "|-----------|-------|\n",
    "| Age| Tuổi của người tham gia khảo sát|\n",
    "| Sex| gender of the respondent|\n",
    "| Race| the racial or ethnic background of the respondent|\n",
    "| Marital status| the current marital status of the respondent|\n",
    "| Education| the highest level of education completed by the respondent|\n",
    "| Employement| the employment status of the respondent|\n",
    "| Income| the income level of the respondent|\n",
    "| Number of books read| the total number of books the respondent has read in the past year|\n",
    "| Printed books?| a yes/no question indicating whether the respondent has read any printed books (physical books) in the past year|\n",
    "| Audiobooks?| a yes/no question indicating whether the respondent has read any audiobooks in the past year|\n",
    "| E-books?| a yes/no question indicating whether the respondent has read any electronic books in the past year|\n",
    "| Source of the last book read| the method the respondent used to get the book he/she most recently read|\n",
    "| Daily news/newspapers reader?| a yes/no question indicating whether the respondent reads daily news sources or newspapers|\n",
    "| Magazines/Journals Reader?| a yes/no question indicating whether the respondent reads magazines or academic journals|\n"
   ]
  },
  {
   "cell_type": "markdown",
   "metadata": {},
   "source": [
    "### 3.3 Kiểu dữ liệu hiện tại của các cột là gì? Có cột nào có kiểu dữ liệu không phù hợp hay không?"
   ]
  },
  {
   "cell_type": "markdown",
   "metadata": {},
   "source": [
    "- Kiểu dữ liệu hiện tại của các cột:"
   ]
  },
  {
   "cell_type": "code",
   "execution_count": 8,
   "metadata": {},
   "outputs": [
    {
     "data": {
      "text/plain": [
       "Age                               int64\n",
       "Sex                              object\n",
       "Race                             object\n",
       "Marital status                   object\n",
       "Education                        object\n",
       "Employement                      object\n",
       "Incomes                          object\n",
       "Number of books read              int64\n",
       "Printed books?                   object\n",
       "Audiobooks?                      object\n",
       "E-books?                         object\n",
       "Source of the last book read     object\n",
       "Daily news/newspapers reader?    object\n",
       "Magazines/Journals Reader?       object\n",
       "dtype: object"
      ]
     },
     "execution_count": 8,
     "metadata": {},
     "output_type": "execute_result"
    }
   ],
   "source": [
    "column_types = df.dtypes\n",
    "column_types"
   ]
  },
  {
   "cell_type": "markdown",
   "metadata": {},
   "source": [
    "- Kiểm tra kiểu dữ liệu hiện tại có phù hợp hay không:"
   ]
  },
  {
   "cell_type": "markdown",
   "metadata": {},
   "source": [
    "- The 'income' column is considered numeric data type, but since the survey does not ask for a specific income level but only a range, it has a string data type. We convert it into tuple for easier statistics."
   ]
  },
  {
   "cell_type": "code",
   "execution_count": 9,
   "metadata": {},
   "outputs": [],
   "source": [
    "#initialize a dictionary to convert string to tuple\n",
    "income_mapping = {\n",
    "    'Less than $10,000': 1,\n",
    "    '$10,000 to under $20,000': 2,\n",
    "    '$20,000 to under $30,000': 3,\n",
    "    '$30,000 to under $40,000': 4,\n",
    "    '$40,000 to under $50,000': 5,\n",
    "    '$50,000 to under $75,000': 6,\n",
    "    '$75,000 to under $100,000': 7,\n",
    "    '9$100,000 to under $150,000': 8,\n",
    "    '$100,000 to under $150,000': 8, \n",
    "}"
   ]
  },
  {
   "cell_type": "code",
   "execution_count": 10,
   "metadata": {},
   "outputs": [],
   "source": [
    "df.replace({'Incomes': income_mapping}, inplace=True)\n",
    "df.drop(df[df['Incomes'] == 'Refused'].index, inplace=True)"
   ]
  },
  {
   "cell_type": "markdown",
   "metadata": {},
   "source": [
    "- Kiểu dữ liệu sau khi điều chỉnh:"
   ]
  },
  {
   "cell_type": "code",
   "execution_count": 11,
   "metadata": {},
   "outputs": [
    {
     "data": {
      "text/plain": [
       "Age                               int64\n",
       "Sex                              object\n",
       "Race                             object\n",
       "Marital status                   object\n",
       "Education                        object\n",
       "Employement                      object\n",
       "Incomes                          object\n",
       "Number of books read              int64\n",
       "Printed books?                   object\n",
       "Audiobooks?                      object\n",
       "E-books?                         object\n",
       "Source of the last book read     object\n",
       "Daily news/newspapers reader?    object\n",
       "Magazines/Journals Reader?       object\n",
       "dtype: object"
      ]
     },
     "execution_count": 11,
     "metadata": {},
     "output_type": "execute_result"
    }
   ],
   "source": [
    "column_types = df.dtypes\n",
    "column_types"
   ]
  },
  {
   "cell_type": "markdown",
   "metadata": {},
   "source": [
    "## 4. THỐNG KÊ CHO CÁC CỘT KIỂU NUMERICAL"
   ]
  },
  {
   "cell_type": "markdown",
   "metadata": {},
   "source": [
    "### 4.1 Các cột kiểu numerical trong dữ liệu"
   ]
  },
  {
   "cell_type": "code",
   "execution_count": 12,
   "metadata": {},
   "outputs": [
    {
     "data": {
      "text/plain": [
       "['Age', 'Number of books read']"
      ]
     },
     "execution_count": 12,
     "metadata": {},
     "output_type": "execute_result"
    }
   ],
   "source": [
    "numerical_columns = df.select_dtypes(include=['int64']).columns.tolist()\n",
    "numerical_columns"
   ]
  },
  {
   "cell_type": "markdown",
   "metadata": {},
   "source": [
    "### 4.2 Tính chất của các cột"
   ]
  },
  {
   "cell_type": "markdown",
   "metadata": {},
   "source": [
    "|**Tên cột**|**Phân phối**|\n",
    "|-----------|-------------|\n",
    "|Age| Liên tục|\n",
    "|Number of books read| Rời rạc|"
   ]
  },
  {
   "cell_type": "markdown",
   "metadata": {},
   "source": [
    "### 4.3 Tỉ lệ dữ liệu bị thiếu"
   ]
  },
  {
   "cell_type": "code",
   "execution_count": 13,
   "metadata": {},
   "outputs": [
    {
     "name": "stdout",
     "output_type": "stream",
     "text": [
      "Age: 0.0%\n",
      "Number of books read: 0.0%\n"
     ]
    }
   ],
   "source": [
    "for col_name in numerical_columns:\n",
    "    print(f'{col_name}: {df[col_name].isnull().mean()*100}%')"
   ]
  },
  {
   "cell_type": "markdown",
   "metadata": {},
   "source": [
    "### 4.4 Tính toán giá trị thống kê. Dữ liệu có bất thường không? "
   ]
  },
  {
   "cell_type": "code",
   "execution_count": 14,
   "metadata": {},
   "outputs": [
    {
     "data": {
      "text/html": [
       "<div>\n",
       "<style scoped>\n",
       "    .dataframe tbody tr th:only-of-type {\n",
       "        vertical-align: middle;\n",
       "    }\n",
       "\n",
       "    .dataframe tbody tr th {\n",
       "        vertical-align: top;\n",
       "    }\n",
       "\n",
       "    .dataframe thead th {\n",
       "        text-align: right;\n",
       "    }\n",
       "</style>\n",
       "<table border=\"1\" class=\"dataframe\">\n",
       "  <thead>\n",
       "    <tr style=\"text-align: right;\">\n",
       "      <th></th>\n",
       "      <th>Age</th>\n",
       "      <th>Number of books read</th>\n",
       "    </tr>\n",
       "  </thead>\n",
       "  <tbody>\n",
       "    <tr>\n",
       "      <th>count</th>\n",
       "      <td>2540.000000</td>\n",
       "      <td>2540.000000</td>\n",
       "    </tr>\n",
       "    <tr>\n",
       "      <th>mean</th>\n",
       "      <td>46.061811</td>\n",
       "      <td>16.732677</td>\n",
       "    </tr>\n",
       "    <tr>\n",
       "      <th>std</th>\n",
       "      <td>18.335151</td>\n",
       "      <td>23.710754</td>\n",
       "    </tr>\n",
       "    <tr>\n",
       "      <th>min</th>\n",
       "      <td>16.000000</td>\n",
       "      <td>0.000000</td>\n",
       "    </tr>\n",
       "    <tr>\n",
       "      <th>25%</th>\n",
       "      <td>31.000000</td>\n",
       "      <td>3.000000</td>\n",
       "    </tr>\n",
       "    <tr>\n",
       "      <th>50%</th>\n",
       "      <td>47.000000</td>\n",
       "      <td>7.000000</td>\n",
       "    </tr>\n",
       "    <tr>\n",
       "      <th>75%</th>\n",
       "      <td>60.000000</td>\n",
       "      <td>20.000000</td>\n",
       "    </tr>\n",
       "    <tr>\n",
       "      <th>max</th>\n",
       "      <td>93.000000</td>\n",
       "      <td>97.000000</td>\n",
       "    </tr>\n",
       "  </tbody>\n",
       "</table>\n",
       "</div>"
      ],
      "text/plain": [
       "               Age  Number of books read\n",
       "count  2540.000000           2540.000000\n",
       "mean     46.061811             16.732677\n",
       "std      18.335151             23.710754\n",
       "min      16.000000              0.000000\n",
       "25%      31.000000              3.000000\n",
       "50%      47.000000              7.000000\n",
       "75%      60.000000             20.000000\n",
       "max      93.000000             97.000000"
      ]
     },
     "execution_count": 14,
     "metadata": {},
     "output_type": "execute_result"
    }
   ],
   "source": [
    "df.describe()"
   ]
  },
  {
   "cell_type": "markdown",
   "metadata": {},
   "source": [
    "### 4.5 Trực quan hóa phân phối dữ liệu"
   ]
  },
  {
   "cell_type": "code",
   "execution_count": 15,
   "metadata": {},
   "outputs": [
    {
     "data": {
      "image/png": "[encoded data removed]",
      "text/plain": [
       "<Figure size 1800x600 with 2 Axes>"
      ]
     },
     "metadata": {},
     "output_type": "display_data"
    }
   ],
   "source": [
    "fig, axes = plt.subplots(nrows=1, ncols=2, figsize=(18, 6))\n",
    "\n",
    "# 1. histogram of 'age'\n",
    "age_bins = [15, 25, 35, 45, 55, 65, 75, 85, 95]\n",
    "axes[0].hist(df['Age'], bins=age_bins, color='orange', edgecolor='black', alpha=0.7)\n",
    "axes[0].set_title('Age Distribution')\n",
    "axes[0].set_xlabel('Age')\n",
    "axes[0].set_ylabel('Frequency')\n",
    "\n",
    "# 2. histogram of 'number_of_books_read'\n",
    "book_bin_edges = list(range(0, 101, 20))\n",
    "axes[1].hist(df['Number of books read'], bins=book_bin_edges, color='orange', edgecolor='black', alpha=0.7)\n",
    "axes[1].set_title('Number of books Read Distribution')\n",
    "axes[1].set_xlabel('Number of books Read')\n",
    "axes[1].set_ylabel('Frequency')\n",
    "\n",
    "plt.tight_layout()\n",
    "plt.show()"
   ]
  },
  {
   "cell_type": "markdown",
   "metadata": {},
   "source": [
    "## 5. THỐNG KÊ CHO CÁC CỘT KIỂU PHÂN LOẠI"
   ]
  },
  {
   "cell_type": "markdown",
   "metadata": {},
   "source": [
    "### 5.1 Các cột kiểu categorical"
   ]
  },
  {
   "cell_type": "code",
   "execution_count": 16,
   "metadata": {},
   "outputs": [
    {
     "data": {
      "text/plain": [
       "['Sex',\n",
       " 'Race',\n",
       " 'Marital status',\n",
       " 'Education',\n",
       " 'Employement',\n",
       " 'Incomes',\n",
       " 'Printed books?',\n",
       " 'Audiobooks?',\n",
       " 'E-books?',\n",
       " 'Source of the last book read',\n",
       " 'Daily news/newspapers reader?',\n",
       " 'Magazines/Journals Reader?']"
      ]
     },
     "execution_count": 16,
     "metadata": {},
     "output_type": "execute_result"
    }
   ],
   "source": [
    "categorical_columns = df.select_dtypes(include='object').columns.tolist()\n",
    "categorical_columns"
   ]
  },
  {
   "cell_type": "markdown",
   "metadata": {},
   "source": [
    "### 5.2 Tính chất của các cột"
   ]
  },
  {
   "cell_type": "markdown",
   "metadata": {},
   "source": [
    "|**Tên cột**|**Tính chất**|\n",
    "|-----------|-------------|\n",
    "|Sex| Không có thứ tự|\n",
    "|Race| Không có thứ tự|\n",
    "|Marital status| Không có thứ tự|\n",
    "|Education| Không có thứ tự|\n",
    "|Employment| Không có thứ tự|\n",
    "|Incomes| Có thứ tự|\n",
    "|Printed books?| Không có thứ tự|\n",
    "|Audiobooks?| Không có thứ tự|\n",
    "|E-books?| Không có thứ tự|\n",
    "|Source of the last book read| Không có thứ tự|\n",
    "|Daily news/newspapers reader?| Không có thứ tự|\n",
    "|Magazines/Journals Reader?| Không có thứ tự|"
   ]
  },
  {
   "cell_type": "markdown",
   "metadata": {},
   "source": [
    "### 5.3 Các giá trị của từng cột"
   ]
  },
  {
   "cell_type": "code",
   "execution_count": 17,
   "metadata": {},
   "outputs": [],
   "source": [
    "def flatten_categorical_stats(df, categorical_columns):\n",
    "    rows = []\n",
    "    \n",
    "    for col in categorical_columns:\n",
    "        total = len(df[col])\n",
    "        counts = df[col].value_counts(dropna=False)\n",
    "        percentages = (counts / total * 100).round(2)\n",
    "        \n",
    "        # tạo các hàng cho từng giá trị của từng cột\n",
    "        for value, count, percentage in zip(counts.index, counts.values, percentages.values):\n",
    "            row = {\n",
    "                'column': col,\n",
    "                'value': value,\n",
    "                'count': count,\n",
    "                'percentage': percentage\n",
    "            }\n",
    "            rows.append(row)\n",
    "    \n",
    "    result_df = pd.DataFrame(rows)\n",
    "    return result_df\n"
   ]
  },
  {
   "cell_type": "code",
   "execution_count": 18,
   "metadata": {},
   "outputs": [
    {
     "data": {
      "text/html": [
       "<div>\n",
       "<style scoped>\n",
       "    .dataframe tbody tr th:only-of-type {\n",
       "        vertical-align: middle;\n",
       "    }\n",
       "\n",
       "    .dataframe tbody tr th {\n",
       "        vertical-align: top;\n",
       "    }\n",
       "\n",
       "    .dataframe thead th {\n",
       "        text-align: right;\n",
       "    }\n",
       "</style>\n",
       "<table border=\"1\" class=\"dataframe\">\n",
       "  <thead>\n",
       "    <tr style=\"text-align: right;\">\n",
       "      <th></th>\n",
       "      <th>column</th>\n",
       "      <th>value</th>\n",
       "      <th>count</th>\n",
       "      <th>percentage</th>\n",
       "    </tr>\n",
       "  </thead>\n",
       "  <tbody>\n",
       "    <tr>\n",
       "      <th>0</th>\n",
       "      <td>Sex</td>\n",
       "      <td>Female</td>\n",
       "      <td>1302</td>\n",
       "      <td>51.26</td>\n",
       "    </tr>\n",
       "    <tr>\n",
       "      <th>1</th>\n",
       "      <td>Sex</td>\n",
       "      <td>Male</td>\n",
       "      <td>1238</td>\n",
       "      <td>48.74</td>\n",
       "    </tr>\n",
       "    <tr>\n",
       "      <th>2</th>\n",
       "      <td>Race</td>\n",
       "      <td>White</td>\n",
       "      <td>1981</td>\n",
       "      <td>77.99</td>\n",
       "    </tr>\n",
       "    <tr>\n",
       "      <th>3</th>\n",
       "      <td>Race</td>\n",
       "      <td>Black or African-American</td>\n",
       "      <td>327</td>\n",
       "      <td>12.87</td>\n",
       "    </tr>\n",
       "    <tr>\n",
       "      <th>4</th>\n",
       "      <td>Race</td>\n",
       "      <td>Asian or Pacific Islander</td>\n",
       "      <td>62</td>\n",
       "      <td>2.44</td>\n",
       "    </tr>\n",
       "    <tr>\n",
       "      <th>...</th>\n",
       "      <td>...</td>\n",
       "      <td>...</td>\n",
       "      <td>...</td>\n",
       "      <td>...</td>\n",
       "    </tr>\n",
       "    <tr>\n",
       "      <th>62</th>\n",
       "      <td>Daily news/newspapers reader?</td>\n",
       "      <td>No</td>\n",
       "      <td>992</td>\n",
       "      <td>39.06</td>\n",
       "    </tr>\n",
       "    <tr>\n",
       "      <th>63</th>\n",
       "      <td>Daily news/newspapers reader?</td>\n",
       "      <td>Don’t know</td>\n",
       "      <td>5</td>\n",
       "      <td>0.20</td>\n",
       "    </tr>\n",
       "    <tr>\n",
       "      <th>64</th>\n",
       "      <td>Magazines/Journals Reader?</td>\n",
       "      <td>Yes</td>\n",
       "      <td>1336</td>\n",
       "      <td>52.60</td>\n",
       "    </tr>\n",
       "    <tr>\n",
       "      <th>65</th>\n",
       "      <td>Magazines/Journals Reader?</td>\n",
       "      <td>No</td>\n",
       "      <td>1200</td>\n",
       "      <td>47.24</td>\n",
       "    </tr>\n",
       "    <tr>\n",
       "      <th>66</th>\n",
       "      <td>Magazines/Journals Reader?</td>\n",
       "      <td>Don’t know</td>\n",
       "      <td>4</td>\n",
       "      <td>0.16</td>\n",
       "    </tr>\n",
       "  </tbody>\n",
       "</table>\n",
       "<p>67 rows × 4 columns</p>\n",
       "</div>"
      ],
      "text/plain": [
       "                           column                      value  count  \\\n",
       "0                             Sex                     Female   1302   \n",
       "1                             Sex                       Male   1238   \n",
       "2                            Race                      White   1981   \n",
       "3                            Race  Black or African-American    327   \n",
       "4                            Race  Asian or Pacific Islander     62   \n",
       "..                            ...                        ...    ...   \n",
       "62  Daily news/newspapers reader?                         No    992   \n",
       "63  Daily news/newspapers reader?                 Don’t know      5   \n",
       "64     Magazines/Journals Reader?                        Yes   1336   \n",
       "65     Magazines/Journals Reader?                         No   1200   \n",
       "66     Magazines/Journals Reader?                 Don’t know      4   \n",
       "\n",
       "    percentage  \n",
       "0        51.26  \n",
       "1        48.74  \n",
       "2        77.99  \n",
       "3        12.87  \n",
       "4         2.44  \n",
       "..         ...  \n",
       "62       39.06  \n",
       "63        0.20  \n",
       "64       52.60  \n",
       "65       47.24  \n",
       "66        0.16  \n",
       "\n",
       "[67 rows x 4 columns]"
      ]
     },
     "execution_count": 18,
     "metadata": {},
     "output_type": "execute_result"
    }
   ],
   "source": [
    "pd.set_option('display.max_colwidth', 100) \n",
    "pd.set_option('display.max_columns', None) \n",
    "\n",
    "cat_dis_df = flatten_categorical_stats(df, categorical_columns=categorical_columns)\n",
    "cat_dis_df"
   ]
  },
  {
   "cell_type": "markdown",
   "metadata": {},
   "source": [
    "- Nhận xét: Trong dữ liệu, ngoài các giá trị null, ta nhận thấy còn có 1 số giá trị không mang lại nhiều ý nghĩa như giá trị `Don't know`, `Refused` và 2 giá trị `9`, `8` (trong cột **Source of the last books read**), các giá trị này chỉ chiếm tỉ lệ < 2% nên ... quyết định sẽ xóa các dòng này. "
   ]
  },
  {
   "cell_type": "code",
   "execution_count": 19,
   "metadata": {},
   "outputs": [],
   "source": [
    "df = df[~df.isin([\"Don’t know\", 'Refused', '8', '9']).any(axis=1)]"
   ]
  },
  {
   "cell_type": "markdown",
   "metadata": {},
   "source": [
    "- Bên cạnh đó, với các dữ liệu còn lại, ta nhận thấy chúng có có độ dài khá lớn không phù hợp cho các mục đích trực quan hóa, vì vậy ta sẽ mapping các giá trị này thành các giá trị có tên ngắn hơn và đồng bộ hơn nhưng vẫn giữ nguyên ý nghĩa của giá trị đó."
   ]
  },
  {
   "cell_type": "code",
   "execution_count": 20,
   "metadata": {},
   "outputs": [],
   "source": [
    "value_mapping = {\n",
    "    'Native American/American Indian' : 'Native American',\n",
    "    'Asian or Pacific Islander' : 'Asian/Pacific Islander',\n",
    "    'Black or African-American': 'Black/African-American',\n",
    "    'High school graduate': 'High school',\n",
    "    'College graduate': 'College', \n",
    "    'Some college, no 4-year degree': 'Some college',\n",
    "    'High school incomplete' : 'Some high school',\n",
    "    'Post-graduate training/professional school after college': 'Post-graduate',\n",
    "    'Technical, trade or vocational school AFTER high school': 'Trade school',\n",
    "    'Have own business/self-employed':'Self-employed',\n",
    "    'Not employed for pay': 'Unemployed',\n",
    "    'Purchased the book': 'Purchased',\n",
    "    'Borrowed the book from a friend or family member': 'Borrowed from others',\n",
    "    'Borrowed the book from a library': 'Borrowed from library',\n",
    "    'Got the book some other way': 'Other sources'\n",
    "}"
   ]
  },
  {
   "cell_type": "code",
   "execution_count": 21,
   "metadata": {},
   "outputs": [],
   "source": [
    "df.replace(value_mapping, inplace = True)"
   ]
  },
  {
   "cell_type": "markdown",
   "metadata": {},
   "source": [
    "### 5.4 Tỉ lệ các giá trị bị thiếu"
   ]
  },
  {
   "cell_type": "code",
   "execution_count": 22,
   "metadata": {},
   "outputs": [
    {
     "data": {
      "text/plain": [
       "Sex                               0.000000\n",
       "Race                              0.000000\n",
       "Marital status                    0.000000\n",
       "Education                         0.000000\n",
       "Employement                       0.000000\n",
       "Incomes                           0.000000\n",
       "Printed books?                   13.970588\n",
       "Audiobooks?                      13.970588\n",
       "E-books?                         13.970588\n",
       "Source of the last book read     13.970588\n",
       "Daily news/newspapers reader?     0.000000\n",
       "Magazines/Journals Reader?        0.000000\n",
       "dtype: float64"
      ]
     },
     "execution_count": 22,
     "metadata": {},
     "output_type": "execute_result"
    }
   ],
   "source": [
    "df[categorical_columns].isna().mean() * 100"
   ]
  },
  {
   "cell_type": "markdown",
   "metadata": {},
   "source": [
    "- Nhận xét: Tỉ lệ thiếu này khá lớn và các thông tin thiếu đều trong cùng 1 dòng nên việc điền bằng bất kì phương pháp nào đều có thể dấn tới làm sai lệch dữ liệu. Nhóm quyết định xóa hết các dòng này."
   ]
  },
  {
   "cell_type": "code",
   "execution_count": 23,
   "metadata": {},
   "outputs": [],
   "source": [
    "df.dropna(inplace=True)"
   ]
  },
  {
   "cell_type": "code",
   "execution_count": null,
   "metadata": {},
   "outputs": [
    {
     "data": {
      "text/html": [
       "<div>\n",
       "<style scoped>\n",
       "    .dataframe tbody tr th:only-of-type {\n",
       "        vertical-align: middle;\n",
       "    }\n",
       "\n",
       "    .dataframe tbody tr th {\n",
       "        vertical-align: top;\n",
       "    }\n",
       "\n",
       "    .dataframe thead th {\n",
       "        text-align: right;\n",
       "    }\n",
       "</style>\n",
       "<table border=\"1\" class=\"dataframe\">\n",
       "  <thead>\n",
       "    <tr style=\"text-align: right;\">\n",
       "      <th></th>\n",
       "      <th>column</th>\n",
       "      <th>value</th>\n",
       "      <th>count</th>\n",
       "      <th>percentage</th>\n",
       "    </tr>\n",
       "  </thead>\n",
       "  <tbody>\n",
       "    <tr>\n",
       "      <th>0</th>\n",
       "      <td>Sex</td>\n",
       "      <td>Female</td>\n",
       "      <td>1142</td>\n",
       "      <td>54.23</td>\n",
       "    </tr>\n",
       "    <tr>\n",
       "      <th>1</th>\n",
       "      <td>Sex</td>\n",
       "      <td>Male</td>\n",
       "      <td>964</td>\n",
       "      <td>45.77</td>\n",
       "    </tr>\n",
       "    <tr>\n",
       "      <th>2</th>\n",
       "      <td>Race</td>\n",
       "      <td>White</td>\n",
       "      <td>1685</td>\n",
       "      <td>80.01</td>\n",
       "    </tr>\n",
       "    <tr>\n",
       "      <th>3</th>\n",
       "      <td>Race</td>\n",
       "      <td>Black/African-American</td>\n",
       "      <td>256</td>\n",
       "      <td>12.16</td>\n",
       "    </tr>\n",
       "    <tr>\n",
       "      <th>4</th>\n",
       "      <td>Race</td>\n",
       "      <td>Asian/Pacific Islander</td>\n",
       "      <td>54</td>\n",
       "      <td>2.56</td>\n",
       "    </tr>\n",
       "    <tr>\n",
       "      <th>5</th>\n",
       "      <td>Race</td>\n",
       "      <td>Mixed race</td>\n",
       "      <td>49</td>\n",
       "      <td>2.33</td>\n",
       "    </tr>\n",
       "    <tr>\n",
       "      <th>6</th>\n",
       "      <td>Race</td>\n",
       "      <td>Other</td>\n",
       "      <td>43</td>\n",
       "      <td>2.04</td>\n",
       "    </tr>\n",
       "    <tr>\n",
       "      <th>7</th>\n",
       "      <td>Race</td>\n",
       "      <td>Native American</td>\n",
       "      <td>19</td>\n",
       "      <td>0.90</td>\n",
       "    </tr>\n",
       "    <tr>\n",
       "      <th>8</th>\n",
       "      <td>Marital status</td>\n",
       "      <td>Married</td>\n",
       "      <td>1116</td>\n",
       "      <td>52.99</td>\n",
       "    </tr>\n",
       "    <tr>\n",
       "      <th>9</th>\n",
       "      <td>Marital status</td>\n",
       "      <td>Never been married</td>\n",
       "      <td>509</td>\n",
       "      <td>24.17</td>\n",
       "    </tr>\n",
       "    <tr>\n",
       "      <th>10</th>\n",
       "      <td>Marital status</td>\n",
       "      <td>Divorced</td>\n",
       "      <td>174</td>\n",
       "      <td>8.26</td>\n",
       "    </tr>\n",
       "    <tr>\n",
       "      <th>11</th>\n",
       "      <td>Marital status</td>\n",
       "      <td>Widowed</td>\n",
       "      <td>126</td>\n",
       "      <td>5.98</td>\n",
       "    </tr>\n",
       "    <tr>\n",
       "      <th>12</th>\n",
       "      <td>Marital status</td>\n",
       "      <td>Living with a partner</td>\n",
       "      <td>108</td>\n",
       "      <td>5.13</td>\n",
       "    </tr>\n",
       "    <tr>\n",
       "      <th>13</th>\n",
       "      <td>Marital status</td>\n",
       "      <td>Single</td>\n",
       "      <td>43</td>\n",
       "      <td>2.04</td>\n",
       "    </tr>\n",
       "    <tr>\n",
       "      <th>14</th>\n",
       "      <td>Marital status</td>\n",
       "      <td>Separated</td>\n",
       "      <td>30</td>\n",
       "      <td>1.42</td>\n",
       "    </tr>\n",
       "    <tr>\n",
       "      <th>15</th>\n",
       "      <td>Education</td>\n",
       "      <td>Some college</td>\n",
       "      <td>513</td>\n",
       "      <td>24.36</td>\n",
       "    </tr>\n",
       "    <tr>\n",
       "      <th>16</th>\n",
       "      <td>Education</td>\n",
       "      <td>College</td>\n",
       "      <td>486</td>\n",
       "      <td>23.08</td>\n",
       "    </tr>\n",
       "    <tr>\n",
       "      <th>17</th>\n",
       "      <td>Education</td>\n",
       "      <td>High school</td>\n",
       "      <td>456</td>\n",
       "      <td>21.65</td>\n",
       "    </tr>\n",
       "    <tr>\n",
       "      <th>18</th>\n",
       "      <td>Education</td>\n",
       "      <td>Post-graduate</td>\n",
       "      <td>402</td>\n",
       "      <td>19.09</td>\n",
       "    </tr>\n",
       "    <tr>\n",
       "      <th>19</th>\n",
       "      <td>Education</td>\n",
       "      <td>Some high school</td>\n",
       "      <td>182</td>\n",
       "      <td>8.64</td>\n",
       "    </tr>\n",
       "    <tr>\n",
       "      <th>20</th>\n",
       "      <td>Education</td>\n",
       "      <td>Trade school</td>\n",
       "      <td>43</td>\n",
       "      <td>2.04</td>\n",
       "    </tr>\n",
       "    <tr>\n",
       "      <th>21</th>\n",
       "      <td>Education</td>\n",
       "      <td>None</td>\n",
       "      <td>24</td>\n",
       "      <td>1.14</td>\n",
       "    </tr>\n",
       "    <tr>\n",
       "      <th>22</th>\n",
       "      <td>Employement</td>\n",
       "      <td>Employed full-time</td>\n",
       "      <td>951</td>\n",
       "      <td>45.16</td>\n",
       "    </tr>\n",
       "    <tr>\n",
       "      <th>23</th>\n",
       "      <td>Employement</td>\n",
       "      <td>Retired</td>\n",
       "      <td>395</td>\n",
       "      <td>18.76</td>\n",
       "    </tr>\n",
       "    <tr>\n",
       "      <th>24</th>\n",
       "      <td>Employement</td>\n",
       "      <td>Unemployed</td>\n",
       "      <td>358</td>\n",
       "      <td>17.00</td>\n",
       "    </tr>\n",
       "    <tr>\n",
       "      <th>25</th>\n",
       "      <td>Employement</td>\n",
       "      <td>Employed part-time</td>\n",
       "      <td>293</td>\n",
       "      <td>13.91</td>\n",
       "    </tr>\n",
       "    <tr>\n",
       "      <th>26</th>\n",
       "      <td>Employement</td>\n",
       "      <td>Self-employed</td>\n",
       "      <td>41</td>\n",
       "      <td>1.95</td>\n",
       "    </tr>\n",
       "    <tr>\n",
       "      <th>27</th>\n",
       "      <td>Employement</td>\n",
       "      <td>Disabled</td>\n",
       "      <td>40</td>\n",
       "      <td>1.90</td>\n",
       "    </tr>\n",
       "    <tr>\n",
       "      <th>28</th>\n",
       "      <td>Employement</td>\n",
       "      <td>Student</td>\n",
       "      <td>21</td>\n",
       "      <td>1.00</td>\n",
       "    </tr>\n",
       "    <tr>\n",
       "      <th>29</th>\n",
       "      <td>Employement</td>\n",
       "      <td>Other</td>\n",
       "      <td>7</td>\n",
       "      <td>0.33</td>\n",
       "    </tr>\n",
       "    <tr>\n",
       "      <th>30</th>\n",
       "      <td>Incomes</td>\n",
       "      <td>8</td>\n",
       "      <td>649</td>\n",
       "      <td>30.82</td>\n",
       "    </tr>\n",
       "    <tr>\n",
       "      <th>31</th>\n",
       "      <td>Incomes</td>\n",
       "      <td>6</td>\n",
       "      <td>337</td>\n",
       "      <td>16.00</td>\n",
       "    </tr>\n",
       "    <tr>\n",
       "      <th>32</th>\n",
       "      <td>Incomes</td>\n",
       "      <td>7</td>\n",
       "      <td>274</td>\n",
       "      <td>13.01</td>\n",
       "    </tr>\n",
       "    <tr>\n",
       "      <th>33</th>\n",
       "      <td>Incomes</td>\n",
       "      <td>4</td>\n",
       "      <td>214</td>\n",
       "      <td>10.16</td>\n",
       "    </tr>\n",
       "    <tr>\n",
       "      <th>34</th>\n",
       "      <td>Incomes</td>\n",
       "      <td>3</td>\n",
       "      <td>196</td>\n",
       "      <td>9.31</td>\n",
       "    </tr>\n",
       "    <tr>\n",
       "      <th>35</th>\n",
       "      <td>Incomes</td>\n",
       "      <td>5</td>\n",
       "      <td>174</td>\n",
       "      <td>8.26</td>\n",
       "    </tr>\n",
       "    <tr>\n",
       "      <th>36</th>\n",
       "      <td>Incomes</td>\n",
       "      <td>2</td>\n",
       "      <td>155</td>\n",
       "      <td>7.36</td>\n",
       "    </tr>\n",
       "    <tr>\n",
       "      <th>37</th>\n",
       "      <td>Incomes</td>\n",
       "      <td>1</td>\n",
       "      <td>107</td>\n",
       "      <td>5.08</td>\n",
       "    </tr>\n",
       "    <tr>\n",
       "      <th>38</th>\n",
       "      <td>Printed books?</td>\n",
       "      <td>Yes</td>\n",
       "      <td>1963</td>\n",
       "      <td>93.21</td>\n",
       "    </tr>\n",
       "    <tr>\n",
       "      <th>39</th>\n",
       "      <td>Printed books?</td>\n",
       "      <td>No</td>\n",
       "      <td>143</td>\n",
       "      <td>6.79</td>\n",
       "    </tr>\n",
       "    <tr>\n",
       "      <th>40</th>\n",
       "      <td>Audiobooks?</td>\n",
       "      <td>No</td>\n",
       "      <td>1757</td>\n",
       "      <td>83.43</td>\n",
       "    </tr>\n",
       "    <tr>\n",
       "      <th>41</th>\n",
       "      <td>Audiobooks?</td>\n",
       "      <td>Yes</td>\n",
       "      <td>349</td>\n",
       "      <td>16.57</td>\n",
       "    </tr>\n",
       "    <tr>\n",
       "      <th>42</th>\n",
       "      <td>E-books?</td>\n",
       "      <td>No</td>\n",
       "      <td>1405</td>\n",
       "      <td>66.71</td>\n",
       "    </tr>\n",
       "    <tr>\n",
       "      <th>43</th>\n",
       "      <td>E-books?</td>\n",
       "      <td>Yes</td>\n",
       "      <td>701</td>\n",
       "      <td>33.29</td>\n",
       "    </tr>\n",
       "    <tr>\n",
       "      <th>44</th>\n",
       "      <td>Source of the last book read</td>\n",
       "      <td>Purchased</td>\n",
       "      <td>1117</td>\n",
       "      <td>53.04</td>\n",
       "    </tr>\n",
       "    <tr>\n",
       "      <th>45</th>\n",
       "      <td>Source of the last book read</td>\n",
       "      <td>Borrowed from others</td>\n",
       "      <td>441</td>\n",
       "      <td>20.94</td>\n",
       "    </tr>\n",
       "    <tr>\n",
       "      <th>46</th>\n",
       "      <td>Source of the last book read</td>\n",
       "      <td>Borrowed from library</td>\n",
       "      <td>276</td>\n",
       "      <td>13.11</td>\n",
       "    </tr>\n",
       "    <tr>\n",
       "      <th>47</th>\n",
       "      <td>Source of the last book read</td>\n",
       "      <td>Other sources</td>\n",
       "      <td>272</td>\n",
       "      <td>12.92</td>\n",
       "    </tr>\n",
       "    <tr>\n",
       "      <th>48</th>\n",
       "      <td>Daily news/newspapers reader?</td>\n",
       "      <td>Yes</td>\n",
       "      <td>1319</td>\n",
       "      <td>62.63</td>\n",
       "    </tr>\n",
       "    <tr>\n",
       "      <th>49</th>\n",
       "      <td>Daily news/newspapers reader?</td>\n",
       "      <td>No</td>\n",
       "      <td>787</td>\n",
       "      <td>37.37</td>\n",
       "    </tr>\n",
       "    <tr>\n",
       "      <th>50</th>\n",
       "      <td>Magazines/Journals Reader?</td>\n",
       "      <td>Yes</td>\n",
       "      <td>1198</td>\n",
       "      <td>56.89</td>\n",
       "    </tr>\n",
       "    <tr>\n",
       "      <th>51</th>\n",
       "      <td>Magazines/Journals Reader?</td>\n",
       "      <td>No</td>\n",
       "      <td>908</td>\n",
       "      <td>43.11</td>\n",
       "    </tr>\n",
       "  </tbody>\n",
       "</table>\n",
       "</div>"
      ],
      "text/plain": [
       "                           column                   value  count  percentage\n",
       "0                             Sex                  Female   1142       54.23\n",
       "1                             Sex                    Male    964       45.77\n",
       "2                            Race                   White   1685       80.01\n",
       "3                            Race  Black/African-American    256       12.16\n",
       "4                            Race  Asian/Pacific Islander     54        2.56\n",
       "5                            Race              Mixed race     49        2.33\n",
       "6                            Race                   Other     43        2.04\n",
       "7                            Race         Native American     19        0.90\n",
       "8                  Marital status                 Married   1116       52.99\n",
       "9                  Marital status      Never been married    509       24.17\n",
       "10                 Marital status                Divorced    174        8.26\n",
       "11                 Marital status                 Widowed    126        5.98\n",
       "12                 Marital status   Living with a partner    108        5.13\n",
       "13                 Marital status                  Single     43        2.04\n",
       "14                 Marital status               Separated     30        1.42\n",
       "15                      Education            Some college    513       24.36\n",
       "16                      Education                 College    486       23.08\n",
       "17                      Education             High school    456       21.65\n",
       "18                      Education           Post-graduate    402       19.09\n",
       "19                      Education        Some high school    182        8.64\n",
       "20                      Education            Trade school     43        2.04\n",
       "21                      Education                    None     24        1.14\n",
       "22                    Employement      Employed full-time    951       45.16\n",
       "23                    Employement                 Retired    395       18.76\n",
       "24                    Employement              Unemployed    358       17.00\n",
       "25                    Employement      Employed part-time    293       13.91\n",
       "26                    Employement           Self-employed     41        1.95\n",
       "27                    Employement                Disabled     40        1.90\n",
       "28                    Employement                 Student     21        1.00\n",
       "29                    Employement                   Other      7        0.33\n",
       "30                        Incomes                       8    649       30.82\n",
       "31                        Incomes                       6    337       16.00\n",
       "32                        Incomes                       7    274       13.01\n",
       "33                        Incomes                       4    214       10.16\n",
       "34                        Incomes                       3    196        9.31\n",
       "35                        Incomes                       5    174        8.26\n",
       "36                        Incomes                       2    155        7.36\n",
       "37                        Incomes                       1    107        5.08\n",
       "38                 Printed books?                     Yes   1963       93.21\n",
       "39                 Printed books?                      No    143        6.79\n",
       "40                    Audiobooks?                      No   1757       83.43\n",
       "41                    Audiobooks?                     Yes    349       16.57\n",
       "42                       E-books?                      No   1405       66.71\n",
       "43                       E-books?                     Yes    701       33.29\n",
       "44   Source of the last book read               Purchased   1117       53.04\n",
       "45   Source of the last book read    Borrowed from others    441       20.94\n",
       "46   Source of the last book read   Borrowed from library    276       13.11\n",
       "47   Source of the last book read           Other sources    272       12.92\n",
       "48  Daily news/newspapers reader?                     Yes   1319       62.63\n",
       "49  Daily news/newspapers reader?                      No    787       37.37\n",
       "50     Magazines/Journals Reader?                     Yes   1198       56.89\n",
       "51     Magazines/Journals Reader?                      No    908       43.11"
      ]
     },
     "execution_count": 24,
     "metadata": {},
     "output_type": "execute_result"
    }
   ],
   "source": [
    "cat_dis_df = flatten_categorical_stats(df, categorical_columns=categorical_columns)\n",
    "cat_dis_df"
   ]
  },
  {
   "cell_type": "markdown",
   "metadata": {},
   "source": [
    "### 5.5 Trực quan hóa phân phối dữ liệu"
   ]
  },
  {
   "cell_type": "code",
   "execution_count": 25,
   "metadata": {},
   "outputs": [],
   "source": [
    "def create_category_dict(cat_stats):\n",
    "    category_dict = {}\n",
    "    for col in cat_stats['column'].unique():\n",
    "        col_data = cat_stats[cat_stats['column'] == col]\n",
    "        category_dict[col] = {\n",
    "            'values': col_data['value'].tolist(),\n",
    "            'counts': col_data['count'].tolist()\n",
    "        }\n",
    "    return category_dict\n",
    "\n",
    "category_dict = create_category_dict(cat_dis_df)"
   ]
  },
  {
   "cell_type": "code",
   "execution_count": 26,
   "metadata": {},
   "outputs": [
    {
     "data": {
      "image/png": "[encoded data removed]",
      "text/plain": [
       "<Figure size 2200x1800 with 12 Axes>"
      ]
     },
     "metadata": {},
     "output_type": "display_data"
    }
   ],
   "source": [
    "# from matplotlib.gridspec import GridSpec\n",
    "def plot_from_dict(category_dict):\n",
    "    fig, axes = plt.subplots(6, 2, figsize=(22, 18))\n",
    "    axes = axes.flatten()  # biến mảng 2D của axes thành 1D để dễ truy cập\n",
    "    \n",
    "    for idx, (col, data) in enumerate(category_dict.items()):\n",
    "        sns.barplot(\n",
    "            x=data['values'],\n",
    "            y=data['counts'],\n",
    "            ax=axes[idx],\n",
    "            palette='viridis'\n",
    "        )\n",
    "        axes[idx].set_title(f\"{col}\", fontsize=18)\n",
    "        axes[idx].set_xlabel('Value', fontsize=16)\n",
    "        axes[idx].set_ylabel('Count', fontsize=16)\n",
    "        axes[idx].tick_params(axis='x')\n",
    "\n",
    "    for idx in range(len(category_dict), 6 * 2):\n",
    "        axes[idx].axis('off')\n",
    "    \n",
    "    plt.tight_layout()\n",
    "    plt.show()\n",
    "\n",
    "plot_from_dict(category_dict)\n"
   ]
  },
  {
   "cell_type": "markdown",
   "metadata": {},
   "source": [
    "Lưu dữ liệu đã được làm sạch vào file reading_behavior_clean.csv"
   ]
  },
  {
   "cell_type": "code",
   "execution_count": 27,
   "metadata": {},
   "outputs": [],
   "source": [
    "df.to_csv('./data/cleaned_data.csv', index=False)"
   ]
  }
 ],
 "metadata": {
  "kernelspec": {
   "display_name": "min_ds-env2",
   "language": "python",
   "name": "python3"
  },
  "language_info": {
   "codemirror_mode": {
    "name": "ipython",
    "version": 3
   },
   "file_extension": ".py",
   "mimetype": "text/x-python",
   "name": "python",
   "nbconvert_exporter": "python",
   "pygments_lexer": "ipython3",
   "version": "3.10.15"
  }
 },
 "nbformat": 4,
 "nbformat_minor": 2
}
