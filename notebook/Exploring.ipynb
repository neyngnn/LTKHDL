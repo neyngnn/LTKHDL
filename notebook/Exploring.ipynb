{
 "cells": [
  {
   "cell_type": "code",
   "execution_count": 41,
   "metadata": {},
   "outputs": [
    {
     "ename": "AttributeError",
     "evalue": "module 'numpy' has no attribute 'round'",
     "output_type": "error",
     "traceback": [
      "\u001b[1;31m---------------------------------------------------------------------------\u001b[0m",
      "\u001b[1;31mAttributeError\u001b[0m                            Traceback (most recent call last)",
      "Cell \u001b[1;32mIn[41], line 7\u001b[0m\n\u001b[0;32m      5\u001b[0m \u001b[38;5;28;01mimport\u001b[39;00m \u001b[38;5;21;01mnumpy\u001b[39;00m \u001b[38;5;28;01mas\u001b[39;00m \u001b[38;5;21;01mnp\u001b[39;00m\n\u001b[0;32m      6\u001b[0m \u001b[38;5;28;01mimport\u001b[39;00m \u001b[38;5;21;01mmatplotlib\u001b[39;00m\u001b[38;5;21;01m.\u001b[39;00m\u001b[38;5;21;01mpyplot\u001b[39;00m \u001b[38;5;28;01mas\u001b[39;00m \u001b[38;5;21;01mplt\u001b[39;00m\n\u001b[1;32m----> 7\u001b[0m \u001b[38;5;28;01mimport\u001b[39;00m \u001b[38;5;21;01mseaborn\u001b[39;00m \u001b[38;5;28;01mas\u001b[39;00m \u001b[38;5;21;01msns\u001b[39;00m\n\u001b[0;32m      9\u001b[0m pd\u001b[38;5;241m.\u001b[39mset_option(\u001b[38;5;124m'\u001b[39m\u001b[38;5;124mdisplay.max_columns\u001b[39m\u001b[38;5;124m'\u001b[39m, \u001b[38;5;28;01mNone\u001b[39;00m)\n\u001b[0;32m     10\u001b[0m \u001b[38;5;66;03m# warnings.filterwarnings('ignore', category=SomeWarningType)\u001b[39;00m\n",
      "File \u001b[1;32mc:\\Users\\LENOVO\\miniconda3\\envs\\min_ds-env\\lib\\site-packages\\seaborn\\__init__.py:5\u001b[0m\n\u001b[0;32m      3\u001b[0m \u001b[38;5;28;01mfrom\u001b[39;00m \u001b[38;5;21;01m.\u001b[39;00m\u001b[38;5;21;01mutils\u001b[39;00m \u001b[38;5;28;01mimport\u001b[39;00m \u001b[38;5;241m*\u001b[39m  \u001b[38;5;66;03m# noqa: F401,F403\u001b[39;00m\n\u001b[0;32m      4\u001b[0m \u001b[38;5;28;01mfrom\u001b[39;00m \u001b[38;5;21;01m.\u001b[39;00m\u001b[38;5;21;01mpalettes\u001b[39;00m \u001b[38;5;28;01mimport\u001b[39;00m \u001b[38;5;241m*\u001b[39m  \u001b[38;5;66;03m# noqa: F401,F403\u001b[39;00m\n\u001b[1;32m----> 5\u001b[0m \u001b[38;5;28;01mfrom\u001b[39;00m \u001b[38;5;21;01m.\u001b[39;00m\u001b[38;5;21;01mrelational\u001b[39;00m \u001b[38;5;28;01mimport\u001b[39;00m \u001b[38;5;241m*\u001b[39m  \u001b[38;5;66;03m# noqa: F401,F403\u001b[39;00m\n\u001b[0;32m      6\u001b[0m \u001b[38;5;28;01mfrom\u001b[39;00m \u001b[38;5;21;01m.\u001b[39;00m\u001b[38;5;21;01mregression\u001b[39;00m \u001b[38;5;28;01mimport\u001b[39;00m \u001b[38;5;241m*\u001b[39m  \u001b[38;5;66;03m# noqa: F401,F403\u001b[39;00m\n\u001b[0;32m      7\u001b[0m \u001b[38;5;28;01mfrom\u001b[39;00m \u001b[38;5;21;01m.\u001b[39;00m\u001b[38;5;21;01mcategorical\u001b[39;00m \u001b[38;5;28;01mimport\u001b[39;00m \u001b[38;5;241m*\u001b[39m  \u001b[38;5;66;03m# noqa: F401,F403\u001b[39;00m\n",
      "File \u001b[1;32mc:\\Users\\LENOVO\\miniconda3\\envs\\min_ds-env\\lib\\site-packages\\seaborn\\relational.py:20\u001b[0m\n\u001b[0;32m      9\u001b[0m \u001b[38;5;28;01mfrom\u001b[39;00m \u001b[38;5;21;01m.\u001b[39;00m\u001b[38;5;21;01m_base\u001b[39;00m \u001b[38;5;28;01mimport\u001b[39;00m (\n\u001b[0;32m     10\u001b[0m     VectorPlotter,\n\u001b[0;32m     11\u001b[0m )\n\u001b[0;32m     12\u001b[0m \u001b[38;5;28;01mfrom\u001b[39;00m \u001b[38;5;21;01m.\u001b[39;00m\u001b[38;5;21;01mutils\u001b[39;00m \u001b[38;5;28;01mimport\u001b[39;00m (\n\u001b[0;32m     13\u001b[0m     adjust_legend_subtitles,\n\u001b[0;32m     14\u001b[0m     _default_color,\n\u001b[1;32m   (...)\u001b[0m\n\u001b[0;32m     18\u001b[0m     _scatter_legend_artist,\n\u001b[0;32m     19\u001b[0m )\n\u001b[1;32m---> 20\u001b[0m \u001b[38;5;28;01mfrom\u001b[39;00m \u001b[38;5;21;01m.\u001b[39;00m\u001b[38;5;21;01m_statistics\u001b[39;00m \u001b[38;5;28;01mimport\u001b[39;00m EstimateAggregator\n\u001b[0;32m     21\u001b[0m \u001b[38;5;28;01mfrom\u001b[39;00m \u001b[38;5;21;01m.\u001b[39;00m\u001b[38;5;21;01maxisgrid\u001b[39;00m \u001b[38;5;28;01mimport\u001b[39;00m FacetGrid, _facet_docs\n\u001b[0;32m     22\u001b[0m \u001b[38;5;28;01mfrom\u001b[39;00m \u001b[38;5;21;01m.\u001b[39;00m\u001b[38;5;21;01m_docstrings\u001b[39;00m \u001b[38;5;28;01mimport\u001b[39;00m DocstringComponents, _core_docs\n",
      "File \u001b[1;32mc:\\Users\\LENOVO\\miniconda3\\envs\\min_ds-env\\lib\\site-packages\\seaborn\\_statistics.py:31\u001b[0m\n\u001b[0;32m     29\u001b[0m \u001b[38;5;28;01mimport\u001b[39;00m \u001b[38;5;21;01mpandas\u001b[39;00m \u001b[38;5;28;01mas\u001b[39;00m \u001b[38;5;21;01mpd\u001b[39;00m\n\u001b[0;32m     30\u001b[0m \u001b[38;5;28;01mtry\u001b[39;00m:\n\u001b[1;32m---> 31\u001b[0m     \u001b[38;5;28;01mfrom\u001b[39;00m \u001b[38;5;21;01mscipy\u001b[39;00m\u001b[38;5;21;01m.\u001b[39;00m\u001b[38;5;21;01mstats\u001b[39;00m \u001b[38;5;28;01mimport\u001b[39;00m gaussian_kde\n\u001b[0;32m     32\u001b[0m     _no_scipy \u001b[38;5;241m=\u001b[39m \u001b[38;5;28;01mFalse\u001b[39;00m\n\u001b[0;32m     33\u001b[0m \u001b[38;5;28;01mexcept\u001b[39;00m \u001b[38;5;167;01mImportError\u001b[39;00m:\n",
      "File \u001b[1;32mc:\\Users\\LENOVO\\miniconda3\\envs\\min_ds-env\\lib\\site-packages\\scipy\\stats\\__init__.py:610\u001b[0m\n\u001b[0;32m      1\u001b[0m \u001b[38;5;124;03m\"\"\"\u001b[39;00m\n\u001b[0;32m      2\u001b[0m \u001b[38;5;124;03m.. _statsrefmanual:\u001b[39;00m\n\u001b[0;32m      3\u001b[0m \n\u001b[1;32m   (...)\u001b[0m\n\u001b[0;32m    605\u001b[0m \n\u001b[0;32m    606\u001b[0m \u001b[38;5;124;03m\"\"\"\u001b[39;00m  \u001b[38;5;66;03m# noqa: E501\u001b[39;00m\n\u001b[0;32m    608\u001b[0m \u001b[38;5;28;01mfrom\u001b[39;00m \u001b[38;5;21;01m.\u001b[39;00m\u001b[38;5;21;01m_warnings_errors\u001b[39;00m \u001b[38;5;28;01mimport\u001b[39;00m (ConstantInputWarning, NearConstantInputWarning,\n\u001b[0;32m    609\u001b[0m                                DegenerateDataWarning, FitError)\n\u001b[1;32m--> 610\u001b[0m \u001b[38;5;28;01mfrom\u001b[39;00m \u001b[38;5;21;01m.\u001b[39;00m\u001b[38;5;21;01m_stats_py\u001b[39;00m \u001b[38;5;28;01mimport\u001b[39;00m \u001b[38;5;241m*\u001b[39m\n\u001b[0;32m    611\u001b[0m \u001b[38;5;28;01mfrom\u001b[39;00m \u001b[38;5;21;01m.\u001b[39;00m\u001b[38;5;21;01m_variation\u001b[39;00m \u001b[38;5;28;01mimport\u001b[39;00m variation\n\u001b[0;32m    612\u001b[0m \u001b[38;5;28;01mfrom\u001b[39;00m \u001b[38;5;21;01m.\u001b[39;00m\u001b[38;5;21;01mdistributions\u001b[39;00m \u001b[38;5;28;01mimport\u001b[39;00m \u001b[38;5;241m*\u001b[39m\n",
      "File \u001b[1;32mc:\\Users\\LENOVO\\miniconda3\\envs\\min_ds-env\\lib\\site-packages\\scipy\\stats\\_stats_py.py:49\u001b[0m\n\u001b[0;32m     46\u001b[0m \u001b[38;5;66;03m# Import unused here but needs to stay until end of deprecation periode\u001b[39;00m\n\u001b[0;32m     47\u001b[0m \u001b[38;5;66;03m# See https://github.com/scipy/scipy/issues/15765#issuecomment-1875564522\u001b[39;00m\n\u001b[0;32m     48\u001b[0m \u001b[38;5;28;01mfrom\u001b[39;00m \u001b[38;5;21;01mscipy\u001b[39;00m \u001b[38;5;28;01mimport\u001b[39;00m linalg  \u001b[38;5;66;03m# noqa: F401\u001b[39;00m\n\u001b[1;32m---> 49\u001b[0m \u001b[38;5;28;01mfrom\u001b[39;00m \u001b[38;5;21;01m.\u001b[39;00m \u001b[38;5;28;01mimport\u001b[39;00m distributions\n\u001b[0;32m     50\u001b[0m \u001b[38;5;28;01mfrom\u001b[39;00m \u001b[38;5;21;01m.\u001b[39;00m \u001b[38;5;28;01mimport\u001b[39;00m _mstats_basic \u001b[38;5;28;01mas\u001b[39;00m mstats_basic\n\u001b[0;32m     52\u001b[0m \u001b[38;5;28;01mfrom\u001b[39;00m \u001b[38;5;21;01m.\u001b[39;00m\u001b[38;5;21;01m_stats_mstats_common\u001b[39;00m \u001b[38;5;28;01mimport\u001b[39;00m _find_repeats, theilslopes, siegelslopes\n",
      "File \u001b[1;32mc:\\Users\\LENOVO\\miniconda3\\envs\\min_ds-env\\lib\\site-packages\\scipy\\stats\\distributions.py:14\u001b[0m\n\u001b[0;32m     11\u001b[0m \u001b[38;5;28;01mfrom\u001b[39;00m \u001b[38;5;21;01m.\u001b[39;00m \u001b[38;5;28;01mimport\u001b[39;00m _discrete_distns\n\u001b[0;32m     13\u001b[0m \u001b[38;5;28;01mfrom\u001b[39;00m \u001b[38;5;21;01m.\u001b[39;00m\u001b[38;5;21;01m_continuous_distns\u001b[39;00m \u001b[38;5;28;01mimport\u001b[39;00m \u001b[38;5;241m*\u001b[39m  \u001b[38;5;66;03m# noqa: F403\u001b[39;00m\n\u001b[1;32m---> 14\u001b[0m \u001b[38;5;28;01mfrom\u001b[39;00m \u001b[38;5;21;01m.\u001b[39;00m\u001b[38;5;21;01m_levy_stable\u001b[39;00m \u001b[38;5;28;01mimport\u001b[39;00m levy_stable\n\u001b[0;32m     15\u001b[0m \u001b[38;5;28;01mfrom\u001b[39;00m \u001b[38;5;21;01m.\u001b[39;00m\u001b[38;5;21;01m_discrete_distns\u001b[39;00m \u001b[38;5;28;01mimport\u001b[39;00m \u001b[38;5;241m*\u001b[39m  \u001b[38;5;66;03m# noqa: F403\u001b[39;00m\n\u001b[0;32m     16\u001b[0m \u001b[38;5;28;01mfrom\u001b[39;00m \u001b[38;5;21;01m.\u001b[39;00m\u001b[38;5;21;01m_entropy\u001b[39;00m \u001b[38;5;28;01mimport\u001b[39;00m entropy\n",
      "File \u001b[1;32mc:\\Users\\LENOVO\\miniconda3\\envs\\min_ds-env\\lib\\site-packages\\scipy\\stats\\_levy_stable\\__init__.py:1154\u001b[0m\n\u001b[0;32m   1149\u001b[0m \u001b[38;5;66;03m# cotes numbers - see sequence from http://oeis.org/A100642\u001b[39;00m\n\u001b[0;32m   1150\u001b[0m Cotes_table \u001b[38;5;241m=\u001b[39m np\u001b[38;5;241m.\u001b[39marray(\n\u001b[0;32m   1151\u001b[0m     [[], [\u001b[38;5;241m1\u001b[39m]] \u001b[38;5;241m+\u001b[39m [v[\u001b[38;5;241m2\u001b[39m] \u001b[38;5;28;01mfor\u001b[39;00m v \u001b[38;5;129;01min\u001b[39;00m _builtincoeffs\u001b[38;5;241m.\u001b[39mvalues()], dtype\u001b[38;5;241m=\u001b[39m\u001b[38;5;28mobject\u001b[39m\n\u001b[0;32m   1152\u001b[0m )\n\u001b[0;32m   1153\u001b[0m Cotes \u001b[38;5;241m=\u001b[39m np\u001b[38;5;241m.\u001b[39marray(\n\u001b[1;32m-> 1154\u001b[0m     [\n\u001b[0;32m   1155\u001b[0m         np\u001b[38;5;241m.\u001b[39mpad(r, (\u001b[38;5;241m0\u001b[39m, \u001b[38;5;28mlen\u001b[39m(Cotes_table) \u001b[38;5;241m-\u001b[39m \u001b[38;5;241m1\u001b[39m \u001b[38;5;241m-\u001b[39m \u001b[38;5;28mlen\u001b[39m(r)), mode\u001b[38;5;241m=\u001b[39m\u001b[38;5;124m'\u001b[39m\u001b[38;5;124mconstant\u001b[39m\u001b[38;5;124m'\u001b[39m)\n\u001b[0;32m   1156\u001b[0m         \u001b[38;5;28;01mfor\u001b[39;00m r \u001b[38;5;129;01min\u001b[39;00m Cotes_table\n\u001b[0;32m   1157\u001b[0m     ]\n\u001b[0;32m   1158\u001b[0m )\n\u001b[0;32m   1161\u001b[0m \u001b[38;5;28;01mdef\u001b[39;00m \u001b[38;5;21mpdf_from_cf_with_fft\u001b[39m(cf, h\u001b[38;5;241m=\u001b[39m\u001b[38;5;241m0.01\u001b[39m, q\u001b[38;5;241m=\u001b[39m\u001b[38;5;241m9\u001b[39m, level\u001b[38;5;241m=\u001b[39m\u001b[38;5;241m3\u001b[39m):\n\u001b[0;32m   1162\u001b[0m \u001b[38;5;250m    \u001b[39m\u001b[38;5;124;03m\"\"\"Calculates pdf from characteristic function.\u001b[39;00m\n\u001b[0;32m   1163\u001b[0m \n\u001b[0;32m   1164\u001b[0m \u001b[38;5;124;03m    Uses fast Fourier transform with Newton-Cotes integration following [WZ].\u001b[39;00m\n\u001b[1;32m   (...)\u001b[0m\n\u001b[0;32m   1197\u001b[0m \u001b[38;5;124;03m        to compute densities of stable distribution.\u001b[39;00m\n\u001b[0;32m   1198\u001b[0m \u001b[38;5;124;03m    \"\"\"\u001b[39;00m\n",
      "File \u001b[1;32mc:\\Users\\LENOVO\\miniconda3\\envs\\min_ds-env\\lib\\site-packages\\scipy\\stats\\_levy_stable\\__init__.py:1155\u001b[0m, in \u001b[0;36m<listcomp>\u001b[1;34m(.0)\u001b[0m\n\u001b[0;32m   1149\u001b[0m \u001b[38;5;66;03m# cotes numbers - see sequence from http://oeis.org/A100642\u001b[39;00m\n\u001b[0;32m   1150\u001b[0m Cotes_table \u001b[38;5;241m=\u001b[39m np\u001b[38;5;241m.\u001b[39marray(\n\u001b[0;32m   1151\u001b[0m     [[], [\u001b[38;5;241m1\u001b[39m]] \u001b[38;5;241m+\u001b[39m [v[\u001b[38;5;241m2\u001b[39m] \u001b[38;5;28;01mfor\u001b[39;00m v \u001b[38;5;129;01min\u001b[39;00m _builtincoeffs\u001b[38;5;241m.\u001b[39mvalues()], dtype\u001b[38;5;241m=\u001b[39m\u001b[38;5;28mobject\u001b[39m\n\u001b[0;32m   1152\u001b[0m )\n\u001b[0;32m   1153\u001b[0m Cotes \u001b[38;5;241m=\u001b[39m np\u001b[38;5;241m.\u001b[39marray(\n\u001b[0;32m   1154\u001b[0m     [\n\u001b[1;32m-> 1155\u001b[0m         \u001b[43mnp\u001b[49m\u001b[38;5;241;43m.\u001b[39;49m\u001b[43mpad\u001b[49m\u001b[43m(\u001b[49m\u001b[43mr\u001b[49m\u001b[43m,\u001b[49m\u001b[43m \u001b[49m\u001b[43m(\u001b[49m\u001b[38;5;241;43m0\u001b[39;49m\u001b[43m,\u001b[49m\u001b[43m \u001b[49m\u001b[38;5;28;43mlen\u001b[39;49m\u001b[43m(\u001b[49m\u001b[43mCotes_table\u001b[49m\u001b[43m)\u001b[49m\u001b[43m \u001b[49m\u001b[38;5;241;43m-\u001b[39;49m\u001b[43m \u001b[49m\u001b[38;5;241;43m1\u001b[39;49m\u001b[43m \u001b[49m\u001b[38;5;241;43m-\u001b[39;49m\u001b[43m \u001b[49m\u001b[38;5;28;43mlen\u001b[39;49m\u001b[43m(\u001b[49m\u001b[43mr\u001b[49m\u001b[43m)\u001b[49m\u001b[43m)\u001b[49m\u001b[43m,\u001b[49m\u001b[43m \u001b[49m\u001b[43mmode\u001b[49m\u001b[38;5;241;43m=\u001b[39;49m\u001b[38;5;124;43m'\u001b[39;49m\u001b[38;5;124;43mconstant\u001b[39;49m\u001b[38;5;124;43m'\u001b[39;49m\u001b[43m)\u001b[49m\n\u001b[0;32m   1156\u001b[0m         \u001b[38;5;28;01mfor\u001b[39;00m r \u001b[38;5;129;01min\u001b[39;00m Cotes_table\n\u001b[0;32m   1157\u001b[0m     ]\n\u001b[0;32m   1158\u001b[0m )\n\u001b[0;32m   1161\u001b[0m \u001b[38;5;28;01mdef\u001b[39;00m \u001b[38;5;21mpdf_from_cf_with_fft\u001b[39m(cf, h\u001b[38;5;241m=\u001b[39m\u001b[38;5;241m0.01\u001b[39m, q\u001b[38;5;241m=\u001b[39m\u001b[38;5;241m9\u001b[39m, level\u001b[38;5;241m=\u001b[39m\u001b[38;5;241m3\u001b[39m):\n\u001b[0;32m   1162\u001b[0m \u001b[38;5;250m    \u001b[39m\u001b[38;5;124;03m\"\"\"Calculates pdf from characteristic function.\u001b[39;00m\n\u001b[0;32m   1163\u001b[0m \n\u001b[0;32m   1164\u001b[0m \u001b[38;5;124;03m    Uses fast Fourier transform with Newton-Cotes integration following [WZ].\u001b[39;00m\n\u001b[1;32m   (...)\u001b[0m\n\u001b[0;32m   1197\u001b[0m \u001b[38;5;124;03m        to compute densities of stable distribution.\u001b[39;00m\n\u001b[0;32m   1198\u001b[0m \u001b[38;5;124;03m    \"\"\"\u001b[39;00m\n",
      "File \u001b[1;32m<__array_function__ internals>:200\u001b[0m, in \u001b[0;36mpad\u001b[1;34m(*args, **kwargs)\u001b[0m\n",
      "File \u001b[1;32mc:\\Users\\LENOVO\\miniconda3\\envs\\min_ds-env\\lib\\site-packages\\numpy\\lib\\arraypad.py:744\u001b[0m, in \u001b[0;36mpad\u001b[1;34m(array, pad_width, mode, **kwargs)\u001b[0m\n\u001b[0;32m    741\u001b[0m     \u001b[38;5;28;01mraise\u001b[39;00m \u001b[38;5;167;01mTypeError\u001b[39;00m(\u001b[38;5;124m'\u001b[39m\u001b[38;5;124m`pad_width` must be of integral type.\u001b[39m\u001b[38;5;124m'\u001b[39m)\n\u001b[0;32m    743\u001b[0m \u001b[38;5;66;03m# Broadcast to shape (array.ndim, 2)\u001b[39;00m\n\u001b[1;32m--> 744\u001b[0m pad_width \u001b[38;5;241m=\u001b[39m \u001b[43m_as_pairs\u001b[49m\u001b[43m(\u001b[49m\u001b[43mpad_width\u001b[49m\u001b[43m,\u001b[49m\u001b[43m \u001b[49m\u001b[43marray\u001b[49m\u001b[38;5;241;43m.\u001b[39;49m\u001b[43mndim\u001b[49m\u001b[43m,\u001b[49m\u001b[43m \u001b[49m\u001b[43mas_index\u001b[49m\u001b[38;5;241;43m=\u001b[39;49m\u001b[38;5;28;43;01mTrue\u001b[39;49;00m\u001b[43m)\u001b[49m\n\u001b[0;32m    746\u001b[0m \u001b[38;5;28;01mif\u001b[39;00m \u001b[38;5;28mcallable\u001b[39m(mode):\n\u001b[0;32m    747\u001b[0m     \u001b[38;5;66;03m# Old behavior: Use user-supplied function with np.apply_along_axis\u001b[39;00m\n\u001b[0;32m    748\u001b[0m     function \u001b[38;5;241m=\u001b[39m mode\n",
      "File \u001b[1;32mc:\\Users\\LENOVO\\miniconda3\\envs\\min_ds-env\\lib\\site-packages\\numpy\\lib\\arraypad.py:489\u001b[0m, in \u001b[0;36m_as_pairs\u001b[1;34m(x, ndim, as_index)\u001b[0m\n\u001b[0;32m    487\u001b[0m x \u001b[38;5;241m=\u001b[39m np\u001b[38;5;241m.\u001b[39marray(x)\n\u001b[0;32m    488\u001b[0m \u001b[38;5;28;01mif\u001b[39;00m as_index:\n\u001b[1;32m--> 489\u001b[0m     x \u001b[38;5;241m=\u001b[39m \u001b[43mnp\u001b[49m\u001b[38;5;241;43m.\u001b[39;49m\u001b[43mround\u001b[49m(x)\u001b[38;5;241m.\u001b[39mastype(np\u001b[38;5;241m.\u001b[39mintp, copy\u001b[38;5;241m=\u001b[39m\u001b[38;5;28;01mFalse\u001b[39;00m)\n\u001b[0;32m    491\u001b[0m \u001b[38;5;28;01mif\u001b[39;00m x\u001b[38;5;241m.\u001b[39mndim \u001b[38;5;241m<\u001b[39m \u001b[38;5;241m3\u001b[39m:\n\u001b[0;32m    492\u001b[0m     \u001b[38;5;66;03m# Optimization: Possibly use faster paths for cases where `x` has\u001b[39;00m\n\u001b[0;32m    493\u001b[0m     \u001b[38;5;66;03m# only 1 or 2 elements. `np.broadcast_to` could handle these as well\u001b[39;00m\n\u001b[0;32m    494\u001b[0m     \u001b[38;5;66;03m# but is currently slower\u001b[39;00m\n\u001b[0;32m    496\u001b[0m     \u001b[38;5;28;01mif\u001b[39;00m x\u001b[38;5;241m.\u001b[39msize \u001b[38;5;241m==\u001b[39m \u001b[38;5;241m1\u001b[39m:\n\u001b[0;32m    497\u001b[0m         \u001b[38;5;66;03m# x was supplied as a single value\u001b[39;00m\n",
      "\u001b[1;31mAttributeError\u001b[0m: module 'numpy' has no attribute 'round'"
     ]
    }
   ],
   "source": [
    "import warnings \n",
    "warnings.filterwarnings('ignore')\n",
    "\n",
    "import pandas as pd\n",
    "import numpy as np\n",
    "import matplotlib.pyplot as plt\n",
    "import seaborn as sns\n",
    "\n",
    "pd.set_option('display.max_columns', None)\n",
    "# warnings.filterwarnings('ignore', category=SomeWarningType)\n"
   ]
  },
  {
   "cell_type": "code",
   "execution_count": null,
   "metadata": {},
   "outputs": [],
   "source": []
  },
  {
   "cell_type": "code",
   "execution_count": 5,
   "metadata": {},
   "outputs": [
    {
     "data": {
      "text/html": [
       "<div>\n",
       "<style scoped>\n",
       "    .dataframe tbody tr th:only-of-type {\n",
       "        vertical-align: middle;\n",
       "    }\n",
       "\n",
       "    .dataframe tbody tr th {\n",
       "        vertical-align: top;\n",
       "    }\n",
       "\n",
       "    .dataframe thead th {\n",
       "        text-align: right;\n",
       "    }\n",
       "</style>\n",
       "<table border=\"1\" class=\"dataframe\">\n",
       "  <thead>\n",
       "    <tr style=\"text-align: right;\">\n",
       "      <th></th>\n",
       "      <th>Age</th>\n",
       "      <th>Sex</th>\n",
       "      <th>Race</th>\n",
       "      <th>Marital status?</th>\n",
       "      <th>Education</th>\n",
       "      <th>Employement</th>\n",
       "      <th>Incomes</th>\n",
       "      <th>How many books did you read during last 12months?</th>\n",
       "      <th>Read any printed books during last 12months?</th>\n",
       "      <th>Read any audiobooks during last 12months?</th>\n",
       "      <th>Read any e-books during last 12months?</th>\n",
       "      <th>Last book you read, you…</th>\n",
       "      <th>Do you happen to read any daily news or newspapers?</th>\n",
       "      <th>Do you happen to read any magazines or journals?</th>\n",
       "    </tr>\n",
       "  </thead>\n",
       "  <tbody>\n",
       "    <tr>\n",
       "      <th>0</th>\n",
       "      <td>66</td>\n",
       "      <td>Male</td>\n",
       "      <td>Refused</td>\n",
       "      <td>Divorced</td>\n",
       "      <td>College graduate</td>\n",
       "      <td>Retired</td>\n",
       "      <td>$20,000 to under $30,000</td>\n",
       "      <td>97</td>\n",
       "      <td>Yes</td>\n",
       "      <td>No</td>\n",
       "      <td>Yes</td>\n",
       "      <td>Purchased the book</td>\n",
       "      <td>No</td>\n",
       "      <td>Yes</td>\n",
       "    </tr>\n",
       "    <tr>\n",
       "      <th>1</th>\n",
       "      <td>46</td>\n",
       "      <td>Male</td>\n",
       "      <td>Native American/American Indian</td>\n",
       "      <td>Married</td>\n",
       "      <td>High school graduate</td>\n",
       "      <td>Employed full-time</td>\n",
       "      <td>Less than $10,000</td>\n",
       "      <td>97</td>\n",
       "      <td>Yes</td>\n",
       "      <td>Yes</td>\n",
       "      <td>Yes</td>\n",
       "      <td>Purchased the book</td>\n",
       "      <td>Yes</td>\n",
       "      <td>Yes</td>\n",
       "    </tr>\n",
       "    <tr>\n",
       "      <th>2</th>\n",
       "      <td>32</td>\n",
       "      <td>Male</td>\n",
       "      <td>Mixed race</td>\n",
       "      <td>Never been married</td>\n",
       "      <td>High school graduate</td>\n",
       "      <td>Employed full-time</td>\n",
       "      <td>Less than $10,000</td>\n",
       "      <td>97</td>\n",
       "      <td>No</td>\n",
       "      <td>Yes</td>\n",
       "      <td>Yes</td>\n",
       "      <td>Borrowed the book from a friend or family member</td>\n",
       "      <td>Yes</td>\n",
       "      <td>Yes</td>\n",
       "    </tr>\n",
       "    <tr>\n",
       "      <th>3</th>\n",
       "      <td>27</td>\n",
       "      <td>Male</td>\n",
       "      <td>Mixed race</td>\n",
       "      <td>Married</td>\n",
       "      <td>High school graduate</td>\n",
       "      <td>Employed full-time</td>\n",
       "      <td>$40,000 to under $50,000</td>\n",
       "      <td>97</td>\n",
       "      <td>Yes</td>\n",
       "      <td>No</td>\n",
       "      <td>Yes</td>\n",
       "      <td>Borrowed the book from a library</td>\n",
       "      <td>Yes</td>\n",
       "      <td>No</td>\n",
       "    </tr>\n",
       "    <tr>\n",
       "      <th>4</th>\n",
       "      <td>16</td>\n",
       "      <td>Female</td>\n",
       "      <td>Mixed race</td>\n",
       "      <td>Never been married</td>\n",
       "      <td>High school incomplete</td>\n",
       "      <td>Employed part-time</td>\n",
       "      <td>$10,000 to under $20,000</td>\n",
       "      <td>97</td>\n",
       "      <td>Yes</td>\n",
       "      <td>Yes</td>\n",
       "      <td>No</td>\n",
       "      <td>Purchased the book</td>\n",
       "      <td>Yes</td>\n",
       "      <td>No</td>\n",
       "    </tr>\n",
       "  </tbody>\n",
       "</table>\n",
       "</div>"
      ],
      "text/plain": [
       "   Age     Sex                             Race     Marital status?  \\\n",
       "0   66    Male                          Refused            Divorced   \n",
       "1   46    Male  Native American/American Indian             Married   \n",
       "2   32    Male                       Mixed race  Never been married   \n",
       "3   27    Male                       Mixed race             Married   \n",
       "4   16  Female                       Mixed race  Never been married   \n",
       "\n",
       "                Education         Employement                   Incomes  \\\n",
       "0        College graduate             Retired  $20,000 to under $30,000   \n",
       "1    High school graduate  Employed full-time         Less than $10,000   \n",
       "2    High school graduate  Employed full-time         Less than $10,000   \n",
       "3    High school graduate  Employed full-time  $40,000 to under $50,000   \n",
       "4  High school incomplete  Employed part-time  $10,000 to under $20,000   \n",
       "\n",
       "   How many books did you read during last 12months?  \\\n",
       "0                                                 97   \n",
       "1                                                 97   \n",
       "2                                                 97   \n",
       "3                                                 97   \n",
       "4                                                 97   \n",
       "\n",
       "  Read any printed books during last 12months?  \\\n",
       "0                                          Yes   \n",
       "1                                          Yes   \n",
       "2                                           No   \n",
       "3                                          Yes   \n",
       "4                                          Yes   \n",
       "\n",
       "  Read any audiobooks during last 12months?  \\\n",
       "0                                        No   \n",
       "1                                       Yes   \n",
       "2                                       Yes   \n",
       "3                                        No   \n",
       "4                                       Yes   \n",
       "\n",
       "  Read any e-books during last 12months?  \\\n",
       "0                                    Yes   \n",
       "1                                    Yes   \n",
       "2                                    Yes   \n",
       "3                                    Yes   \n",
       "4                                     No   \n",
       "\n",
       "                           Last book you read, you…  \\\n",
       "0                                Purchased the book   \n",
       "1                                Purchased the book   \n",
       "2  Borrowed the book from a friend or family member   \n",
       "3                  Borrowed the book from a library   \n",
       "4                                Purchased the book   \n",
       "\n",
       "  Do you happen to read any daily news or newspapers?  \\\n",
       "0                                                 No    \n",
       "1                                                Yes    \n",
       "2                                                Yes    \n",
       "3                                                Yes    \n",
       "4                                                Yes    \n",
       "\n",
       "  Do you happen to read any magazines or journals?  \n",
       "0                                              Yes  \n",
       "1                                              Yes  \n",
       "2                                              Yes  \n",
       "3                                               No  \n",
       "4                                               No  "
      ]
     },
     "execution_count": 5,
     "metadata": {},
     "output_type": "execute_result"
    }
   ],
   "source": [
    "df = pd.read_csv(r\"D:\\Nam 4\\Ki 1\\Lap trinh cho KHDL\\Final Project\\LTKHDL\\data\\data.csv\")\n",
    "df.head(5)"
   ]
  },
  {
   "cell_type": "code",
   "execution_count": 6,
   "metadata": {},
   "outputs": [],
   "source": [
    "# Đổi tên cột để thuận tiện trong quá trình tiền xử lý dữ liệu và phân tích \n",
    "\n",
    "df.rename(columns={\n",
    "    'Age': 'age',\n",
    "    'Sex': 'sex',\n",
    "    'Race': 'race',\n",
    "    'Marital status?': 'marital_status',\n",
    "    'Education': 'education',\n",
    "    'Employement': 'employment_status',\n",
    "    'Incomes': 'income_level',\n",
    "    'How many books did you read during last 12months?': 'books_read_last_12m',\n",
    "    'Read any printed books during last 12months?': 'read_printed_books_last_12m',\n",
    "    'Read any audiobooks during last 12months?': 'read_audiobooks_last_12m',\n",
    "    'Read any e-books during last 12months?': 'read_ebooks_last_12m',\n",
    "    'Last book you read, you…': 'last_book_read_format',\n",
    "    'Do you happen to read any daily news or newspapers?': 'read_daily_news',\n",
    "    'Do you happen to read any magazines or journals?': 'read_magazines_journals'\n",
    "}, inplace=True)"
   ]
  },
  {
   "cell_type": "code",
   "execution_count": 7,
   "metadata": {},
   "outputs": [
    {
     "data": {
      "text/html": [
       "<div>\n",
       "<style scoped>\n",
       "    .dataframe tbody tr th:only-of-type {\n",
       "        vertical-align: middle;\n",
       "    }\n",
       "\n",
       "    .dataframe tbody tr th {\n",
       "        vertical-align: top;\n",
       "    }\n",
       "\n",
       "    .dataframe thead th {\n",
       "        text-align: right;\n",
       "    }\n",
       "</style>\n",
       "<table border=\"1\" class=\"dataframe\">\n",
       "  <thead>\n",
       "    <tr style=\"text-align: right;\">\n",
       "      <th></th>\n",
       "      <th>age</th>\n",
       "      <th>sex</th>\n",
       "      <th>race</th>\n",
       "      <th>marital_status</th>\n",
       "      <th>education</th>\n",
       "      <th>employment_status</th>\n",
       "      <th>income_level</th>\n",
       "      <th>books_read_last_12m</th>\n",
       "      <th>read_printed_books_last_12m</th>\n",
       "      <th>read_audiobooks_last_12m</th>\n",
       "      <th>read_ebooks_last_12m</th>\n",
       "      <th>last_book_read_format</th>\n",
       "      <th>read_daily_news</th>\n",
       "      <th>read_magazines_journals</th>\n",
       "    </tr>\n",
       "  </thead>\n",
       "  <tbody>\n",
       "    <tr>\n",
       "      <th>0</th>\n",
       "      <td>66</td>\n",
       "      <td>Male</td>\n",
       "      <td>Refused</td>\n",
       "      <td>Divorced</td>\n",
       "      <td>College graduate</td>\n",
       "      <td>Retired</td>\n",
       "      <td>$20,000 to under $30,000</td>\n",
       "      <td>97</td>\n",
       "      <td>Yes</td>\n",
       "      <td>No</td>\n",
       "      <td>Yes</td>\n",
       "      <td>Purchased the book</td>\n",
       "      <td>No</td>\n",
       "      <td>Yes</td>\n",
       "    </tr>\n",
       "    <tr>\n",
       "      <th>1</th>\n",
       "      <td>46</td>\n",
       "      <td>Male</td>\n",
       "      <td>Native American/American Indian</td>\n",
       "      <td>Married</td>\n",
       "      <td>High school graduate</td>\n",
       "      <td>Employed full-time</td>\n",
       "      <td>Less than $10,000</td>\n",
       "      <td>97</td>\n",
       "      <td>Yes</td>\n",
       "      <td>Yes</td>\n",
       "      <td>Yes</td>\n",
       "      <td>Purchased the book</td>\n",
       "      <td>Yes</td>\n",
       "      <td>Yes</td>\n",
       "    </tr>\n",
       "    <tr>\n",
       "      <th>2</th>\n",
       "      <td>32</td>\n",
       "      <td>Male</td>\n",
       "      <td>Mixed race</td>\n",
       "      <td>Never been married</td>\n",
       "      <td>High school graduate</td>\n",
       "      <td>Employed full-time</td>\n",
       "      <td>Less than $10,000</td>\n",
       "      <td>97</td>\n",
       "      <td>No</td>\n",
       "      <td>Yes</td>\n",
       "      <td>Yes</td>\n",
       "      <td>Borrowed the book from a friend or family member</td>\n",
       "      <td>Yes</td>\n",
       "      <td>Yes</td>\n",
       "    </tr>\n",
       "    <tr>\n",
       "      <th>3</th>\n",
       "      <td>27</td>\n",
       "      <td>Male</td>\n",
       "      <td>Mixed race</td>\n",
       "      <td>Married</td>\n",
       "      <td>High school graduate</td>\n",
       "      <td>Employed full-time</td>\n",
       "      <td>$40,000 to under $50,000</td>\n",
       "      <td>97</td>\n",
       "      <td>Yes</td>\n",
       "      <td>No</td>\n",
       "      <td>Yes</td>\n",
       "      <td>Borrowed the book from a library</td>\n",
       "      <td>Yes</td>\n",
       "      <td>No</td>\n",
       "    </tr>\n",
       "    <tr>\n",
       "      <th>4</th>\n",
       "      <td>16</td>\n",
       "      <td>Female</td>\n",
       "      <td>Mixed race</td>\n",
       "      <td>Never been married</td>\n",
       "      <td>High school incomplete</td>\n",
       "      <td>Employed part-time</td>\n",
       "      <td>$10,000 to under $20,000</td>\n",
       "      <td>97</td>\n",
       "      <td>Yes</td>\n",
       "      <td>Yes</td>\n",
       "      <td>No</td>\n",
       "      <td>Purchased the book</td>\n",
       "      <td>Yes</td>\n",
       "      <td>No</td>\n",
       "    </tr>\n",
       "  </tbody>\n",
       "</table>\n",
       "</div>"
      ],
      "text/plain": [
       "   age     sex                             race      marital_status  \\\n",
       "0   66    Male                          Refused            Divorced   \n",
       "1   46    Male  Native American/American Indian             Married   \n",
       "2   32    Male                       Mixed race  Never been married   \n",
       "3   27    Male                       Mixed race             Married   \n",
       "4   16  Female                       Mixed race  Never been married   \n",
       "\n",
       "                education   employment_status              income_level  \\\n",
       "0        College graduate             Retired  $20,000 to under $30,000   \n",
       "1    High school graduate  Employed full-time         Less than $10,000   \n",
       "2    High school graduate  Employed full-time         Less than $10,000   \n",
       "3    High school graduate  Employed full-time  $40,000 to under $50,000   \n",
       "4  High school incomplete  Employed part-time  $10,000 to under $20,000   \n",
       "\n",
       "   books_read_last_12m read_printed_books_last_12m read_audiobooks_last_12m  \\\n",
       "0                   97                         Yes                       No   \n",
       "1                   97                         Yes                      Yes   \n",
       "2                   97                          No                      Yes   \n",
       "3                   97                         Yes                       No   \n",
       "4                   97                         Yes                      Yes   \n",
       "\n",
       "  read_ebooks_last_12m                             last_book_read_format  \\\n",
       "0                  Yes                                Purchased the book   \n",
       "1                  Yes                                Purchased the book   \n",
       "2                  Yes  Borrowed the book from a friend or family member   \n",
       "3                  Yes                  Borrowed the book from a library   \n",
       "4                   No                                Purchased the book   \n",
       "\n",
       "  read_daily_news read_magazines_journals  \n",
       "0              No                     Yes  \n",
       "1             Yes                     Yes  \n",
       "2             Yes                     Yes  \n",
       "3             Yes                      No  \n",
       "4             Yes                      No  "
      ]
     },
     "execution_count": 7,
     "metadata": {},
     "output_type": "execute_result"
    }
   ],
   "source": [
    "df.head(5)"
   ]
  },
  {
   "cell_type": "markdown",
   "metadata": {},
   "source": [
    "#### Ý nghĩa của từng cột\n",
    "* **age**: Lưu trữ tuổi của đối tượng\n",
    "* **sex**: Lưu trữ giới tính của đối tượng (nam, nữ hoặc các giới tính khác)\n",
    "* **race**: Lưu trữ thông tin về chủng tộc của đối tượng\n",
    "* **marital_status**: Lưu trữ trạng thái hôn nhân của đối tượng (độc thân, kết hôn, ...)\n",
    "* **education**: Lưu trữ trình độ học vấn của đối tượng\n",
    "* **employment_status**: Lưu trữ trạng thái việc làm của đối tượng (đang làm việc, thất nghiệp, ...)\n",
    "* **income_level**: Lưu trữ mức thu nhập của đối tượng\n",
    "* **books_read_last_12m**: Lưu trữ số lượng sách mà đối tượng đã đọc trong 12 tháng qua\n",
    "* **read_printed_books_last_12m**: Lưu trữ thông tin về việc đối tượng có đọc sách in trong 12 tháng qua hay không\n",
    "* **read_audiobooks_last_12m**: Lưu trữ thông tin về việc đối tượng có nghe sách nói trong 12 tháng qua hay không\n",
    "* **read_ebooks_last_12m**: Lưu trữ thông tin về việc đối tượng có đọc sách điện tử trong 12 tháng qua hay không\n",
    "* **last_book_read_format**: Lưu trữ thông tin về định dạng của cuốn sách cuối cùng mà đối tượng đã đọc (sách in, sách điện tử, sách nói)\n",
    "* **read_daily_news**: Lưu trữ thông tin về việc đối tượng có đọc tin tức hoặc báo hàng ngày hay không\n",
    "* **ead_magazines_journals**: Lưu trữ thông tin về việc đối tượng có đọc tạp chí hoặc tạp chí chuyên ngành hay không"
   ]
  },
  {
   "cell_type": "code",
   "execution_count": 8,
   "metadata": {},
   "outputs": [
    {
     "data": {
      "text/plain": [
       "(2832, 14)"
      ]
     },
     "execution_count": 8,
     "metadata": {},
     "output_type": "execute_result"
    }
   ],
   "source": [
    "# Có bao nhiêu hàng, bao nhiêu cột\n",
    "num_rows, num_cols = df.shape\n",
    "num_rows, num_cols"
   ]
  },
  {
   "cell_type": "code",
   "execution_count": 9,
   "metadata": {},
   "outputs": [
    {
     "name": "stdout",
     "output_type": "stream",
     "text": [
      "Dữ liệu có 1 dòng bị lặp.\n"
     ]
    }
   ],
   "source": [
    "# Kiểm tra trùng lặp\n",
    "\n",
    "num_duplicated_rows = df.duplicated().sum()\n",
    "if num_duplicated_rows == 0:\n",
    "    print(f\"Các dòng dữ liệu không bị lặp!\")\n",
    "else:\n",
    "    print(f\"Dữ liệu có {num_duplicated_rows} dòng bị lặp.\")"
   ]
  },
  {
   "cell_type": "code",
   "execution_count": 10,
   "metadata": {},
   "outputs": [],
   "source": [
    "# Xóa các dòng bị lặp\n",
    "df = df.drop_duplicates()"
   ]
  },
  {
   "cell_type": "code",
   "execution_count": 11,
   "metadata": {},
   "outputs": [
    {
     "data": {
      "text/plain": [
       "age                             int64\n",
       "sex                            object\n",
       "race                           object\n",
       "marital_status                 object\n",
       "education                      object\n",
       "employment_status              object\n",
       "income_level                   object\n",
       "books_read_last_12m             int64\n",
       "read_printed_books_last_12m    object\n",
       "read_audiobooks_last_12m       object\n",
       "read_ebooks_last_12m           object\n",
       "last_book_read_format          object\n",
       "read_daily_news                object\n",
       "read_magazines_journals        object\n",
       "dtype: object"
      ]
     },
     "execution_count": 11,
     "metadata": {},
     "output_type": "execute_result"
    }
   ],
   "source": [
    "# Kiểu dữ liệu của từng cột\n",
    "df.dtypes"
   ]
  },
  {
   "cell_type": "markdown",
   "metadata": {},
   "source": [
    "Kiểu dữ liệu là phụ hợp với các cột, riêng cột **income_level** cần điều chỉnh để có thể thuận lợi trong quá trình phân tích"
   ]
  },
  {
   "cell_type": "code",
   "execution_count": 12,
   "metadata": {},
   "outputs": [
    {
     "name": "stdout",
     "output_type": "stream",
     "text": [
      "$100,000 to under $150,000     530\n",
      "$50,000 to under $75,000       394\n",
      "$75,000 to under $100,000      315\n",
      "Refused                        291\n",
      "$30,000 to under $40,000       265\n",
      "$20,000 to under $30,000       238\n",
      "$10,000 to under $20,000       216\n",
      "9$100,000 to under $150,000    212\n",
      "$40,000 to under $50,000       207\n",
      "Less than $10,000              163\n",
      "Name: income_level, dtype: int64\n"
     ]
    }
   ],
   "source": [
    "income_stats = df['income_level'].value_counts()\n",
    "\n",
    "print(income_stats)"
   ]
  },
  {
   "cell_type": "markdown",
   "metadata": {},
   "source": [
    "Có 1 dòng giá trị bị lỗi *9$100,000 to under $150,000* do quá trình nhập dữ liệu => cần chỉnh sửa lại "
   ]
  },
  {
   "cell_type": "code",
   "execution_count": 13,
   "metadata": {},
   "outputs": [
    {
     "name": "stdout",
     "output_type": "stream",
     "text": [
      "$100,000 to under $150,000    742\n",
      "$50,000 to under $75,000      394\n",
      "$75,000 to under $100,000     315\n",
      "$30,000 to under $40,000      265\n",
      "$20,000 to under $30,000      238\n",
      "$10,000 to under $20,000      216\n",
      "$40,000 to under $50,000      207\n",
      "Less than $10,000             163\n",
      "Name: income_level, dtype: int64\n"
     ]
    }
   ],
   "source": [
    "df = df[df['income_level'].str.lower() != 'refused']\n",
    "\n",
    "df['income_level'] = df['income_level'].replace('9$100,000 to under $150,000', '$100,000 to under $150,000')\n",
    "\n",
    "income_stats = df['income_level'].value_counts()\n",
    "\n",
    "print(income_stats)"
   ]
  },
  {
   "cell_type": "code",
   "execution_count": 14,
   "metadata": {},
   "outputs": [
    {
     "data": {
      "text/html": [
       "<div>\n",
       "<style scoped>\n",
       "    .dataframe tbody tr th:only-of-type {\n",
       "        vertical-align: middle;\n",
       "    }\n",
       "\n",
       "    .dataframe tbody tr th {\n",
       "        vertical-align: top;\n",
       "    }\n",
       "\n",
       "    .dataframe thead th {\n",
       "        text-align: right;\n",
       "    }\n",
       "</style>\n",
       "<table border=\"1\" class=\"dataframe\">\n",
       "  <thead>\n",
       "    <tr style=\"text-align: right;\">\n",
       "      <th></th>\n",
       "      <th>age</th>\n",
       "      <th>sex</th>\n",
       "      <th>race</th>\n",
       "      <th>marital_status</th>\n",
       "      <th>education</th>\n",
       "      <th>employment_status</th>\n",
       "      <th>income_level</th>\n",
       "      <th>books_read_last_12m</th>\n",
       "      <th>read_printed_books_last_12m</th>\n",
       "      <th>read_audiobooks_last_12m</th>\n",
       "      <th>read_ebooks_last_12m</th>\n",
       "      <th>last_book_read_format</th>\n",
       "      <th>read_daily_news</th>\n",
       "      <th>read_magazines_journals</th>\n",
       "    </tr>\n",
       "  </thead>\n",
       "  <tbody>\n",
       "    <tr>\n",
       "      <th>0</th>\n",
       "      <td>66</td>\n",
       "      <td>Male</td>\n",
       "      <td>Refused</td>\n",
       "      <td>Divorced</td>\n",
       "      <td>College graduate</td>\n",
       "      <td>Retired</td>\n",
       "      <td>3</td>\n",
       "      <td>97</td>\n",
       "      <td>Yes</td>\n",
       "      <td>No</td>\n",
       "      <td>Yes</td>\n",
       "      <td>Purchased the book</td>\n",
       "      <td>No</td>\n",
       "      <td>Yes</td>\n",
       "    </tr>\n",
       "    <tr>\n",
       "      <th>1</th>\n",
       "      <td>46</td>\n",
       "      <td>Male</td>\n",
       "      <td>Native American/American Indian</td>\n",
       "      <td>Married</td>\n",
       "      <td>High school graduate</td>\n",
       "      <td>Employed full-time</td>\n",
       "      <td>1</td>\n",
       "      <td>97</td>\n",
       "      <td>Yes</td>\n",
       "      <td>Yes</td>\n",
       "      <td>Yes</td>\n",
       "      <td>Purchased the book</td>\n",
       "      <td>Yes</td>\n",
       "      <td>Yes</td>\n",
       "    </tr>\n",
       "    <tr>\n",
       "      <th>2</th>\n",
       "      <td>32</td>\n",
       "      <td>Male</td>\n",
       "      <td>Mixed race</td>\n",
       "      <td>Never been married</td>\n",
       "      <td>High school graduate</td>\n",
       "      <td>Employed full-time</td>\n",
       "      <td>1</td>\n",
       "      <td>97</td>\n",
       "      <td>No</td>\n",
       "      <td>Yes</td>\n",
       "      <td>Yes</td>\n",
       "      <td>Borrowed the book from a friend or family member</td>\n",
       "      <td>Yes</td>\n",
       "      <td>Yes</td>\n",
       "    </tr>\n",
       "    <tr>\n",
       "      <th>3</th>\n",
       "      <td>27</td>\n",
       "      <td>Male</td>\n",
       "      <td>Mixed race</td>\n",
       "      <td>Married</td>\n",
       "      <td>High school graduate</td>\n",
       "      <td>Employed full-time</td>\n",
       "      <td>5</td>\n",
       "      <td>97</td>\n",
       "      <td>Yes</td>\n",
       "      <td>No</td>\n",
       "      <td>Yes</td>\n",
       "      <td>Borrowed the book from a library</td>\n",
       "      <td>Yes</td>\n",
       "      <td>No</td>\n",
       "    </tr>\n",
       "    <tr>\n",
       "      <th>4</th>\n",
       "      <td>16</td>\n",
       "      <td>Female</td>\n",
       "      <td>Mixed race</td>\n",
       "      <td>Never been married</td>\n",
       "      <td>High school incomplete</td>\n",
       "      <td>Employed part-time</td>\n",
       "      <td>2</td>\n",
       "      <td>97</td>\n",
       "      <td>Yes</td>\n",
       "      <td>Yes</td>\n",
       "      <td>No</td>\n",
       "      <td>Purchased the book</td>\n",
       "      <td>Yes</td>\n",
       "      <td>No</td>\n",
       "    </tr>\n",
       "  </tbody>\n",
       "</table>\n",
       "</div>"
      ],
      "text/plain": [
       "   age     sex                             race      marital_status  \\\n",
       "0   66    Male                          Refused            Divorced   \n",
       "1   46    Male  Native American/American Indian             Married   \n",
       "2   32    Male                       Mixed race  Never been married   \n",
       "3   27    Male                       Mixed race             Married   \n",
       "4   16  Female                       Mixed race  Never been married   \n",
       "\n",
       "                education   employment_status  income_level  \\\n",
       "0        College graduate             Retired             3   \n",
       "1    High school graduate  Employed full-time             1   \n",
       "2    High school graduate  Employed full-time             1   \n",
       "3    High school graduate  Employed full-time             5   \n",
       "4  High school incomplete  Employed part-time             2   \n",
       "\n",
       "   books_read_last_12m read_printed_books_last_12m read_audiobooks_last_12m  \\\n",
       "0                   97                         Yes                       No   \n",
       "1                   97                         Yes                      Yes   \n",
       "2                   97                          No                      Yes   \n",
       "3                   97                         Yes                       No   \n",
       "4                   97                         Yes                      Yes   \n",
       "\n",
       "  read_ebooks_last_12m                             last_book_read_format  \\\n",
       "0                  Yes                                Purchased the book   \n",
       "1                  Yes                                Purchased the book   \n",
       "2                  Yes  Borrowed the book from a friend or family member   \n",
       "3                  Yes                  Borrowed the book from a library   \n",
       "4                   No                                Purchased the book   \n",
       "\n",
       "  read_daily_news read_magazines_journals  \n",
       "0              No                     Yes  \n",
       "1             Yes                     Yes  \n",
       "2             Yes                     Yes  \n",
       "3             Yes                      No  \n",
       "4             Yes                      No  "
      ]
     },
     "execution_count": 14,
     "metadata": {},
     "output_type": "execute_result"
    }
   ],
   "source": [
    "# Tạo từ điển để ánh xạ các khoảng thu nhập thành giá trị số\n",
    "income_mapping = {\n",
    "    'Less than $10,000': 1,\n",
    "    '$10,000 to under $20,000': 2,\n",
    "    '$20,000 to under $30,000': 3,\n",
    "    '$30,000 to under $40,000': 4,\n",
    "    '$40,000 to under $50,000': 5,\n",
    "    '$50,000 to under $75,000': 6,\n",
    "    '$75,000 to under $100,000': 7,\n",
    "    '$100,000 to under $150,000': 8\n",
    "}\n",
    "\n",
    "# Áp dụng ánh xạ vào cột 'income_level'\n",
    "df['income_level'] = df['income_level'].map(income_mapping)\n",
    "\n",
    "df.head(5)"
   ]
  },
  {
   "cell_type": "markdown",
   "metadata": {},
   "source": [
    "#### Khám phá các cột dữ liệu còn lại"
   ]
  },
  {
   "cell_type": "code",
   "execution_count": 15,
   "metadata": {},
   "outputs": [
    {
     "name": "stdout",
     "output_type": "stream",
     "text": [
      "50    69\n",
      "65    67\n",
      "47    66\n",
      "17    66\n",
      "16    64\n",
      "      ..\n",
      "90     2\n",
      "89     2\n",
      "91     1\n",
      "93     1\n",
      "92     1\n",
      "Name: age, Length: 78, dtype: int64\n"
     ]
    }
   ],
   "source": [
    "income_stats = df['age'].value_counts()\n",
    "\n",
    "print(income_stats)"
   ]
  },
  {
   "cell_type": "code",
   "execution_count": 16,
   "metadata": {},
   "outputs": [
    {
     "name": "stdout",
     "output_type": "stream",
     "text": [
      "Female    1302\n",
      "Male      1238\n",
      "Name: sex, dtype: int64\n"
     ]
    }
   ],
   "source": [
    "income_stats = df['sex'].value_counts()\n",
    "\n",
    "print(income_stats)"
   ]
  },
  {
   "cell_type": "code",
   "execution_count": 17,
   "metadata": {},
   "outputs": [
    {
     "name": "stdout",
     "output_type": "stream",
     "text": [
      "White                              1981\n",
      "Black or African-American           327\n",
      "Asian or Pacific Islander            62\n",
      "Mixed race                           58\n",
      "Other                                55\n",
      "Native American/American Indian      29\n",
      "Refused                              20\n",
      "Don’t know                            8\n",
      "Name: race, dtype: int64\n"
     ]
    }
   ],
   "source": [
    "income_stats = df['race'].value_counts()\n",
    "\n",
    "print(income_stats)"
   ]
  },
  {
   "cell_type": "code",
   "execution_count": 18,
   "metadata": {},
   "outputs": [
    {
     "name": "stdout",
     "output_type": "stream",
     "text": [
      "Married                  1327\n",
      "Never been married        574\n",
      "Divorced                  233\n",
      "Widowed                   159\n",
      "Living with a partner     135\n",
      "Single                     56\n",
      "Separated                  51\n",
      "Don’t know                  5\n",
      "Name: marital_status, dtype: int64\n"
     ]
    }
   ],
   "source": [
    "income_stats = df['marital_status'].value_counts()\n",
    "\n",
    "print(income_stats)"
   ]
  },
  {
   "cell_type": "code",
   "execution_count": 19,
   "metadata": {},
   "outputs": [
    {
     "name": "stdout",
     "output_type": "stream",
     "text": [
      "High school graduate                                        621\n",
      "Some college, no 4-year degree                              589\n",
      "College graduate                                            532\n",
      "Post-graduate training/professional school after college    430\n",
      "High school incomplete                                      249\n",
      "Technical, trade or vocational school AFTER high school      61\n",
      "None                                                         54\n",
      "Don’t know                                                    4\n",
      "Name: education, dtype: int64\n"
     ]
    }
   ],
   "source": [
    "income_stats = df['education'].value_counts()\n",
    "\n",
    "print(income_stats)"
   ]
  },
  {
   "cell_type": "code",
   "execution_count": 20,
   "metadata": {},
   "outputs": [
    {
     "name": "stdout",
     "output_type": "stream",
     "text": [
      "Employed full-time                 1131\n",
      "Retired                             494\n",
      "Not employed for pay                434\n",
      "Employed part-time                  334\n",
      "Disabled                             68\n",
      "Have own business/self-employed      48\n",
      "Student                              22\n",
      "Other                                 9\n",
      "Name: employment_status, dtype: int64\n"
     ]
    }
   ],
   "source": [
    "income_stats = df['employment_status'].value_counts()\n",
    "\n",
    "print(income_stats)"
   ]
  },
  {
   "cell_type": "code",
   "execution_count": 21,
   "metadata": {},
   "outputs": [
    {
     "name": "stdout",
     "output_type": "stream",
     "text": [
      "0     345\n",
      "3     194\n",
      "6     152\n",
      "2     151\n",
      "10    151\n",
      "5     148\n",
      "20    146\n",
      "4     145\n",
      "12    135\n",
      "1     133\n",
      "97    114\n",
      "30    102\n",
      "15     97\n",
      "50     95\n",
      "25     69\n",
      "8      63\n",
      "40     46\n",
      "7      45\n",
      "24     32\n",
      "60     18\n",
      "35     15\n",
      "96     14\n",
      "75     13\n",
      "36     13\n",
      "13     11\n",
      "18     10\n",
      "9      10\n",
      "70      9\n",
      "16      9\n",
      "14      7\n",
      "45      7\n",
      "17      6\n",
      "11      4\n",
      "80      4\n",
      "32      3\n",
      "48      3\n",
      "47      2\n",
      "26      2\n",
      "65      2\n",
      "84      1\n",
      "67      1\n",
      "90      1\n",
      "76      1\n",
      "55      1\n",
      "19      1\n",
      "54      1\n",
      "23      1\n",
      "37      1\n",
      "38      1\n",
      "42      1\n",
      "43      1\n",
      "51      1\n",
      "52      1\n",
      "22      1\n",
      "Name: books_read_last_12m, dtype: int64\n"
     ]
    }
   ],
   "source": [
    "income_stats = df['books_read_last_12m'].value_counts()\n",
    "\n",
    "print(income_stats)"
   ]
  },
  {
   "cell_type": "code",
   "execution_count": 22,
   "metadata": {},
   "outputs": [
    {
     "name": "stdout",
     "output_type": "stream",
     "text": [
      "Yes           2031\n",
      "No             156\n",
      "Don’t know       8\n",
      "Name: read_printed_books_last_12m, dtype: int64\n"
     ]
    }
   ],
   "source": [
    "income_stats = df['read_printed_books_last_12m'].value_counts()\n",
    "\n",
    "print(income_stats)"
   ]
  },
  {
   "cell_type": "code",
   "execution_count": 23,
   "metadata": {},
   "outputs": [
    {
     "name": "stdout",
     "output_type": "stream",
     "text": [
      "No            1821\n",
      "Yes            371\n",
      "Don’t know       3\n",
      "Name: read_audiobooks_last_12m, dtype: int64\n"
     ]
    }
   ],
   "source": [
    "income_stats = df['read_audiobooks_last_12m'].value_counts()\n",
    "\n",
    "print(income_stats)"
   ]
  },
  {
   "cell_type": "code",
   "execution_count": 24,
   "metadata": {},
   "outputs": [
    {
     "name": "stdout",
     "output_type": "stream",
     "text": [
      "No            1464\n",
      "Yes            718\n",
      "Don’t know      13\n",
      "Name: read_ebooks_last_12m, dtype: int64\n"
     ]
    }
   ],
   "source": [
    "income_stats = df['read_ebooks_last_12m'].value_counts()\n",
    "\n",
    "print(income_stats)"
   ]
  },
  {
   "cell_type": "code",
   "execution_count": 27,
   "metadata": {},
   "outputs": [
    {
     "name": "stdout",
     "output_type": "stream",
     "text": [
      "Purchased the book                                  1144\n",
      "Borrowed the book from a friend or family member     452\n",
      "Borrowed the book from a library                     291\n",
      "Got the book some other way                          280\n",
      "Name: last_book_read_format, dtype: int64\n"
     ]
    }
   ],
   "source": [
    "income_stats = df['last_book_read_format'].value_counts()\n",
    "\n",
    "print(income_stats)"
   ]
  },
  {
   "cell_type": "code",
   "execution_count": 26,
   "metadata": {},
   "outputs": [],
   "source": [
    "# Có hai kiểu dữ liệu lạ xuất hiện trong trong cột last_book_read_format \n",
    "# => xóa bỏ những dòng dữ liệu không có ý nghĩa làm ảnh hưởng đến quá trình phân tích dữ liệu\n",
    "\n",
    "df = df[df['last_book_read_format'].str.lower() != '8']\n",
    "df = df[df['last_book_read_format'].str.lower() != '9']"
   ]
  },
  {
   "cell_type": "code",
   "execution_count": 28,
   "metadata": {},
   "outputs": [
    {
     "name": "stdout",
     "output_type": "stream",
     "text": [
      "Yes           1528\n",
      "No             979\n",
      "Don’t know       5\n",
      "Name: read_daily_news, dtype: int64\n"
     ]
    }
   ],
   "source": [
    "income_stats = df['read_daily_news'].value_counts()\n",
    "\n",
    "print(income_stats)"
   ]
  },
  {
   "cell_type": "code",
   "execution_count": 29,
   "metadata": {},
   "outputs": [
    {
     "name": "stdout",
     "output_type": "stream",
     "text": [
      "Yes           1329\n",
      "No            1179\n",
      "Don’t know       4\n",
      "Name: read_magazines_journals, dtype: int64\n"
     ]
    }
   ],
   "source": [
    "income_stats = df['read_magazines_journals'].value_counts()\n",
    "\n",
    "print(income_stats)"
   ]
  },
  {
   "cell_type": "code",
   "execution_count": 30,
   "metadata": {},
   "outputs": [],
   "source": [
    "# Xoá tất cả dòng chứa dữ liệu Don't know và None\n",
    "\n",
    "df = df[~df.isin([\"Don’t know\", \"None\"]).any(axis = 1)]"
   ]
  },
  {
   "cell_type": "code",
   "execution_count": 31,
   "metadata": {},
   "outputs": [
    {
     "name": "stdout",
     "output_type": "stream",
     "text": [
      "Statistics for column: age\n",
      "17    64\n",
      "47    64\n",
      "65    63\n",
      "50    62\n",
      "60    61\n",
      "      ..\n",
      "90     2\n",
      "89     2\n",
      "91     1\n",
      "93     1\n",
      "92     1\n",
      "Name: age, Length: 78, dtype: int64\n",
      "--------------------------------------------------\n",
      "Statistics for column: sex\n",
      "Female    1251\n",
      "Male      1163\n",
      "Name: sex, dtype: int64\n",
      "--------------------------------------------------\n",
      "Statistics for column: race\n",
      "White                              1912\n",
      "Black or African-American           301\n",
      "Asian or Pacific Islander            60\n",
      "Mixed race                           51\n",
      "Other                                50\n",
      "Native American/American Indian      25\n",
      "Refused                              15\n",
      "Name: race, dtype: int64\n",
      "--------------------------------------------------\n",
      "Statistics for column: marital_status\n",
      "Married                  1275\n",
      "Never been married        549\n",
      "Divorced                  222\n",
      "Widowed                   152\n",
      "Living with a partner     124\n",
      "Single                     51\n",
      "Separated                  41\n",
      "Name: marital_status, dtype: int64\n",
      "--------------------------------------------------\n",
      "Statistics for column: education\n",
      "High school graduate                                        603\n",
      "Some college, no 4-year degree                              577\n",
      "College graduate                                            516\n",
      "Post-graduate training/professional school after college    422\n",
      "High school incomplete                                      237\n",
      "Technical, trade or vocational school AFTER high school      59\n",
      "Name: education, dtype: int64\n",
      "--------------------------------------------------\n",
      "Statistics for column: employment_status\n",
      "Employed full-time                 1082\n",
      "Retired                             475\n",
      "Not employed for pay                401\n",
      "Employed part-time                  321\n",
      "Disabled                             60\n",
      "Have own business/self-employed      46\n",
      "Student                              21\n",
      "Other                                 8\n",
      "Name: employment_status, dtype: int64\n",
      "--------------------------------------------------\n",
      "Statistics for column: income_level\n",
      "8    706\n",
      "6    380\n",
      "7    307\n",
      "4    252\n",
      "3    231\n",
      "5    201\n",
      "2    201\n",
      "1    136\n",
      "Name: income_level, dtype: int64\n",
      "--------------------------------------------------\n",
      "Statistics for column: books_read_last_12m\n",
      "0     317\n",
      "3     185\n",
      "10    148\n",
      "5     145\n",
      "6     143\n",
      "20    142\n",
      "2     138\n",
      "4     136\n",
      "12    127\n",
      "1     115\n",
      "97    113\n",
      "30     97\n",
      "15     94\n",
      "50     93\n",
      "25     67\n",
      "8      61\n",
      "40     45\n",
      "7      44\n",
      "24     30\n",
      "60     17\n",
      "35     15\n",
      "96     14\n",
      "36     13\n",
      "75     13\n",
      "13     11\n",
      "18     10\n",
      "9      10\n",
      "70      9\n",
      "16      9\n",
      "14      7\n",
      "45      7\n",
      "17      5\n",
      "11      4\n",
      "80      4\n",
      "48      3\n",
      "32      3\n",
      "26      2\n",
      "65      2\n",
      "47      2\n",
      "67      1\n",
      "84      1\n",
      "90      1\n",
      "54      1\n",
      "19      1\n",
      "52      1\n",
      "22      1\n",
      "23      1\n",
      "37      1\n",
      "38      1\n",
      "42      1\n",
      "43      1\n",
      "51      1\n",
      "55      1\n",
      "Name: books_read_last_12m, dtype: int64\n",
      "--------------------------------------------------\n",
      "Statistics for column: read_printed_books_last_12m\n",
      "Yes    1960\n",
      "NaN     317\n",
      "No      137\n",
      "Name: read_printed_books_last_12m, dtype: int64\n",
      "--------------------------------------------------\n",
      "Statistics for column: read_audiobooks_last_12m\n",
      "No     1743\n",
      "Yes     354\n",
      "NaN     317\n",
      "Name: read_audiobooks_last_12m, dtype: int64\n",
      "--------------------------------------------------\n",
      "Statistics for column: read_ebooks_last_12m\n",
      "No     1394\n",
      "Yes     703\n",
      "NaN     317\n",
      "Name: read_ebooks_last_12m, dtype: int64\n",
      "--------------------------------------------------\n",
      "Statistics for column: last_book_read_format\n",
      "Purchased the book                                  1114\n",
      "Borrowed the book from a friend or family member     438\n",
      "NaN                                                  317\n",
      "Borrowed the book from a library                     277\n",
      "Got the book some other way                          268\n",
      "Name: last_book_read_format, dtype: int64\n",
      "--------------------------------------------------\n",
      "Statistics for column: read_daily_news\n",
      "Yes    1478\n",
      "No      936\n",
      "Name: read_daily_news, dtype: int64\n",
      "--------------------------------------------------\n",
      "Statistics for column: read_magazines_journals\n",
      "Yes    1288\n",
      "No     1126\n",
      "Name: read_magazines_journals, dtype: int64\n",
      "--------------------------------------------------\n"
     ]
    }
   ],
   "source": [
    "# Kiểm tra lại\n",
    "for col in df.columns:\n",
    "    print(f\"Statistics for column: {col}\")\n",
    "    print(df[col].value_counts(dropna=False))  # dropna=False để bao gồm cả giá trị NaN\n",
    "    print(\"-\" * 50)  # Đường phân cách giữa các cột"
   ]
  },
  {
   "cell_type": "code",
   "execution_count": 32,
   "metadata": {},
   "outputs": [
    {
     "data": {
      "text/plain": [
       "age                            0.000000\n",
       "sex                            0.000000\n",
       "race                           0.000000\n",
       "marital_status                 0.000000\n",
       "education                      0.000000\n",
       "employment_status              0.000000\n",
       "income_level                   0.000000\n",
       "books_read_last_12m            0.000000\n",
       "read_printed_books_last_12m    0.111935\n",
       "read_audiobooks_last_12m       0.111935\n",
       "read_ebooks_last_12m           0.111935\n",
       "last_book_read_format          0.111935\n",
       "read_daily_news                0.000000\n",
       "read_magazines_journals        0.000000\n",
       "dtype: float64"
      ]
     },
     "execution_count": 32,
     "metadata": {},
     "output_type": "execute_result"
    }
   ],
   "source": [
    "# Xử lý giá trị thiếu\n",
    "\n",
    "missing_ratio = df.isnull().sum()\n",
    "missing_ratio = missing_ratio / num_rows\n",
    "missing_ratio"
   ]
  },
  {
   "cell_type": "code",
   "execution_count": 33,
   "metadata": {},
   "outputs": [
    {
     "name": "stdout",
     "output_type": "stream",
     "text": [
      "age                            0\n",
      "sex                            0\n",
      "race                           0\n",
      "marital_status                 0\n",
      "education                      0\n",
      "employment_status              0\n",
      "income_level                   0\n",
      "books_read_last_12m            0\n",
      "read_printed_books_last_12m    0\n",
      "read_audiobooks_last_12m       0\n",
      "read_ebooks_last_12m           0\n",
      "last_book_read_format          0\n",
      "read_daily_news                0\n",
      "read_magazines_journals        0\n",
      "dtype: int64\n"
     ]
    }
   ],
   "source": [
    "# Vì dữ liệu thiếu khá nhiều nên theo ý kiến cá nhân không nên fill data vì sẽ gây ra sai lệch nhiều => xoá \n",
    "\n",
    "# Xóa tất cả các dòng có giá trị thiếu\n",
    "df = df.dropna()\n",
    "\n",
    "# Kiểm tra lại để đảm bảo không còn giá trị thiếu\n",
    "print(df.isnull().sum())"
   ]
  },
  {
   "cell_type": "code",
   "execution_count": 34,
   "metadata": {},
   "outputs": [
    {
     "data": {
      "text/plain": [
       "Index(['age', 'sex', 'race', 'marital_status', 'education',\n",
       "       'employment_status', 'income_level', 'books_read_last_12m',\n",
       "       'read_printed_books_last_12m', 'read_audiobooks_last_12m',\n",
       "       'read_ebooks_last_12m', 'last_book_read_format', 'read_daily_news',\n",
       "       'read_magazines_journals'],\n",
       "      dtype='object')"
      ]
     },
     "execution_count": 34,
     "metadata": {},
     "output_type": "execute_result"
    }
   ],
   "source": [
    "del_cols = []\n",
    "for i in range(len(missing_ratio)):\n",
    "    if missing_ratio[i] > 0.9:\n",
    "        del_cols.append(missing_ratio.index[i])\n",
    "df = df.drop(del_cols,axis=1)\n",
    "df.columns"
   ]
  },
  {
   "cell_type": "code",
   "execution_count": 35,
   "metadata": {},
   "outputs": [
    {
     "ename": "NameError",
     "evalue": "name 'sns' is not defined",
     "output_type": "error",
     "traceback": [
      "\u001b[1;31m---------------------------------------------------------------------------\u001b[0m",
      "\u001b[1;31mNameError\u001b[0m                                 Traceback (most recent call last)",
      "Cell \u001b[1;32mIn[35], line 1\u001b[0m\n\u001b[1;32m----> 1\u001b[0m \u001b[43msns\u001b[49m\u001b[38;5;241m.\u001b[39mheatmap(df\u001b[38;5;241m.\u001b[39misnull(),yticklabels\u001b[38;5;241m=\u001b[39m\u001b[38;5;28;01mFalse\u001b[39;00m,cbar\u001b[38;5;241m=\u001b[39m\u001b[38;5;28;01mFalse\u001b[39;00m,cmap\u001b[38;5;241m=\u001b[39m\u001b[38;5;124m'\u001b[39m\u001b[38;5;124mviridis\u001b[39m\u001b[38;5;124m'\u001b[39m)\n",
      "\u001b[1;31mNameError\u001b[0m: name 'sns' is not defined"
     ]
    }
   ],
   "source": [
    "sns.heatmap(df.isnull(),yticklabels=False,cbar=False,cmap='viridis')"
   ]
  }
 ],
 "metadata": {
  "kernelspec": {
   "display_name": "min_ds-env",
   "language": "python",
   "name": "python3"
  },
  "language_info": {
   "codemirror_mode": {
    "name": "ipython",
    "version": 3
   },
   "file_extension": ".py",
   "mimetype": "text/x-python",
   "name": "python",
   "nbconvert_exporter": "python",
   "pygments_lexer": "ipython3",
   "version": "3.10.8"
  }
 },
 "nbformat": 4,
 "nbformat_minor": 2
}
